{
  "cells": [
    {
      "cell_type": "markdown",
      "metadata": {
        "id": "view-in-github",
        "colab_type": "text"
      },
      "source": [
        "<a href=\"https://colab.research.google.com/github/akutayaydin/Magnimind-3/blob/main/Twitter_NLP_v8.ipynb\" target=\"_parent\"><img src=\"https://colab.research.google.com/assets/colab-badge.svg\" alt=\"Open In Colab\"/></a>"
      ]
    },
    {
      "cell_type": "markdown",
      "id": "2b248d95",
      "metadata": {
        "id": "2b248d95"
      },
      "source": [
        "# Twitter NLP Classification Project"
      ]
    },
    {
      "cell_type": "markdown",
      "id": "28e8a012",
      "metadata": {
        "id": "28e8a012"
      },
      "source": [
        "Goal: Create a ML model for Business Category tweets"
      ]
    },
    {
      "cell_type": "code",
      "execution_count": 2,
      "id": "f2c90128",
      "metadata": {
        "id": "f2c90128"
      },
      "outputs": [],
      "source": [
        "import pandas as pd"
      ]
    },
    {
      "cell_type": "code",
      "execution_count": 3,
      "id": "e527d9dc",
      "metadata": {
        "id": "e527d9dc"
      },
      "outputs": [],
      "source": [
        "#For Google Colab\n",
        "url ='https://raw.githubusercontent.com/akutayaydin/Magnimind-3/main/tweet_data_small_filtered.csv'\n",
        "df = pd.read_csv(url)"
      ]
    },
    {
      "cell_type": "code",
      "execution_count": 4,
      "id": "88750520",
      "metadata": {
        "id": "88750520"
      },
      "outputs": [],
      "source": [
        "#df = pd.read_csv('tweet_data.csv')"
      ]
    },
    {
      "cell_type": "code",
      "execution_count": 5,
      "id": "3aa8cd6b",
      "metadata": {
        "id": "3aa8cd6b"
      },
      "outputs": [],
      "source": [
        "#Select Business Category Only as Request\n",
        "df = df[df['topicName'] == 'Business']"
      ]
    },
    {
      "cell_type": "code",
      "source": [],
      "metadata": {
        "id": "VpHPUrGO7Vqg"
      },
      "id": "VpHPUrGO7Vqg",
      "execution_count": 5,
      "outputs": []
    },
    {
      "cell_type": "code",
      "execution_count": 63,
      "id": "c5e36af9",
      "metadata": {
        "colab": {
          "base_uri": "https://localhost:8080/",
          "height": 1000
        },
        "id": "c5e36af9",
        "outputId": "4e61874c-d544-423d-a961-fe0e7c1473f7"
      },
      "outputs": [
        {
          "output_type": "execute_result",
          "data": {
            "text/plain": [
              "                tweetID               crDate  edInput  editor  engages  \\\n",
              "0   1072758722315862021  2018-12-12 07:43:04        2    5001     9618   \n",
              "1   1072959907958276096  2018-12-12 21:02:31        2    5001    10388   \n",
              "2   1073329348755767303  2018-12-13 21:30:32        2    5001     6734   \n",
              "3   1073499538659393536  2018-12-14 08:46:49        1    5001     6914   \n",
              "4   1073542862573371392  2018-12-14 11:38:58        2    5001     6269   \n",
              "5   1074475798227226627  2018-12-17 01:26:07        2    5001     7701   \n",
              "6   1074056878542471169  2018-12-15 21:41:29        1    5001     6284   \n",
              "7   1074964829830557696  2018-12-18 09:49:21        2    5001     8678   \n",
              "8   1075269960086241281  2018-12-19 06:01:50        1    5001      786   \n",
              "9   1075315807666794496  2018-12-19 09:04:01        1    5001      664   \n",
              "10  1075324106902462464  2018-12-19 09:37:00        2    5001      808   \n",
              "11  1074399262941822976  2018-12-16 20:22:00        1    5001      898   \n",
              "12  1075356067704389633  2018-12-19 11:44:00        1    5001     1396   \n",
              "13  1075194001375051776  2018-12-19 01:00:00        1    5001      513   \n",
              "14  1075431432967909376  2018-12-19 16:43:28        1    5001      585   \n",
              "15  1075229232211595264  2018-12-19 03:20:00        2    5001     7411   \n",
              "16  1080487181284753408  2019-01-02 15:33:13        1    5001      805   \n",
              "17  1080503233959870464  2019-01-02 16:37:00        1    5001      951   \n",
              "18  1080529367221129216  2019-01-02 18:20:51        1    5001      452   \n",
              "19  1080529154657771520  2019-01-02 18:20:00        1    5001     1448   \n",
              "\n",
              "    isApproved  isEdNeed   isRT  likes  \\\n",
              "0        False      True   True   5771   \n",
              "1        False      True   True   6977   \n",
              "2        False      True   True   4467   \n",
              "3         True      True   True   5402   \n",
              "4        False      True   True   4610   \n",
              "5        False      True  False   5730   \n",
              "6         True      True   True   5207   \n",
              "7        False      True   True   5206   \n",
              "8         True      True  False    548   \n",
              "9         True      True  False    436   \n",
              "10       False      True  False    577   \n",
              "11        True      True   True    617   \n",
              "12        True      True   True    928   \n",
              "13        True      True   True    333   \n",
              "14        True      True  False    416   \n",
              "15       False      True   True   3703   \n",
              "16        True      True   True    626   \n",
              "17        True      True  False    611   \n",
              "18        True      True   True    318   \n",
              "19        True      True  False    974   \n",
              "\n",
              "                                           photoUrl  retweets    rtUsID  \\\n",
              "0                                               NaN      3847    621523   \n",
              "1   https://pbs.twimg.com/media/DuPrWYHW4AEXol3.jpg      3411    621523   \n",
              "2                                               NaN      2267   3108351   \n",
              "3                                               NaN      1512    621523   \n",
              "4                                               NaN      1659    621523   \n",
              "5                                               NaN      1971        -1   \n",
              "6                                               NaN      1077   2735591   \n",
              "7   https://pbs.twimg.com/media/DusKzteX4AASYwo.jpg      3472    621523   \n",
              "8                                               NaN       238        -1   \n",
              "9                                               NaN       228        -1   \n",
              "10                                              NaN       231        -1   \n",
              "11                                              NaN       281  20562637   \n",
              "12                                              NaN       468  20562637   \n",
              "13                                              NaN       180  20562637   \n",
              "14                                              NaN       169        -1   \n",
              "15                                              NaN      3708  20562637   \n",
              "16                                              NaN       179  34713362   \n",
              "17                                              NaN       340        -1   \n",
              "18                                              NaN       134  34713362   \n",
              "19                                              NaN       474        -1   \n",
              "\n",
              "                                                 text topicName   usFlwrs  \\\n",
              "0   UK Prime Minister Theresa May will face a vote...  Business  38564612   \n",
              "1   UK PM Theresa May wins confidence vote with 20...  Business  38567131   \n",
              "2   The probe of the inaugural fund partly arises ...  Business     57108   \n",
              "3   The week Brexit hit the brick wall :  Commons ...  Business    879928   \n",
              "4   Have watched these kinds of pictures looking f...  Business    888862   \n",
              "5   The world's most successful people start their...  Business   2700458   \n",
              "6   “This is Pearl Harbor. The whole country, and ...  Business     12423   \n",
              "7   Jose Mourinho has been sacked by Manchester Un...  Business   7573834   \n",
              "8   Pursue your ideas, no matter how obvious they ...  Business   5376604   \n",
              "9   You don’t have to choose between being a leade...  Business   5376647   \n",
              "10  Meet the brand new Bugatti Divo https://t.co/W...  Business   2508395   \n",
              "11  Add a second monitor for your laptop https://t...  Business    202145   \n",
              "12  Why Utah drops fish out of airplanes into its ...  Business    202159   \n",
              "13  We spent a day with one of the sanctuary's kee...  Business    290952   \n",
              "14  'Aquaman' has already made more money than its...  Business   2508580   \n",
              "15  Here's what 8 a.m. looks like around the world...  Business    291402   \n",
              "16  .@novogratz is putting more of his money where...  Business    112901   \n",
              "17  An exercise scientist explains why you shouldn...  Business   2515694   \n",
              "18  After a punishing year, crypto enthusiasts loo...  Business    112945   \n",
              "19  Honda's $4.9 million private jet is an absolut...  Business   2515714   \n",
              "\n",
              "                  usID              usName  \\\n",
              "0              5402612   BBC Breaking News   \n",
              "1              5402612   BBC Breaking News   \n",
              "2            705706292    Rebecca Ballhaus   \n",
              "3             25984418       Nick Robinson   \n",
              "4             61183568    Laura Kuenssberg   \n",
              "5             16896485                Inc.   \n",
              "6             41154223  Saikat Chakrabarti   \n",
              "7            265902729           BBC Sport   \n",
              "8             14800270  Harvard Biz Review   \n",
              "9             14800270  Harvard Biz Review   \n",
              "10            20562637    Business Insider   \n",
              "11          3224616765        Tech Insider   \n",
              "12          3224616765        Tech Insider   \n",
              "13          3226282347             INSIDER   \n",
              "14            20562637    Business Insider   \n",
              "15          3226282347             INSIDER   \n",
              "16  928759224599040001    Bloomberg Crypto   \n",
              "17            20562637    Business Insider   \n",
              "18  928759224599040001    Bloomberg Crypto   \n",
              "19            20562637    Business Insider   \n",
              "\n",
              "                                             videoUrl  \n",
              "0                                                 NaN  \n",
              "1                                                 NaN  \n",
              "2                                                 NaN  \n",
              "3                                                 NaN  \n",
              "4   https://video.twimg.com/ext_tw_video/107354281...  \n",
              "5                                                 NaN  \n",
              "6                                                 NaN  \n",
              "7                                                 NaN  \n",
              "8                                                 NaN  \n",
              "9                                                 NaN  \n",
              "10  https://video.twimg.com/amplify_video/10472281...  \n",
              "11  https://video.twimg.com/amplify_video/10279524...  \n",
              "12  https://video.twimg.com/amplify_video/10750606...  \n",
              "13  https://video.twimg.com/amplify_video/10729736...  \n",
              "14                                                NaN  \n",
              "15  https://video.twimg.com/amplify_video/96669604...  \n",
              "16                                                NaN  \n",
              "17  https://video.twimg.com/amplify_video/90626725...  \n",
              "18                                                NaN  \n",
              "19  https://video.twimg.com/amplify_video/91016543...  "
            ],
            "text/html": [
              "\n",
              "  <div id=\"df-be5cc553-1eaa-4a66-95c9-21d1de3c1c26\">\n",
              "    <div class=\"colab-df-container\">\n",
              "      <div>\n",
              "<style scoped>\n",
              "    .dataframe tbody tr th:only-of-type {\n",
              "        vertical-align: middle;\n",
              "    }\n",
              "\n",
              "    .dataframe tbody tr th {\n",
              "        vertical-align: top;\n",
              "    }\n",
              "\n",
              "    .dataframe thead th {\n",
              "        text-align: right;\n",
              "    }\n",
              "</style>\n",
              "<table border=\"1\" class=\"dataframe\">\n",
              "  <thead>\n",
              "    <tr style=\"text-align: right;\">\n",
              "      <th></th>\n",
              "      <th>tweetID</th>\n",
              "      <th>crDate</th>\n",
              "      <th>edInput</th>\n",
              "      <th>editor</th>\n",
              "      <th>engages</th>\n",
              "      <th>isApproved</th>\n",
              "      <th>isEdNeed</th>\n",
              "      <th>isRT</th>\n",
              "      <th>likes</th>\n",
              "      <th>photoUrl</th>\n",
              "      <th>retweets</th>\n",
              "      <th>rtUsID</th>\n",
              "      <th>text</th>\n",
              "      <th>topicName</th>\n",
              "      <th>usFlwrs</th>\n",
              "      <th>usID</th>\n",
              "      <th>usName</th>\n",
              "      <th>videoUrl</th>\n",
              "    </tr>\n",
              "  </thead>\n",
              "  <tbody>\n",
              "    <tr>\n",
              "      <th>0</th>\n",
              "      <td>1072758722315862021</td>\n",
              "      <td>2018-12-12 07:43:04</td>\n",
              "      <td>2</td>\n",
              "      <td>5001</td>\n",
              "      <td>9618</td>\n",
              "      <td>False</td>\n",
              "      <td>True</td>\n",
              "      <td>True</td>\n",
              "      <td>5771</td>\n",
              "      <td>NaN</td>\n",
              "      <td>3847</td>\n",
              "      <td>621523</td>\n",
              "      <td>UK Prime Minister Theresa May will face a vote...</td>\n",
              "      <td>Business</td>\n",
              "      <td>38564612</td>\n",
              "      <td>5402612</td>\n",
              "      <td>BBC Breaking News</td>\n",
              "      <td>NaN</td>\n",
              "    </tr>\n",
              "    <tr>\n",
              "      <th>1</th>\n",
              "      <td>1072959907958276096</td>\n",
              "      <td>2018-12-12 21:02:31</td>\n",
              "      <td>2</td>\n",
              "      <td>5001</td>\n",
              "      <td>10388</td>\n",
              "      <td>False</td>\n",
              "      <td>True</td>\n",
              "      <td>True</td>\n",
              "      <td>6977</td>\n",
              "      <td>https://pbs.twimg.com/media/DuPrWYHW4AEXol3.jpg</td>\n",
              "      <td>3411</td>\n",
              "      <td>621523</td>\n",
              "      <td>UK PM Theresa May wins confidence vote with 20...</td>\n",
              "      <td>Business</td>\n",
              "      <td>38567131</td>\n",
              "      <td>5402612</td>\n",
              "      <td>BBC Breaking News</td>\n",
              "      <td>NaN</td>\n",
              "    </tr>\n",
              "    <tr>\n",
              "      <th>2</th>\n",
              "      <td>1073329348755767303</td>\n",
              "      <td>2018-12-13 21:30:32</td>\n",
              "      <td>2</td>\n",
              "      <td>5001</td>\n",
              "      <td>6734</td>\n",
              "      <td>False</td>\n",
              "      <td>True</td>\n",
              "      <td>True</td>\n",
              "      <td>4467</td>\n",
              "      <td>NaN</td>\n",
              "      <td>2267</td>\n",
              "      <td>3108351</td>\n",
              "      <td>The probe of the inaugural fund partly arises ...</td>\n",
              "      <td>Business</td>\n",
              "      <td>57108</td>\n",
              "      <td>705706292</td>\n",
              "      <td>Rebecca Ballhaus</td>\n",
              "      <td>NaN</td>\n",
              "    </tr>\n",
              "    <tr>\n",
              "      <th>3</th>\n",
              "      <td>1073499538659393536</td>\n",
              "      <td>2018-12-14 08:46:49</td>\n",
              "      <td>1</td>\n",
              "      <td>5001</td>\n",
              "      <td>6914</td>\n",
              "      <td>True</td>\n",
              "      <td>True</td>\n",
              "      <td>True</td>\n",
              "      <td>5402</td>\n",
              "      <td>NaN</td>\n",
              "      <td>1512</td>\n",
              "      <td>621523</td>\n",
              "      <td>The week Brexit hit the brick wall :  Commons ...</td>\n",
              "      <td>Business</td>\n",
              "      <td>879928</td>\n",
              "      <td>25984418</td>\n",
              "      <td>Nick Robinson</td>\n",
              "      <td>NaN</td>\n",
              "    </tr>\n",
              "    <tr>\n",
              "      <th>4</th>\n",
              "      <td>1073542862573371392</td>\n",
              "      <td>2018-12-14 11:38:58</td>\n",
              "      <td>2</td>\n",
              "      <td>5001</td>\n",
              "      <td>6269</td>\n",
              "      <td>False</td>\n",
              "      <td>True</td>\n",
              "      <td>True</td>\n",
              "      <td>4610</td>\n",
              "      <td>NaN</td>\n",
              "      <td>1659</td>\n",
              "      <td>621523</td>\n",
              "      <td>Have watched these kinds of pictures looking f...</td>\n",
              "      <td>Business</td>\n",
              "      <td>888862</td>\n",
              "      <td>61183568</td>\n",
              "      <td>Laura Kuenssberg</td>\n",
              "      <td>https://video.twimg.com/ext_tw_video/107354281...</td>\n",
              "    </tr>\n",
              "    <tr>\n",
              "      <th>5</th>\n",
              "      <td>1074475798227226627</td>\n",
              "      <td>2018-12-17 01:26:07</td>\n",
              "      <td>2</td>\n",
              "      <td>5001</td>\n",
              "      <td>7701</td>\n",
              "      <td>False</td>\n",
              "      <td>True</td>\n",
              "      <td>False</td>\n",
              "      <td>5730</td>\n",
              "      <td>NaN</td>\n",
              "      <td>1971</td>\n",
              "      <td>-1</td>\n",
              "      <td>The world's most successful people start their...</td>\n",
              "      <td>Business</td>\n",
              "      <td>2700458</td>\n",
              "      <td>16896485</td>\n",
              "      <td>Inc.</td>\n",
              "      <td>NaN</td>\n",
              "    </tr>\n",
              "    <tr>\n",
              "      <th>6</th>\n",
              "      <td>1074056878542471169</td>\n",
              "      <td>2018-12-15 21:41:29</td>\n",
              "      <td>1</td>\n",
              "      <td>5001</td>\n",
              "      <td>6284</td>\n",
              "      <td>True</td>\n",
              "      <td>True</td>\n",
              "      <td>True</td>\n",
              "      <td>5207</td>\n",
              "      <td>NaN</td>\n",
              "      <td>1077</td>\n",
              "      <td>2735591</td>\n",
              "      <td>“This is Pearl Harbor. The whole country, and ...</td>\n",
              "      <td>Business</td>\n",
              "      <td>12423</td>\n",
              "      <td>41154223</td>\n",
              "      <td>Saikat Chakrabarti</td>\n",
              "      <td>NaN</td>\n",
              "    </tr>\n",
              "    <tr>\n",
              "      <th>7</th>\n",
              "      <td>1074964829830557696</td>\n",
              "      <td>2018-12-18 09:49:21</td>\n",
              "      <td>2</td>\n",
              "      <td>5001</td>\n",
              "      <td>8678</td>\n",
              "      <td>False</td>\n",
              "      <td>True</td>\n",
              "      <td>True</td>\n",
              "      <td>5206</td>\n",
              "      <td>https://pbs.twimg.com/media/DusKzteX4AASYwo.jpg</td>\n",
              "      <td>3472</td>\n",
              "      <td>621523</td>\n",
              "      <td>Jose Mourinho has been sacked by Manchester Un...</td>\n",
              "      <td>Business</td>\n",
              "      <td>7573834</td>\n",
              "      <td>265902729</td>\n",
              "      <td>BBC Sport</td>\n",
              "      <td>NaN</td>\n",
              "    </tr>\n",
              "    <tr>\n",
              "      <th>8</th>\n",
              "      <td>1075269960086241281</td>\n",
              "      <td>2018-12-19 06:01:50</td>\n",
              "      <td>1</td>\n",
              "      <td>5001</td>\n",
              "      <td>786</td>\n",
              "      <td>True</td>\n",
              "      <td>True</td>\n",
              "      <td>False</td>\n",
              "      <td>548</td>\n",
              "      <td>NaN</td>\n",
              "      <td>238</td>\n",
              "      <td>-1</td>\n",
              "      <td>Pursue your ideas, no matter how obvious they ...</td>\n",
              "      <td>Business</td>\n",
              "      <td>5376604</td>\n",
              "      <td>14800270</td>\n",
              "      <td>Harvard Biz Review</td>\n",
              "      <td>NaN</td>\n",
              "    </tr>\n",
              "    <tr>\n",
              "      <th>9</th>\n",
              "      <td>1075315807666794496</td>\n",
              "      <td>2018-12-19 09:04:01</td>\n",
              "      <td>1</td>\n",
              "      <td>5001</td>\n",
              "      <td>664</td>\n",
              "      <td>True</td>\n",
              "      <td>True</td>\n",
              "      <td>False</td>\n",
              "      <td>436</td>\n",
              "      <td>NaN</td>\n",
              "      <td>228</td>\n",
              "      <td>-1</td>\n",
              "      <td>You don’t have to choose between being a leade...</td>\n",
              "      <td>Business</td>\n",
              "      <td>5376647</td>\n",
              "      <td>14800270</td>\n",
              "      <td>Harvard Biz Review</td>\n",
              "      <td>NaN</td>\n",
              "    </tr>\n",
              "    <tr>\n",
              "      <th>10</th>\n",
              "      <td>1075324106902462464</td>\n",
              "      <td>2018-12-19 09:37:00</td>\n",
              "      <td>2</td>\n",
              "      <td>5001</td>\n",
              "      <td>808</td>\n",
              "      <td>False</td>\n",
              "      <td>True</td>\n",
              "      <td>False</td>\n",
              "      <td>577</td>\n",
              "      <td>NaN</td>\n",
              "      <td>231</td>\n",
              "      <td>-1</td>\n",
              "      <td>Meet the brand new Bugatti Divo https://t.co/W...</td>\n",
              "      <td>Business</td>\n",
              "      <td>2508395</td>\n",
              "      <td>20562637</td>\n",
              "      <td>Business Insider</td>\n",
              "      <td>https://video.twimg.com/amplify_video/10472281...</td>\n",
              "    </tr>\n",
              "    <tr>\n",
              "      <th>11</th>\n",
              "      <td>1074399262941822976</td>\n",
              "      <td>2018-12-16 20:22:00</td>\n",
              "      <td>1</td>\n",
              "      <td>5001</td>\n",
              "      <td>898</td>\n",
              "      <td>True</td>\n",
              "      <td>True</td>\n",
              "      <td>True</td>\n",
              "      <td>617</td>\n",
              "      <td>NaN</td>\n",
              "      <td>281</td>\n",
              "      <td>20562637</td>\n",
              "      <td>Add a second monitor for your laptop https://t...</td>\n",
              "      <td>Business</td>\n",
              "      <td>202145</td>\n",
              "      <td>3224616765</td>\n",
              "      <td>Tech Insider</td>\n",
              "      <td>https://video.twimg.com/amplify_video/10279524...</td>\n",
              "    </tr>\n",
              "    <tr>\n",
              "      <th>12</th>\n",
              "      <td>1075356067704389633</td>\n",
              "      <td>2018-12-19 11:44:00</td>\n",
              "      <td>1</td>\n",
              "      <td>5001</td>\n",
              "      <td>1396</td>\n",
              "      <td>True</td>\n",
              "      <td>True</td>\n",
              "      <td>True</td>\n",
              "      <td>928</td>\n",
              "      <td>NaN</td>\n",
              "      <td>468</td>\n",
              "      <td>20562637</td>\n",
              "      <td>Why Utah drops fish out of airplanes into its ...</td>\n",
              "      <td>Business</td>\n",
              "      <td>202159</td>\n",
              "      <td>3224616765</td>\n",
              "      <td>Tech Insider</td>\n",
              "      <td>https://video.twimg.com/amplify_video/10750606...</td>\n",
              "    </tr>\n",
              "    <tr>\n",
              "      <th>13</th>\n",
              "      <td>1075194001375051776</td>\n",
              "      <td>2018-12-19 01:00:00</td>\n",
              "      <td>1</td>\n",
              "      <td>5001</td>\n",
              "      <td>513</td>\n",
              "      <td>True</td>\n",
              "      <td>True</td>\n",
              "      <td>True</td>\n",
              "      <td>333</td>\n",
              "      <td>NaN</td>\n",
              "      <td>180</td>\n",
              "      <td>20562637</td>\n",
              "      <td>We spent a day with one of the sanctuary's kee...</td>\n",
              "      <td>Business</td>\n",
              "      <td>290952</td>\n",
              "      <td>3226282347</td>\n",
              "      <td>INSIDER</td>\n",
              "      <td>https://video.twimg.com/amplify_video/10729736...</td>\n",
              "    </tr>\n",
              "    <tr>\n",
              "      <th>14</th>\n",
              "      <td>1075431432967909376</td>\n",
              "      <td>2018-12-19 16:43:28</td>\n",
              "      <td>1</td>\n",
              "      <td>5001</td>\n",
              "      <td>585</td>\n",
              "      <td>True</td>\n",
              "      <td>True</td>\n",
              "      <td>False</td>\n",
              "      <td>416</td>\n",
              "      <td>NaN</td>\n",
              "      <td>169</td>\n",
              "      <td>-1</td>\n",
              "      <td>'Aquaman' has already made more money than its...</td>\n",
              "      <td>Business</td>\n",
              "      <td>2508580</td>\n",
              "      <td>20562637</td>\n",
              "      <td>Business Insider</td>\n",
              "      <td>NaN</td>\n",
              "    </tr>\n",
              "    <tr>\n",
              "      <th>15</th>\n",
              "      <td>1075229232211595264</td>\n",
              "      <td>2018-12-19 03:20:00</td>\n",
              "      <td>2</td>\n",
              "      <td>5001</td>\n",
              "      <td>7411</td>\n",
              "      <td>False</td>\n",
              "      <td>True</td>\n",
              "      <td>True</td>\n",
              "      <td>3703</td>\n",
              "      <td>NaN</td>\n",
              "      <td>3708</td>\n",
              "      <td>20562637</td>\n",
              "      <td>Here's what 8 a.m. looks like around the world...</td>\n",
              "      <td>Business</td>\n",
              "      <td>291402</td>\n",
              "      <td>3226282347</td>\n",
              "      <td>INSIDER</td>\n",
              "      <td>https://video.twimg.com/amplify_video/96669604...</td>\n",
              "    </tr>\n",
              "    <tr>\n",
              "      <th>16</th>\n",
              "      <td>1080487181284753408</td>\n",
              "      <td>2019-01-02 15:33:13</td>\n",
              "      <td>1</td>\n",
              "      <td>5001</td>\n",
              "      <td>805</td>\n",
              "      <td>True</td>\n",
              "      <td>True</td>\n",
              "      <td>True</td>\n",
              "      <td>626</td>\n",
              "      <td>NaN</td>\n",
              "      <td>179</td>\n",
              "      <td>34713362</td>\n",
              "      <td>.@novogratz is putting more of his money where...</td>\n",
              "      <td>Business</td>\n",
              "      <td>112901</td>\n",
              "      <td>928759224599040001</td>\n",
              "      <td>Bloomberg Crypto</td>\n",
              "      <td>NaN</td>\n",
              "    </tr>\n",
              "    <tr>\n",
              "      <th>17</th>\n",
              "      <td>1080503233959870464</td>\n",
              "      <td>2019-01-02 16:37:00</td>\n",
              "      <td>1</td>\n",
              "      <td>5001</td>\n",
              "      <td>951</td>\n",
              "      <td>True</td>\n",
              "      <td>True</td>\n",
              "      <td>False</td>\n",
              "      <td>611</td>\n",
              "      <td>NaN</td>\n",
              "      <td>340</td>\n",
              "      <td>-1</td>\n",
              "      <td>An exercise scientist explains why you shouldn...</td>\n",
              "      <td>Business</td>\n",
              "      <td>2515694</td>\n",
              "      <td>20562637</td>\n",
              "      <td>Business Insider</td>\n",
              "      <td>https://video.twimg.com/amplify_video/90626725...</td>\n",
              "    </tr>\n",
              "    <tr>\n",
              "      <th>18</th>\n",
              "      <td>1080529367221129216</td>\n",
              "      <td>2019-01-02 18:20:51</td>\n",
              "      <td>1</td>\n",
              "      <td>5001</td>\n",
              "      <td>452</td>\n",
              "      <td>True</td>\n",
              "      <td>True</td>\n",
              "      <td>True</td>\n",
              "      <td>318</td>\n",
              "      <td>NaN</td>\n",
              "      <td>134</td>\n",
              "      <td>34713362</td>\n",
              "      <td>After a punishing year, crypto enthusiasts loo...</td>\n",
              "      <td>Business</td>\n",
              "      <td>112945</td>\n",
              "      <td>928759224599040001</td>\n",
              "      <td>Bloomberg Crypto</td>\n",
              "      <td>NaN</td>\n",
              "    </tr>\n",
              "    <tr>\n",
              "      <th>19</th>\n",
              "      <td>1080529154657771520</td>\n",
              "      <td>2019-01-02 18:20:00</td>\n",
              "      <td>1</td>\n",
              "      <td>5001</td>\n",
              "      <td>1448</td>\n",
              "      <td>True</td>\n",
              "      <td>True</td>\n",
              "      <td>False</td>\n",
              "      <td>974</td>\n",
              "      <td>NaN</td>\n",
              "      <td>474</td>\n",
              "      <td>-1</td>\n",
              "      <td>Honda's $4.9 million private jet is an absolut...</td>\n",
              "      <td>Business</td>\n",
              "      <td>2515714</td>\n",
              "      <td>20562637</td>\n",
              "      <td>Business Insider</td>\n",
              "      <td>https://video.twimg.com/amplify_video/91016543...</td>\n",
              "    </tr>\n",
              "  </tbody>\n",
              "</table>\n",
              "</div>\n",
              "      <button class=\"colab-df-convert\" onclick=\"convertToInteractive('df-be5cc553-1eaa-4a66-95c9-21d1de3c1c26')\"\n",
              "              title=\"Convert this dataframe to an interactive table.\"\n",
              "              style=\"display:none;\">\n",
              "        \n",
              "  <svg xmlns=\"http://www.w3.org/2000/svg\" height=\"24px\"viewBox=\"0 0 24 24\"\n",
              "       width=\"24px\">\n",
              "    <path d=\"M0 0h24v24H0V0z\" fill=\"none\"/>\n",
              "    <path d=\"M18.56 5.44l.94 2.06.94-2.06 2.06-.94-2.06-.94-.94-2.06-.94 2.06-2.06.94zm-11 1L8.5 8.5l.94-2.06 2.06-.94-2.06-.94L8.5 2.5l-.94 2.06-2.06.94zm10 10l.94 2.06.94-2.06 2.06-.94-2.06-.94-.94-2.06-.94 2.06-2.06.94z\"/><path d=\"M17.41 7.96l-1.37-1.37c-.4-.4-.92-.59-1.43-.59-.52 0-1.04.2-1.43.59L10.3 9.45l-7.72 7.72c-.78.78-.78 2.05 0 2.83L4 21.41c.39.39.9.59 1.41.59.51 0 1.02-.2 1.41-.59l7.78-7.78 2.81-2.81c.8-.78.8-2.07 0-2.86zM5.41 20L4 18.59l7.72-7.72 1.47 1.35L5.41 20z\"/>\n",
              "  </svg>\n",
              "      </button>\n",
              "      \n",
              "  <style>\n",
              "    .colab-df-container {\n",
              "      display:flex;\n",
              "      flex-wrap:wrap;\n",
              "      gap: 12px;\n",
              "    }\n",
              "\n",
              "    .colab-df-convert {\n",
              "      background-color: #E8F0FE;\n",
              "      border: none;\n",
              "      border-radius: 50%;\n",
              "      cursor: pointer;\n",
              "      display: none;\n",
              "      fill: #1967D2;\n",
              "      height: 32px;\n",
              "      padding: 0 0 0 0;\n",
              "      width: 32px;\n",
              "    }\n",
              "\n",
              "    .colab-df-convert:hover {\n",
              "      background-color: #E2EBFA;\n",
              "      box-shadow: 0px 1px 2px rgba(60, 64, 67, 0.3), 0px 1px 3px 1px rgba(60, 64, 67, 0.15);\n",
              "      fill: #174EA6;\n",
              "    }\n",
              "\n",
              "    [theme=dark] .colab-df-convert {\n",
              "      background-color: #3B4455;\n",
              "      fill: #D2E3FC;\n",
              "    }\n",
              "\n",
              "    [theme=dark] .colab-df-convert:hover {\n",
              "      background-color: #434B5C;\n",
              "      box-shadow: 0px 1px 3px 1px rgba(0, 0, 0, 0.15);\n",
              "      filter: drop-shadow(0px 1px 2px rgba(0, 0, 0, 0.3));\n",
              "      fill: #FFFFFF;\n",
              "    }\n",
              "  </style>\n",
              "\n",
              "      <script>\n",
              "        const buttonEl =\n",
              "          document.querySelector('#df-be5cc553-1eaa-4a66-95c9-21d1de3c1c26 button.colab-df-convert');\n",
              "        buttonEl.style.display =\n",
              "          google.colab.kernel.accessAllowed ? 'block' : 'none';\n",
              "\n",
              "        async function convertToInteractive(key) {\n",
              "          const element = document.querySelector('#df-be5cc553-1eaa-4a66-95c9-21d1de3c1c26');\n",
              "          const dataTable =\n",
              "            await google.colab.kernel.invokeFunction('convertToInteractive',\n",
              "                                                     [key], {});\n",
              "          if (!dataTable) return;\n",
              "\n",
              "          const docLinkHtml = 'Like what you see? Visit the ' +\n",
              "            '<a target=\"_blank\" href=https://colab.research.google.com/notebooks/data_table.ipynb>data table notebook</a>'\n",
              "            + ' to learn more about interactive tables.';\n",
              "          element.innerHTML = '';\n",
              "          dataTable['output_type'] = 'display_data';\n",
              "          await google.colab.output.renderOutput(dataTable, element);\n",
              "          const docLink = document.createElement('div');\n",
              "          docLink.innerHTML = docLinkHtml;\n",
              "          element.appendChild(docLink);\n",
              "        }\n",
              "      </script>\n",
              "    </div>\n",
              "  </div>\n",
              "  "
            ]
          },
          "metadata": {},
          "execution_count": 63
        }
      ],
      "source": [
        "df.head(20)"
      ]
    },
    {
      "cell_type": "code",
      "source": [
        "df.info()"
      ],
      "metadata": {
        "colab": {
          "base_uri": "https://localhost:8080/"
        },
        "id": "zcOsz-8s4gkC",
        "outputId": "8e66464a-818b-47ac-b951-92c50917cf6e"
      },
      "id": "zcOsz-8s4gkC",
      "execution_count": 31,
      "outputs": [
        {
          "output_type": "stream",
          "name": "stdout",
          "text": [
            "<class 'pandas.core.frame.DataFrame'>\n",
            "Int64Index: 30024 entries, 0 to 30023\n",
            "Data columns (total 18 columns):\n",
            " #   Column      Non-Null Count  Dtype \n",
            "---  ------      --------------  ----- \n",
            " 0   tweetID     30024 non-null  int64 \n",
            " 1   crDate      30024 non-null  object\n",
            " 2   edInput     30024 non-null  int64 \n",
            " 3   editor      30024 non-null  int64 \n",
            " 4   engages     30024 non-null  int64 \n",
            " 5   isApproved  30024 non-null  bool  \n",
            " 6   isEdNeed    30024 non-null  bool  \n",
            " 7   isRT        30024 non-null  bool  \n",
            " 8   likes       30024 non-null  int64 \n",
            " 9   photoUrl    2389 non-null   object\n",
            " 10  retweets    30024 non-null  int64 \n",
            " 11  rtUsID      30024 non-null  int64 \n",
            " 12  text        30024 non-null  object\n",
            " 13  topicName   30024 non-null  object\n",
            " 14  usFlwrs     30024 non-null  int64 \n",
            " 15  usID        30024 non-null  int64 \n",
            " 16  usName      30024 non-null  object\n",
            " 17  videoUrl    7184 non-null   object\n",
            "dtypes: bool(3), int64(9), object(6)\n",
            "memory usage: 4.8+ MB\n"
          ]
        }
      ]
    },
    {
      "cell_type": "code",
      "source": [
        "list(df.iloc[11:19,12]),list(df.iloc[11:19,2])\n",
        "#I am assuming edInput\n",
        "#Category 1: Non-Business\n",
        "#Category 2: Business"
      ],
      "metadata": {
        "colab": {
          "base_uri": "https://localhost:8080/"
        },
        "id": "YNdOklC_4E4e",
        "outputId": "d0c15abc-f8e7-4db9-dfc5-efc3824c7794"
      },
      "id": "YNdOklC_4E4e",
      "execution_count": 66,
      "outputs": [
        {
          "output_type": "execute_result",
          "data": {
            "text/plain": [
              "(['Add a second monitor for your laptop https://t.co/4FlNf4wQKX',\n",
              "  'Why Utah drops fish out of airplanes into its mountain lakes https://t.co/ZYY1cw9qLU',\n",
              "  \"We spent a day with one of the sanctuary's keepers to see what it takes to work with these beautiful, but incredibly dangerous animals 🦁 https://t.co/95J2GREqVl\",\n",
              "  \"'Aquaman' has already made more money than its production budget, and is looking at a big opening in the US https://t.co/RjvSmOFIpN\",\n",
              "  \"Here's what 8 a.m. looks like around the world 🌏 https://t.co/kP01YudSSw\",\n",
              "  '.@novogratz is putting more of his money where his mouth is when it comes to cryptocurrencies https://t.co/yPvmfXqJbQ',\n",
              "  \"An exercise scientist explains why you shouldn't do sit-ups or crunches https://t.co/UkCtOQmCR9\",\n",
              "  'After a punishing year, crypto enthusiasts looking for a fresh start in 2019 are being greeted by some positive technical signals https://t.co/nVgzz77fIR'],\n",
              " [1, 1, 1, 1, 2, 1, 1, 1])"
            ]
          },
          "metadata": {},
          "execution_count": 66
        }
      ]
    },
    {
      "cell_type": "code",
      "execution_count": 33,
      "id": "8fa406ff",
      "metadata": {
        "colab": {
          "base_uri": "https://localhost:8080/"
        },
        "id": "8fa406ff",
        "outputId": "9c1df151-21a1-4779-8c92-33052b5f1ab9"
      },
      "outputs": [
        {
          "output_type": "stream",
          "name": "stdout",
          "text": [
            "<class 'pandas.core.frame.DataFrame'>\n",
            "Int64Index: 30024 entries, 0 to 30023\n",
            "Data columns (total 18 columns):\n",
            " #   Column      Non-Null Count  Dtype \n",
            "---  ------      --------------  ----- \n",
            " 0   tweetID     30024 non-null  int64 \n",
            " 1   crDate      30024 non-null  object\n",
            " 2   edInput     30024 non-null  int64 \n",
            " 3   editor      30024 non-null  int64 \n",
            " 4   engages     30024 non-null  int64 \n",
            " 5   isApproved  30024 non-null  bool  \n",
            " 6   isEdNeed    30024 non-null  bool  \n",
            " 7   isRT        30024 non-null  bool  \n",
            " 8   likes       30024 non-null  int64 \n",
            " 9   photoUrl    2389 non-null   object\n",
            " 10  retweets    30024 non-null  int64 \n",
            " 11  rtUsID      30024 non-null  int64 \n",
            " 12  text        30024 non-null  object\n",
            " 13  topicName   30024 non-null  object\n",
            " 14  usFlwrs     30024 non-null  int64 \n",
            " 15  usID        30024 non-null  int64 \n",
            " 16  usName      30024 non-null  object\n",
            " 17  videoUrl    7184 non-null   object\n",
            "dtypes: bool(3), int64(9), object(6)\n",
            "memory usage: 4.8+ MB\n"
          ]
        }
      ],
      "source": [
        "df.info()"
      ]
    },
    {
      "cell_type": "markdown",
      "id": "4c3b73a0",
      "metadata": {
        "id": "4c3b73a0"
      },
      "source": [
        ">Preprocessing starts here"
      ]
    },
    {
      "cell_type": "code",
      "execution_count": 34,
      "id": "2138b18f",
      "metadata": {
        "id": "2138b18f"
      },
      "outputs": [],
      "source": [
        "df_section = df[['tweetID','text','topicName','usID','usName','edInput','crDate']].copy()"
      ]
    },
    {
      "cell_type": "markdown",
      "id": "12bde302",
      "metadata": {
        "id": "12bde302"
      },
      "source": [
        "We dont need these columns.\n",
        "5 unique values for edInput : (5, array([-1,  2,  1,  4,  3]))\n",
        "2 unique values for isApproved: (2, array([False,  True]))\n",
        "12 unique values for editor: (12,\n",
        " array([  -1, 5001, 5003, 5004, 5002, 1001, 2001, 5006, 5101, 5005, 5008,\n",
        "        5007]))\n",
        "42 unique values for topicname:(42,\n",
        " array(['Business', 'Animal', 'Memes', 'Nature', 'Travel', 'Interesting',\n",
        "        'News', 'Fashion', 'Art', 'Personal Development', 'Motivational',\n",
        "        'DIY & Craft', 'Editorial Pics', 'Funny', 'Poem', 'World Leaders',\n",
        "        'Entrepreneurship', 'US News', 'Journalists', 'Flowers',\n",
        "        'Cryptocurrency', 'Photography', 'Design & Architecture',\n",
        "        'Fitness', 'Spirituality', 'Startup', 'Space', 'Technology',\n",
        "        'Digital Media & Internet', 'Psychology', 'Science', 'Basketball',\n",
        "        'Humor', 'Mindfulness', 'Medical', 'Informative', 'Love', 'Stocks',\n",
        "        'Nanotech', 'Biotech', 'science', 'Random'], dtype=object))"
      ]
    },
    {
      "cell_type": "code",
      "execution_count": 35,
      "id": "481d2983",
      "metadata": {
        "id": "481d2983"
      },
      "outputs": [],
      "source": [
        "#Remove duplicates from the dataframe"
      ]
    },
    {
      "cell_type": "code",
      "execution_count": 36,
      "id": "382a55bf",
      "metadata": {
        "id": "382a55bf"
      },
      "outputs": [],
      "source": [
        "df_section = df_section.drop_duplicates(subset='text')"
      ]
    },
    {
      "cell_type": "code",
      "execution_count": 37,
      "id": "0d4dda52",
      "metadata": {
        "colab": {
          "base_uri": "https://localhost:8080/",
          "height": 204
        },
        "id": "0d4dda52",
        "outputId": "f2adab7f-c6a4-4049-da8b-950500d533e9"
      },
      "outputs": [
        {
          "output_type": "execute_result",
          "data": {
            "text/plain": [
              "               tweetID                                               text  \\\n",
              "0  1072758722315862021  UK Prime Minister Theresa May will face a vote...   \n",
              "1  1072959907958276096  UK PM Theresa May wins confidence vote with 20...   \n",
              "2  1073329348755767303  The probe of the inaugural fund partly arises ...   \n",
              "3  1073499538659393536  The week Brexit hit the brick wall :  Commons ...   \n",
              "4  1073542862573371392  Have watched these kinds of pictures looking f...   \n",
              "\n",
              "  topicName       usID             usName  edInput               crDate  \n",
              "0  Business    5402612  BBC Breaking News        2  2018-12-12 07:43:04  \n",
              "1  Business    5402612  BBC Breaking News        2  2018-12-12 21:02:31  \n",
              "2  Business  705706292   Rebecca Ballhaus        2  2018-12-13 21:30:32  \n",
              "3  Business   25984418      Nick Robinson        1  2018-12-14 08:46:49  \n",
              "4  Business   61183568   Laura Kuenssberg        2  2018-12-14 11:38:58  "
            ],
            "text/html": [
              "\n",
              "  <div id=\"df-916a8cdb-2121-416c-a923-8ac0bdc8d811\">\n",
              "    <div class=\"colab-df-container\">\n",
              "      <div>\n",
              "<style scoped>\n",
              "    .dataframe tbody tr th:only-of-type {\n",
              "        vertical-align: middle;\n",
              "    }\n",
              "\n",
              "    .dataframe tbody tr th {\n",
              "        vertical-align: top;\n",
              "    }\n",
              "\n",
              "    .dataframe thead th {\n",
              "        text-align: right;\n",
              "    }\n",
              "</style>\n",
              "<table border=\"1\" class=\"dataframe\">\n",
              "  <thead>\n",
              "    <tr style=\"text-align: right;\">\n",
              "      <th></th>\n",
              "      <th>tweetID</th>\n",
              "      <th>text</th>\n",
              "      <th>topicName</th>\n",
              "      <th>usID</th>\n",
              "      <th>usName</th>\n",
              "      <th>edInput</th>\n",
              "      <th>crDate</th>\n",
              "    </tr>\n",
              "  </thead>\n",
              "  <tbody>\n",
              "    <tr>\n",
              "      <th>0</th>\n",
              "      <td>1072758722315862021</td>\n",
              "      <td>UK Prime Minister Theresa May will face a vote...</td>\n",
              "      <td>Business</td>\n",
              "      <td>5402612</td>\n",
              "      <td>BBC Breaking News</td>\n",
              "      <td>2</td>\n",
              "      <td>2018-12-12 07:43:04</td>\n",
              "    </tr>\n",
              "    <tr>\n",
              "      <th>1</th>\n",
              "      <td>1072959907958276096</td>\n",
              "      <td>UK PM Theresa May wins confidence vote with 20...</td>\n",
              "      <td>Business</td>\n",
              "      <td>5402612</td>\n",
              "      <td>BBC Breaking News</td>\n",
              "      <td>2</td>\n",
              "      <td>2018-12-12 21:02:31</td>\n",
              "    </tr>\n",
              "    <tr>\n",
              "      <th>2</th>\n",
              "      <td>1073329348755767303</td>\n",
              "      <td>The probe of the inaugural fund partly arises ...</td>\n",
              "      <td>Business</td>\n",
              "      <td>705706292</td>\n",
              "      <td>Rebecca Ballhaus</td>\n",
              "      <td>2</td>\n",
              "      <td>2018-12-13 21:30:32</td>\n",
              "    </tr>\n",
              "    <tr>\n",
              "      <th>3</th>\n",
              "      <td>1073499538659393536</td>\n",
              "      <td>The week Brexit hit the brick wall :  Commons ...</td>\n",
              "      <td>Business</td>\n",
              "      <td>25984418</td>\n",
              "      <td>Nick Robinson</td>\n",
              "      <td>1</td>\n",
              "      <td>2018-12-14 08:46:49</td>\n",
              "    </tr>\n",
              "    <tr>\n",
              "      <th>4</th>\n",
              "      <td>1073542862573371392</td>\n",
              "      <td>Have watched these kinds of pictures looking f...</td>\n",
              "      <td>Business</td>\n",
              "      <td>61183568</td>\n",
              "      <td>Laura Kuenssberg</td>\n",
              "      <td>2</td>\n",
              "      <td>2018-12-14 11:38:58</td>\n",
              "    </tr>\n",
              "  </tbody>\n",
              "</table>\n",
              "</div>\n",
              "      <button class=\"colab-df-convert\" onclick=\"convertToInteractive('df-916a8cdb-2121-416c-a923-8ac0bdc8d811')\"\n",
              "              title=\"Convert this dataframe to an interactive table.\"\n",
              "              style=\"display:none;\">\n",
              "        \n",
              "  <svg xmlns=\"http://www.w3.org/2000/svg\" height=\"24px\"viewBox=\"0 0 24 24\"\n",
              "       width=\"24px\">\n",
              "    <path d=\"M0 0h24v24H0V0z\" fill=\"none\"/>\n",
              "    <path d=\"M18.56 5.44l.94 2.06.94-2.06 2.06-.94-2.06-.94-.94-2.06-.94 2.06-2.06.94zm-11 1L8.5 8.5l.94-2.06 2.06-.94-2.06-.94L8.5 2.5l-.94 2.06-2.06.94zm10 10l.94 2.06.94-2.06 2.06-.94-2.06-.94-.94-2.06-.94 2.06-2.06.94z\"/><path d=\"M17.41 7.96l-1.37-1.37c-.4-.4-.92-.59-1.43-.59-.52 0-1.04.2-1.43.59L10.3 9.45l-7.72 7.72c-.78.78-.78 2.05 0 2.83L4 21.41c.39.39.9.59 1.41.59.51 0 1.02-.2 1.41-.59l7.78-7.78 2.81-2.81c.8-.78.8-2.07 0-2.86zM5.41 20L4 18.59l7.72-7.72 1.47 1.35L5.41 20z\"/>\n",
              "  </svg>\n",
              "      </button>\n",
              "      \n",
              "  <style>\n",
              "    .colab-df-container {\n",
              "      display:flex;\n",
              "      flex-wrap:wrap;\n",
              "      gap: 12px;\n",
              "    }\n",
              "\n",
              "    .colab-df-convert {\n",
              "      background-color: #E8F0FE;\n",
              "      border: none;\n",
              "      border-radius: 50%;\n",
              "      cursor: pointer;\n",
              "      display: none;\n",
              "      fill: #1967D2;\n",
              "      height: 32px;\n",
              "      padding: 0 0 0 0;\n",
              "      width: 32px;\n",
              "    }\n",
              "\n",
              "    .colab-df-convert:hover {\n",
              "      background-color: #E2EBFA;\n",
              "      box-shadow: 0px 1px 2px rgba(60, 64, 67, 0.3), 0px 1px 3px 1px rgba(60, 64, 67, 0.15);\n",
              "      fill: #174EA6;\n",
              "    }\n",
              "\n",
              "    [theme=dark] .colab-df-convert {\n",
              "      background-color: #3B4455;\n",
              "      fill: #D2E3FC;\n",
              "    }\n",
              "\n",
              "    [theme=dark] .colab-df-convert:hover {\n",
              "      background-color: #434B5C;\n",
              "      box-shadow: 0px 1px 3px 1px rgba(0, 0, 0, 0.15);\n",
              "      filter: drop-shadow(0px 1px 2px rgba(0, 0, 0, 0.3));\n",
              "      fill: #FFFFFF;\n",
              "    }\n",
              "  </style>\n",
              "\n",
              "      <script>\n",
              "        const buttonEl =\n",
              "          document.querySelector('#df-916a8cdb-2121-416c-a923-8ac0bdc8d811 button.colab-df-convert');\n",
              "        buttonEl.style.display =\n",
              "          google.colab.kernel.accessAllowed ? 'block' : 'none';\n",
              "\n",
              "        async function convertToInteractive(key) {\n",
              "          const element = document.querySelector('#df-916a8cdb-2121-416c-a923-8ac0bdc8d811');\n",
              "          const dataTable =\n",
              "            await google.colab.kernel.invokeFunction('convertToInteractive',\n",
              "                                                     [key], {});\n",
              "          if (!dataTable) return;\n",
              "\n",
              "          const docLinkHtml = 'Like what you see? Visit the ' +\n",
              "            '<a target=\"_blank\" href=https://colab.research.google.com/notebooks/data_table.ipynb>data table notebook</a>'\n",
              "            + ' to learn more about interactive tables.';\n",
              "          element.innerHTML = '';\n",
              "          dataTable['output_type'] = 'display_data';\n",
              "          await google.colab.output.renderOutput(dataTable, element);\n",
              "          const docLink = document.createElement('div');\n",
              "          docLink.innerHTML = docLinkHtml;\n",
              "          element.appendChild(docLink);\n",
              "        }\n",
              "      </script>\n",
              "    </div>\n",
              "  </div>\n",
              "  "
            ]
          },
          "metadata": {},
          "execution_count": 37
        }
      ],
      "source": [
        "df_section.head()"
      ]
    },
    {
      "cell_type": "markdown",
      "source": [
        ">Preprocessing ends here"
      ],
      "metadata": {
        "id": "gWOVdIEy5pKq"
      },
      "id": "gWOVdIEy5pKq"
    },
    {
      "cell_type": "markdown",
      "id": "8852f1e0",
      "metadata": {
        "id": "8852f1e0"
      },
      "source": [
        ">Text Processing and Tokenization starts here"
      ]
    },
    {
      "cell_type": "code",
      "source": [
        "#1. Tokenize text column and save it as a list in tokens column\n",
        "#2. Convert all words in the tokens column to lowercase\n",
        "#3. Remove Stopwords\n",
        "#4. Find all urls and parse them to a new column (tokens_url) >> TODO: Later this url(s) will be scraped to get more information about the category. \n",
        "#5. Remove Punctuations and create a new column (tokens_new)   "
      ],
      "metadata": {
        "id": "BVoPhDeP4Bod"
      },
      "id": "BVoPhDeP4Bod",
      "execution_count": 38,
      "outputs": []
    },
    {
      "cell_type": "code",
      "execution_count": 39,
      "id": "2275a028",
      "metadata": {
        "id": "2275a028"
      },
      "outputs": [],
      "source": [
        "import re\n",
        "from nltk.tokenize import TweetTokenizer\n",
        "from nltk.corpus import stopwords"
      ]
    },
    {
      "cell_type": "code",
      "execution_count": 40,
      "id": "af74a010",
      "metadata": {
        "id": "af74a010"
      },
      "outputs": [],
      "source": [
        "tknz =TweetTokenizer()"
      ]
    },
    {
      "cell_type": "code",
      "execution_count": 41,
      "id": "359dcfce",
      "metadata": {
        "id": "359dcfce"
      },
      "outputs": [],
      "source": [
        "df_section['tokens'] =''"
      ]
    },
    {
      "cell_type": "code",
      "execution_count": 42,
      "id": "1a29ff3b",
      "metadata": {
        "id": "1a29ff3b"
      },
      "outputs": [],
      "source": [
        "df_section['tokens'] = df['text'].apply(tknz.tokenize)"
      ]
    },
    {
      "cell_type": "code",
      "execution_count": 43,
      "id": "bbf299bb",
      "metadata": {
        "colab": {
          "base_uri": "https://localhost:8080/",
          "height": 333
        },
        "id": "bbf299bb",
        "outputId": "b28b845f-eca9-44ac-93b1-500214129ddb"
      },
      "outputs": [
        {
          "output_type": "execute_result",
          "data": {
            "text/plain": [
              "               tweetID                                               text  \\\n",
              "0  1072758722315862021  UK Prime Minister Theresa May will face a vote...   \n",
              "1  1072959907958276096  UK PM Theresa May wins confidence vote with 20...   \n",
              "2  1073329348755767303  The probe of the inaugural fund partly arises ...   \n",
              "3  1073499538659393536  The week Brexit hit the brick wall :  Commons ...   \n",
              "4  1073542862573371392  Have watched these kinds of pictures looking f...   \n",
              "\n",
              "  topicName       usID             usName  edInput               crDate  \\\n",
              "0  Business    5402612  BBC Breaking News        2  2018-12-12 07:43:04   \n",
              "1  Business    5402612  BBC Breaking News        2  2018-12-12 21:02:31   \n",
              "2  Business  705706292   Rebecca Ballhaus        2  2018-12-13 21:30:32   \n",
              "3  Business   25984418      Nick Robinson        1  2018-12-14 08:46:49   \n",
              "4  Business   61183568   Laura Kuenssberg        2  2018-12-14 11:38:58   \n",
              "\n",
              "                                              tokens  \n",
              "0  [UK, Prime, Minister, Theresa, May, will, face...  \n",
              "1  [UK, PM, Theresa, May, wins, confidence, vote,...  \n",
              "2  [The, probe, of, the, inaugural, fund, partly,...  \n",
              "3  [The, week, Brexit, hit, the, brick, wall, :, ...  \n",
              "4  [Have, watched, these, kinds, of, pictures, lo...  "
            ],
            "text/html": [
              "\n",
              "  <div id=\"df-23f2735c-d164-4a35-b2a1-27cd6c6f0136\">\n",
              "    <div class=\"colab-df-container\">\n",
              "      <div>\n",
              "<style scoped>\n",
              "    .dataframe tbody tr th:only-of-type {\n",
              "        vertical-align: middle;\n",
              "    }\n",
              "\n",
              "    .dataframe tbody tr th {\n",
              "        vertical-align: top;\n",
              "    }\n",
              "\n",
              "    .dataframe thead th {\n",
              "        text-align: right;\n",
              "    }\n",
              "</style>\n",
              "<table border=\"1\" class=\"dataframe\">\n",
              "  <thead>\n",
              "    <tr style=\"text-align: right;\">\n",
              "      <th></th>\n",
              "      <th>tweetID</th>\n",
              "      <th>text</th>\n",
              "      <th>topicName</th>\n",
              "      <th>usID</th>\n",
              "      <th>usName</th>\n",
              "      <th>edInput</th>\n",
              "      <th>crDate</th>\n",
              "      <th>tokens</th>\n",
              "    </tr>\n",
              "  </thead>\n",
              "  <tbody>\n",
              "    <tr>\n",
              "      <th>0</th>\n",
              "      <td>1072758722315862021</td>\n",
              "      <td>UK Prime Minister Theresa May will face a vote...</td>\n",
              "      <td>Business</td>\n",
              "      <td>5402612</td>\n",
              "      <td>BBC Breaking News</td>\n",
              "      <td>2</td>\n",
              "      <td>2018-12-12 07:43:04</td>\n",
              "      <td>[UK, Prime, Minister, Theresa, May, will, face...</td>\n",
              "    </tr>\n",
              "    <tr>\n",
              "      <th>1</th>\n",
              "      <td>1072959907958276096</td>\n",
              "      <td>UK PM Theresa May wins confidence vote with 20...</td>\n",
              "      <td>Business</td>\n",
              "      <td>5402612</td>\n",
              "      <td>BBC Breaking News</td>\n",
              "      <td>2</td>\n",
              "      <td>2018-12-12 21:02:31</td>\n",
              "      <td>[UK, PM, Theresa, May, wins, confidence, vote,...</td>\n",
              "    </tr>\n",
              "    <tr>\n",
              "      <th>2</th>\n",
              "      <td>1073329348755767303</td>\n",
              "      <td>The probe of the inaugural fund partly arises ...</td>\n",
              "      <td>Business</td>\n",
              "      <td>705706292</td>\n",
              "      <td>Rebecca Ballhaus</td>\n",
              "      <td>2</td>\n",
              "      <td>2018-12-13 21:30:32</td>\n",
              "      <td>[The, probe, of, the, inaugural, fund, partly,...</td>\n",
              "    </tr>\n",
              "    <tr>\n",
              "      <th>3</th>\n",
              "      <td>1073499538659393536</td>\n",
              "      <td>The week Brexit hit the brick wall :  Commons ...</td>\n",
              "      <td>Business</td>\n",
              "      <td>25984418</td>\n",
              "      <td>Nick Robinson</td>\n",
              "      <td>1</td>\n",
              "      <td>2018-12-14 08:46:49</td>\n",
              "      <td>[The, week, Brexit, hit, the, brick, wall, :, ...</td>\n",
              "    </tr>\n",
              "    <tr>\n",
              "      <th>4</th>\n",
              "      <td>1073542862573371392</td>\n",
              "      <td>Have watched these kinds of pictures looking f...</td>\n",
              "      <td>Business</td>\n",
              "      <td>61183568</td>\n",
              "      <td>Laura Kuenssberg</td>\n",
              "      <td>2</td>\n",
              "      <td>2018-12-14 11:38:58</td>\n",
              "      <td>[Have, watched, these, kinds, of, pictures, lo...</td>\n",
              "    </tr>\n",
              "  </tbody>\n",
              "</table>\n",
              "</div>\n",
              "      <button class=\"colab-df-convert\" onclick=\"convertToInteractive('df-23f2735c-d164-4a35-b2a1-27cd6c6f0136')\"\n",
              "              title=\"Convert this dataframe to an interactive table.\"\n",
              "              style=\"display:none;\">\n",
              "        \n",
              "  <svg xmlns=\"http://www.w3.org/2000/svg\" height=\"24px\"viewBox=\"0 0 24 24\"\n",
              "       width=\"24px\">\n",
              "    <path d=\"M0 0h24v24H0V0z\" fill=\"none\"/>\n",
              "    <path d=\"M18.56 5.44l.94 2.06.94-2.06 2.06-.94-2.06-.94-.94-2.06-.94 2.06-2.06.94zm-11 1L8.5 8.5l.94-2.06 2.06-.94-2.06-.94L8.5 2.5l-.94 2.06-2.06.94zm10 10l.94 2.06.94-2.06 2.06-.94-2.06-.94-.94-2.06-.94 2.06-2.06.94z\"/><path d=\"M17.41 7.96l-1.37-1.37c-.4-.4-.92-.59-1.43-.59-.52 0-1.04.2-1.43.59L10.3 9.45l-7.72 7.72c-.78.78-.78 2.05 0 2.83L4 21.41c.39.39.9.59 1.41.59.51 0 1.02-.2 1.41-.59l7.78-7.78 2.81-2.81c.8-.78.8-2.07 0-2.86zM5.41 20L4 18.59l7.72-7.72 1.47 1.35L5.41 20z\"/>\n",
              "  </svg>\n",
              "      </button>\n",
              "      \n",
              "  <style>\n",
              "    .colab-df-container {\n",
              "      display:flex;\n",
              "      flex-wrap:wrap;\n",
              "      gap: 12px;\n",
              "    }\n",
              "\n",
              "    .colab-df-convert {\n",
              "      background-color: #E8F0FE;\n",
              "      border: none;\n",
              "      border-radius: 50%;\n",
              "      cursor: pointer;\n",
              "      display: none;\n",
              "      fill: #1967D2;\n",
              "      height: 32px;\n",
              "      padding: 0 0 0 0;\n",
              "      width: 32px;\n",
              "    }\n",
              "\n",
              "    .colab-df-convert:hover {\n",
              "      background-color: #E2EBFA;\n",
              "      box-shadow: 0px 1px 2px rgba(60, 64, 67, 0.3), 0px 1px 3px 1px rgba(60, 64, 67, 0.15);\n",
              "      fill: #174EA6;\n",
              "    }\n",
              "\n",
              "    [theme=dark] .colab-df-convert {\n",
              "      background-color: #3B4455;\n",
              "      fill: #D2E3FC;\n",
              "    }\n",
              "\n",
              "    [theme=dark] .colab-df-convert:hover {\n",
              "      background-color: #434B5C;\n",
              "      box-shadow: 0px 1px 3px 1px rgba(0, 0, 0, 0.15);\n",
              "      filter: drop-shadow(0px 1px 2px rgba(0, 0, 0, 0.3));\n",
              "      fill: #FFFFFF;\n",
              "    }\n",
              "  </style>\n",
              "\n",
              "      <script>\n",
              "        const buttonEl =\n",
              "          document.querySelector('#df-23f2735c-d164-4a35-b2a1-27cd6c6f0136 button.colab-df-convert');\n",
              "        buttonEl.style.display =\n",
              "          google.colab.kernel.accessAllowed ? 'block' : 'none';\n",
              "\n",
              "        async function convertToInteractive(key) {\n",
              "          const element = document.querySelector('#df-23f2735c-d164-4a35-b2a1-27cd6c6f0136');\n",
              "          const dataTable =\n",
              "            await google.colab.kernel.invokeFunction('convertToInteractive',\n",
              "                                                     [key], {});\n",
              "          if (!dataTable) return;\n",
              "\n",
              "          const docLinkHtml = 'Like what you see? Visit the ' +\n",
              "            '<a target=\"_blank\" href=https://colab.research.google.com/notebooks/data_table.ipynb>data table notebook</a>'\n",
              "            + ' to learn more about interactive tables.';\n",
              "          element.innerHTML = '';\n",
              "          dataTable['output_type'] = 'display_data';\n",
              "          await google.colab.output.renderOutput(dataTable, element);\n",
              "          const docLink = document.createElement('div');\n",
              "          docLink.innerHTML = docLinkHtml;\n",
              "          element.appendChild(docLink);\n",
              "        }\n",
              "      </script>\n",
              "    </div>\n",
              "  </div>\n",
              "  "
            ]
          },
          "metadata": {},
          "execution_count": 43
        }
      ],
      "source": [
        "df_section.head()"
      ]
    },
    {
      "cell_type": "code",
      "execution_count": 68,
      "id": "eb18160e",
      "metadata": {
        "colab": {
          "base_uri": "https://localhost:8080/"
        },
        "id": "eb18160e",
        "outputId": "12ede01f-ee0c-4113-c251-d5974c9b08aa"
      },
      "outputs": [
        {
          "output_type": "execute_result",
          "data": {
            "text/plain": [
              "(30021, 9)"
            ]
          },
          "metadata": {},
          "execution_count": 68
        }
      ],
      "source": [
        "df_section.shape"
      ]
    },
    {
      "cell_type": "code",
      "execution_count": 69,
      "id": "a64ed285",
      "metadata": {
        "id": "a64ed285"
      },
      "outputs": [],
      "source": [
        "#Convert the list to lowercase\n",
        "def convert_string_lower(strings):\n",
        "    newList = []\n",
        "    for string in strings:\n",
        "        string = string.replace('\\'','') # don't loose words with these character\n",
        "        string = string.replace('-','') # don't loose words with these character\n",
        "        newList.append(string.lower())\n",
        "    return newList\n",
        "\n",
        "df_section['tokens'] = list(map(convert_string_lower,df_section['tokens'])) "
      ]
    },
    {
      "cell_type": "code",
      "execution_count": 70,
      "id": "9854e544",
      "metadata": {
        "colab": {
          "base_uri": "https://localhost:8080/",
          "height": 333
        },
        "id": "9854e544",
        "outputId": "73bcd387-37cd-4000-d05f-42a00b6f4d49"
      },
      "outputs": [
        {
          "output_type": "execute_result",
          "data": {
            "text/plain": [
              "               tweetID                                               text  \\\n",
              "0  1072758722315862021  UK Prime Minister Theresa May will face a vote...   \n",
              "1  1072959907958276096  UK PM Theresa May wins confidence vote with 20...   \n",
              "2  1073329348755767303  The probe of the inaugural fund partly arises ...   \n",
              "3  1073499538659393536  The week Brexit hit the brick wall :  Commons ...   \n",
              "4  1073542862573371392  Have watched these kinds of pictures looking f...   \n",
              "\n",
              "  topicName       usID             usName  edInput               crDate  \\\n",
              "0  Business    5402612  BBC Breaking News        2  2018-12-12 07:43:04   \n",
              "1  Business    5402612  BBC Breaking News        2  2018-12-12 21:02:31   \n",
              "2  Business  705706292   Rebecca Ballhaus        2  2018-12-13 21:30:32   \n",
              "3  Business   25984418      Nick Robinson        1  2018-12-14 08:46:49   \n",
              "4  Business   61183568   Laura Kuenssberg        2  2018-12-14 11:38:58   \n",
              "\n",
              "                                              tokens  \\\n",
              "0  [uk, prime, minister, theresa, may, face, vote...   \n",
              "1  [uk, pm, theresa, may, wins, confidence, vote,...   \n",
              "2  [probe, inaugural, fund, partly, arises, mater...   \n",
              "3  [week, brexit, hit, brick, wall, :, commons, ’...   \n",
              "4  [watched, kinds, pictures, looking, body, lang...   \n",
              "\n",
              "                                          tokens_url  \n",
              "0                          [https://t.co/wzta1v9scu]  \n",
              "1  [https://t.co/9vw2goqodc, https://t.co/bafuusz...  \n",
              "2                          [https://t.co/wvercqwnvg]  \n",
              "3                                                 []  \n",
              "4                          [https://t.co/1tg4h62z7l]  "
            ],
            "text/html": [
              "\n",
              "  <div id=\"df-efbbc317-43b7-451e-864a-2f75c58887f0\">\n",
              "    <div class=\"colab-df-container\">\n",
              "      <div>\n",
              "<style scoped>\n",
              "    .dataframe tbody tr th:only-of-type {\n",
              "        vertical-align: middle;\n",
              "    }\n",
              "\n",
              "    .dataframe tbody tr th {\n",
              "        vertical-align: top;\n",
              "    }\n",
              "\n",
              "    .dataframe thead th {\n",
              "        text-align: right;\n",
              "    }\n",
              "</style>\n",
              "<table border=\"1\" class=\"dataframe\">\n",
              "  <thead>\n",
              "    <tr style=\"text-align: right;\">\n",
              "      <th></th>\n",
              "      <th>tweetID</th>\n",
              "      <th>text</th>\n",
              "      <th>topicName</th>\n",
              "      <th>usID</th>\n",
              "      <th>usName</th>\n",
              "      <th>edInput</th>\n",
              "      <th>crDate</th>\n",
              "      <th>tokens</th>\n",
              "      <th>tokens_url</th>\n",
              "    </tr>\n",
              "  </thead>\n",
              "  <tbody>\n",
              "    <tr>\n",
              "      <th>0</th>\n",
              "      <td>1072758722315862021</td>\n",
              "      <td>UK Prime Minister Theresa May will face a vote...</td>\n",
              "      <td>Business</td>\n",
              "      <td>5402612</td>\n",
              "      <td>BBC Breaking News</td>\n",
              "      <td>2</td>\n",
              "      <td>2018-12-12 07:43:04</td>\n",
              "      <td>[uk, prime, minister, theresa, may, face, vote...</td>\n",
              "      <td>[https://t.co/wzta1v9scu]</td>\n",
              "    </tr>\n",
              "    <tr>\n",
              "      <th>1</th>\n",
              "      <td>1072959907958276096</td>\n",
              "      <td>UK PM Theresa May wins confidence vote with 20...</td>\n",
              "      <td>Business</td>\n",
              "      <td>5402612</td>\n",
              "      <td>BBC Breaking News</td>\n",
              "      <td>2</td>\n",
              "      <td>2018-12-12 21:02:31</td>\n",
              "      <td>[uk, pm, theresa, may, wins, confidence, vote,...</td>\n",
              "      <td>[https://t.co/9vw2goqodc, https://t.co/bafuusz...</td>\n",
              "    </tr>\n",
              "    <tr>\n",
              "      <th>2</th>\n",
              "      <td>1073329348755767303</td>\n",
              "      <td>The probe of the inaugural fund partly arises ...</td>\n",
              "      <td>Business</td>\n",
              "      <td>705706292</td>\n",
              "      <td>Rebecca Ballhaus</td>\n",
              "      <td>2</td>\n",
              "      <td>2018-12-13 21:30:32</td>\n",
              "      <td>[probe, inaugural, fund, partly, arises, mater...</td>\n",
              "      <td>[https://t.co/wvercqwnvg]</td>\n",
              "    </tr>\n",
              "    <tr>\n",
              "      <th>3</th>\n",
              "      <td>1073499538659393536</td>\n",
              "      <td>The week Brexit hit the brick wall :  Commons ...</td>\n",
              "      <td>Business</td>\n",
              "      <td>25984418</td>\n",
              "      <td>Nick Robinson</td>\n",
              "      <td>1</td>\n",
              "      <td>2018-12-14 08:46:49</td>\n",
              "      <td>[week, brexit, hit, brick, wall, :, commons, ’...</td>\n",
              "      <td>[]</td>\n",
              "    </tr>\n",
              "    <tr>\n",
              "      <th>4</th>\n",
              "      <td>1073542862573371392</td>\n",
              "      <td>Have watched these kinds of pictures looking f...</td>\n",
              "      <td>Business</td>\n",
              "      <td>61183568</td>\n",
              "      <td>Laura Kuenssberg</td>\n",
              "      <td>2</td>\n",
              "      <td>2018-12-14 11:38:58</td>\n",
              "      <td>[watched, kinds, pictures, looking, body, lang...</td>\n",
              "      <td>[https://t.co/1tg4h62z7l]</td>\n",
              "    </tr>\n",
              "  </tbody>\n",
              "</table>\n",
              "</div>\n",
              "      <button class=\"colab-df-convert\" onclick=\"convertToInteractive('df-efbbc317-43b7-451e-864a-2f75c58887f0')\"\n",
              "              title=\"Convert this dataframe to an interactive table.\"\n",
              "              style=\"display:none;\">\n",
              "        \n",
              "  <svg xmlns=\"http://www.w3.org/2000/svg\" height=\"24px\"viewBox=\"0 0 24 24\"\n",
              "       width=\"24px\">\n",
              "    <path d=\"M0 0h24v24H0V0z\" fill=\"none\"/>\n",
              "    <path d=\"M18.56 5.44l.94 2.06.94-2.06 2.06-.94-2.06-.94-.94-2.06-.94 2.06-2.06.94zm-11 1L8.5 8.5l.94-2.06 2.06-.94-2.06-.94L8.5 2.5l-.94 2.06-2.06.94zm10 10l.94 2.06.94-2.06 2.06-.94-2.06-.94-.94-2.06-.94 2.06-2.06.94z\"/><path d=\"M17.41 7.96l-1.37-1.37c-.4-.4-.92-.59-1.43-.59-.52 0-1.04.2-1.43.59L10.3 9.45l-7.72 7.72c-.78.78-.78 2.05 0 2.83L4 21.41c.39.39.9.59 1.41.59.51 0 1.02-.2 1.41-.59l7.78-7.78 2.81-2.81c.8-.78.8-2.07 0-2.86zM5.41 20L4 18.59l7.72-7.72 1.47 1.35L5.41 20z\"/>\n",
              "  </svg>\n",
              "      </button>\n",
              "      \n",
              "  <style>\n",
              "    .colab-df-container {\n",
              "      display:flex;\n",
              "      flex-wrap:wrap;\n",
              "      gap: 12px;\n",
              "    }\n",
              "\n",
              "    .colab-df-convert {\n",
              "      background-color: #E8F0FE;\n",
              "      border: none;\n",
              "      border-radius: 50%;\n",
              "      cursor: pointer;\n",
              "      display: none;\n",
              "      fill: #1967D2;\n",
              "      height: 32px;\n",
              "      padding: 0 0 0 0;\n",
              "      width: 32px;\n",
              "    }\n",
              "\n",
              "    .colab-df-convert:hover {\n",
              "      background-color: #E2EBFA;\n",
              "      box-shadow: 0px 1px 2px rgba(60, 64, 67, 0.3), 0px 1px 3px 1px rgba(60, 64, 67, 0.15);\n",
              "      fill: #174EA6;\n",
              "    }\n",
              "\n",
              "    [theme=dark] .colab-df-convert {\n",
              "      background-color: #3B4455;\n",
              "      fill: #D2E3FC;\n",
              "    }\n",
              "\n",
              "    [theme=dark] .colab-df-convert:hover {\n",
              "      background-color: #434B5C;\n",
              "      box-shadow: 0px 1px 3px 1px rgba(0, 0, 0, 0.15);\n",
              "      filter: drop-shadow(0px 1px 2px rgba(0, 0, 0, 0.3));\n",
              "      fill: #FFFFFF;\n",
              "    }\n",
              "  </style>\n",
              "\n",
              "      <script>\n",
              "        const buttonEl =\n",
              "          document.querySelector('#df-efbbc317-43b7-451e-864a-2f75c58887f0 button.colab-df-convert');\n",
              "        buttonEl.style.display =\n",
              "          google.colab.kernel.accessAllowed ? 'block' : 'none';\n",
              "\n",
              "        async function convertToInteractive(key) {\n",
              "          const element = document.querySelector('#df-efbbc317-43b7-451e-864a-2f75c58887f0');\n",
              "          const dataTable =\n",
              "            await google.colab.kernel.invokeFunction('convertToInteractive',\n",
              "                                                     [key], {});\n",
              "          if (!dataTable) return;\n",
              "\n",
              "          const docLinkHtml = 'Like what you see? Visit the ' +\n",
              "            '<a target=\"_blank\" href=https://colab.research.google.com/notebooks/data_table.ipynb>data table notebook</a>'\n",
              "            + ' to learn more about interactive tables.';\n",
              "          element.innerHTML = '';\n",
              "          dataTable['output_type'] = 'display_data';\n",
              "          await google.colab.output.renderOutput(dataTable, element);\n",
              "          const docLink = document.createElement('div');\n",
              "          docLink.innerHTML = docLinkHtml;\n",
              "          element.appendChild(docLink);\n",
              "        }\n",
              "      </script>\n",
              "    </div>\n",
              "  </div>\n",
              "  "
            ]
          },
          "metadata": {},
          "execution_count": 70
        }
      ],
      "source": [
        "df_section.head(5)"
      ]
    },
    {
      "cell_type": "code",
      "source": [
        "import nltk\n",
        "from nltk.corpus import stopwords"
      ],
      "metadata": {
        "id": "kTkkxzlzeNQv"
      },
      "id": "kTkkxzlzeNQv",
      "execution_count": 71,
      "outputs": []
    },
    {
      "cell_type": "code",
      "source": [
        "nltk.download('stopwords')"
      ],
      "metadata": {
        "colab": {
          "base_uri": "https://localhost:8080/"
        },
        "id": "ZYH406nde-nt",
        "outputId": "ea77d0f8-532e-471f-819f-6080f96c1660"
      },
      "id": "ZYH406nde-nt",
      "execution_count": 72,
      "outputs": [
        {
          "output_type": "stream",
          "name": "stderr",
          "text": [
            "[nltk_data] Downloading package stopwords to /root/nltk_data...\n",
            "[nltk_data]   Package stopwords is already up-to-date!\n"
          ]
        },
        {
          "output_type": "execute_result",
          "data": {
            "text/plain": [
              "True"
            ]
          },
          "metadata": {},
          "execution_count": 72
        }
      ]
    },
    {
      "cell_type": "code",
      "execution_count": 73,
      "id": "5d83fe82",
      "metadata": {
        "id": "5d83fe82"
      },
      "outputs": [],
      "source": [
        "#remove stopwords      \n",
        "nltk_words = stopwords.words('english') \n",
        "\n",
        "def remove_stopwords(string):\n",
        "    output = [w for w in string if w not in nltk_words]\n",
        "    return output\n",
        "\n",
        "df_section['tokens'] = df_section['tokens'].apply(remove_stopwords)"
      ]
    },
    {
      "cell_type": "code",
      "execution_count": 74,
      "id": "d2128123",
      "metadata": {
        "colab": {
          "base_uri": "https://localhost:8080/",
          "height": 573
        },
        "id": "d2128123",
        "outputId": "40617b86-c873-47a3-f42b-d3996d8b9aba"
      },
      "outputs": [
        {
          "output_type": "execute_result",
          "data": {
            "text/plain": [
              "               tweetID                                               text  \\\n",
              "0  1072758722315862021  UK Prime Minister Theresa May will face a vote...   \n",
              "1  1072959907958276096  UK PM Theresa May wins confidence vote with 20...   \n",
              "2  1073329348755767303  The probe of the inaugural fund partly arises ...   \n",
              "3  1073499538659393536  The week Brexit hit the brick wall :  Commons ...   \n",
              "4  1073542862573371392  Have watched these kinds of pictures looking f...   \n",
              "5  1074475798227226627  The world's most successful people start their...   \n",
              "6  1074056878542471169  “This is Pearl Harbor. The whole country, and ...   \n",
              "7  1074964829830557696  Jose Mourinho has been sacked by Manchester Un...   \n",
              "8  1075269960086241281  Pursue your ideas, no matter how obvious they ...   \n",
              "9  1075315807666794496  You don’t have to choose between being a leade...   \n",
              "\n",
              "  topicName       usID              usName  edInput               crDate  \\\n",
              "0  Business    5402612   BBC Breaking News        2  2018-12-12 07:43:04   \n",
              "1  Business    5402612   BBC Breaking News        2  2018-12-12 21:02:31   \n",
              "2  Business  705706292    Rebecca Ballhaus        2  2018-12-13 21:30:32   \n",
              "3  Business   25984418       Nick Robinson        1  2018-12-14 08:46:49   \n",
              "4  Business   61183568    Laura Kuenssberg        2  2018-12-14 11:38:58   \n",
              "5  Business   16896485                Inc.        2  2018-12-17 01:26:07   \n",
              "6  Business   41154223  Saikat Chakrabarti        1  2018-12-15 21:41:29   \n",
              "7  Business  265902729           BBC Sport        2  2018-12-18 09:49:21   \n",
              "8  Business   14800270  Harvard Biz Review        1  2018-12-19 06:01:50   \n",
              "9  Business   14800270  Harvard Biz Review        1  2018-12-19 09:04:01   \n",
              "\n",
              "                                              tokens  \\\n",
              "0  [uk, prime, minister, theresa, may, face, vote...   \n",
              "1  [uk, pm, theresa, may, wins, confidence, vote,...   \n",
              "2  [probe, inaugural, fund, partly, arises, mater...   \n",
              "3  [week, brexit, hit, brick, wall, :, commons, ’...   \n",
              "4  [watched, kinds, pictures, looking, body, lang...   \n",
              "5  [worlds, successful, people, start, day, 4, .,...   \n",
              "6  [“, pearl, harbor, ., whole, country, ,, whole...   \n",
              "7  [jose, mourinho, sacked, manchester, united, ....   \n",
              "8  [pursue, ideas, ,, matter, obvious, seem, http...   \n",
              "9  [’, choose, leader, life, https://t.co/sc9fi5v...   \n",
              "\n",
              "                                          tokens_url  \n",
              "0                          [https://t.co/wzta1v9scu]  \n",
              "1  [https://t.co/9vw2goqodc, https://t.co/bafuusz...  \n",
              "2                          [https://t.co/wvercqwnvg]  \n",
              "3                                                 []  \n",
              "4                          [https://t.co/1tg4h62z7l]  \n",
              "5                          [https://t.co/sef0u4xwp8]  \n",
              "6                          [https://t.co/vposikgvim]  \n",
              "7  [https://t.co/xl8mju4w1u, https://t.co/zdrd3vu...  \n",
              "8                          [https://t.co/irqq39x9h2]  \n",
              "9                          [https://t.co/sc9fi5v8zs]  "
            ],
            "text/html": [
              "\n",
              "  <div id=\"df-36b824e5-3b61-4ade-af6c-016d88f3c190\">\n",
              "    <div class=\"colab-df-container\">\n",
              "      <div>\n",
              "<style scoped>\n",
              "    .dataframe tbody tr th:only-of-type {\n",
              "        vertical-align: middle;\n",
              "    }\n",
              "\n",
              "    .dataframe tbody tr th {\n",
              "        vertical-align: top;\n",
              "    }\n",
              "\n",
              "    .dataframe thead th {\n",
              "        text-align: right;\n",
              "    }\n",
              "</style>\n",
              "<table border=\"1\" class=\"dataframe\">\n",
              "  <thead>\n",
              "    <tr style=\"text-align: right;\">\n",
              "      <th></th>\n",
              "      <th>tweetID</th>\n",
              "      <th>text</th>\n",
              "      <th>topicName</th>\n",
              "      <th>usID</th>\n",
              "      <th>usName</th>\n",
              "      <th>edInput</th>\n",
              "      <th>crDate</th>\n",
              "      <th>tokens</th>\n",
              "      <th>tokens_url</th>\n",
              "    </tr>\n",
              "  </thead>\n",
              "  <tbody>\n",
              "    <tr>\n",
              "      <th>0</th>\n",
              "      <td>1072758722315862021</td>\n",
              "      <td>UK Prime Minister Theresa May will face a vote...</td>\n",
              "      <td>Business</td>\n",
              "      <td>5402612</td>\n",
              "      <td>BBC Breaking News</td>\n",
              "      <td>2</td>\n",
              "      <td>2018-12-12 07:43:04</td>\n",
              "      <td>[uk, prime, minister, theresa, may, face, vote...</td>\n",
              "      <td>[https://t.co/wzta1v9scu]</td>\n",
              "    </tr>\n",
              "    <tr>\n",
              "      <th>1</th>\n",
              "      <td>1072959907958276096</td>\n",
              "      <td>UK PM Theresa May wins confidence vote with 20...</td>\n",
              "      <td>Business</td>\n",
              "      <td>5402612</td>\n",
              "      <td>BBC Breaking News</td>\n",
              "      <td>2</td>\n",
              "      <td>2018-12-12 21:02:31</td>\n",
              "      <td>[uk, pm, theresa, may, wins, confidence, vote,...</td>\n",
              "      <td>[https://t.co/9vw2goqodc, https://t.co/bafuusz...</td>\n",
              "    </tr>\n",
              "    <tr>\n",
              "      <th>2</th>\n",
              "      <td>1073329348755767303</td>\n",
              "      <td>The probe of the inaugural fund partly arises ...</td>\n",
              "      <td>Business</td>\n",
              "      <td>705706292</td>\n",
              "      <td>Rebecca Ballhaus</td>\n",
              "      <td>2</td>\n",
              "      <td>2018-12-13 21:30:32</td>\n",
              "      <td>[probe, inaugural, fund, partly, arises, mater...</td>\n",
              "      <td>[https://t.co/wvercqwnvg]</td>\n",
              "    </tr>\n",
              "    <tr>\n",
              "      <th>3</th>\n",
              "      <td>1073499538659393536</td>\n",
              "      <td>The week Brexit hit the brick wall :  Commons ...</td>\n",
              "      <td>Business</td>\n",
              "      <td>25984418</td>\n",
              "      <td>Nick Robinson</td>\n",
              "      <td>1</td>\n",
              "      <td>2018-12-14 08:46:49</td>\n",
              "      <td>[week, brexit, hit, brick, wall, :, commons, ’...</td>\n",
              "      <td>[]</td>\n",
              "    </tr>\n",
              "    <tr>\n",
              "      <th>4</th>\n",
              "      <td>1073542862573371392</td>\n",
              "      <td>Have watched these kinds of pictures looking f...</td>\n",
              "      <td>Business</td>\n",
              "      <td>61183568</td>\n",
              "      <td>Laura Kuenssberg</td>\n",
              "      <td>2</td>\n",
              "      <td>2018-12-14 11:38:58</td>\n",
              "      <td>[watched, kinds, pictures, looking, body, lang...</td>\n",
              "      <td>[https://t.co/1tg4h62z7l]</td>\n",
              "    </tr>\n",
              "    <tr>\n",
              "      <th>5</th>\n",
              "      <td>1074475798227226627</td>\n",
              "      <td>The world's most successful people start their...</td>\n",
              "      <td>Business</td>\n",
              "      <td>16896485</td>\n",
              "      <td>Inc.</td>\n",
              "      <td>2</td>\n",
              "      <td>2018-12-17 01:26:07</td>\n",
              "      <td>[worlds, successful, people, start, day, 4, .,...</td>\n",
              "      <td>[https://t.co/sef0u4xwp8]</td>\n",
              "    </tr>\n",
              "    <tr>\n",
              "      <th>6</th>\n",
              "      <td>1074056878542471169</td>\n",
              "      <td>“This is Pearl Harbor. The whole country, and ...</td>\n",
              "      <td>Business</td>\n",
              "      <td>41154223</td>\n",
              "      <td>Saikat Chakrabarti</td>\n",
              "      <td>1</td>\n",
              "      <td>2018-12-15 21:41:29</td>\n",
              "      <td>[“, pearl, harbor, ., whole, country, ,, whole...</td>\n",
              "      <td>[https://t.co/vposikgvim]</td>\n",
              "    </tr>\n",
              "    <tr>\n",
              "      <th>7</th>\n",
              "      <td>1074964829830557696</td>\n",
              "      <td>Jose Mourinho has been sacked by Manchester Un...</td>\n",
              "      <td>Business</td>\n",
              "      <td>265902729</td>\n",
              "      <td>BBC Sport</td>\n",
              "      <td>2</td>\n",
              "      <td>2018-12-18 09:49:21</td>\n",
              "      <td>[jose, mourinho, sacked, manchester, united, ....</td>\n",
              "      <td>[https://t.co/xl8mju4w1u, https://t.co/zdrd3vu...</td>\n",
              "    </tr>\n",
              "    <tr>\n",
              "      <th>8</th>\n",
              "      <td>1075269960086241281</td>\n",
              "      <td>Pursue your ideas, no matter how obvious they ...</td>\n",
              "      <td>Business</td>\n",
              "      <td>14800270</td>\n",
              "      <td>Harvard Biz Review</td>\n",
              "      <td>1</td>\n",
              "      <td>2018-12-19 06:01:50</td>\n",
              "      <td>[pursue, ideas, ,, matter, obvious, seem, http...</td>\n",
              "      <td>[https://t.co/irqq39x9h2]</td>\n",
              "    </tr>\n",
              "    <tr>\n",
              "      <th>9</th>\n",
              "      <td>1075315807666794496</td>\n",
              "      <td>You don’t have to choose between being a leade...</td>\n",
              "      <td>Business</td>\n",
              "      <td>14800270</td>\n",
              "      <td>Harvard Biz Review</td>\n",
              "      <td>1</td>\n",
              "      <td>2018-12-19 09:04:01</td>\n",
              "      <td>[’, choose, leader, life, https://t.co/sc9fi5v...</td>\n",
              "      <td>[https://t.co/sc9fi5v8zs]</td>\n",
              "    </tr>\n",
              "  </tbody>\n",
              "</table>\n",
              "</div>\n",
              "      <button class=\"colab-df-convert\" onclick=\"convertToInteractive('df-36b824e5-3b61-4ade-af6c-016d88f3c190')\"\n",
              "              title=\"Convert this dataframe to an interactive table.\"\n",
              "              style=\"display:none;\">\n",
              "        \n",
              "  <svg xmlns=\"http://www.w3.org/2000/svg\" height=\"24px\"viewBox=\"0 0 24 24\"\n",
              "       width=\"24px\">\n",
              "    <path d=\"M0 0h24v24H0V0z\" fill=\"none\"/>\n",
              "    <path d=\"M18.56 5.44l.94 2.06.94-2.06 2.06-.94-2.06-.94-.94-2.06-.94 2.06-2.06.94zm-11 1L8.5 8.5l.94-2.06 2.06-.94-2.06-.94L8.5 2.5l-.94 2.06-2.06.94zm10 10l.94 2.06.94-2.06 2.06-.94-2.06-.94-.94-2.06-.94 2.06-2.06.94z\"/><path d=\"M17.41 7.96l-1.37-1.37c-.4-.4-.92-.59-1.43-.59-.52 0-1.04.2-1.43.59L10.3 9.45l-7.72 7.72c-.78.78-.78 2.05 0 2.83L4 21.41c.39.39.9.59 1.41.59.51 0 1.02-.2 1.41-.59l7.78-7.78 2.81-2.81c.8-.78.8-2.07 0-2.86zM5.41 20L4 18.59l7.72-7.72 1.47 1.35L5.41 20z\"/>\n",
              "  </svg>\n",
              "      </button>\n",
              "      \n",
              "  <style>\n",
              "    .colab-df-container {\n",
              "      display:flex;\n",
              "      flex-wrap:wrap;\n",
              "      gap: 12px;\n",
              "    }\n",
              "\n",
              "    .colab-df-convert {\n",
              "      background-color: #E8F0FE;\n",
              "      border: none;\n",
              "      border-radius: 50%;\n",
              "      cursor: pointer;\n",
              "      display: none;\n",
              "      fill: #1967D2;\n",
              "      height: 32px;\n",
              "      padding: 0 0 0 0;\n",
              "      width: 32px;\n",
              "    }\n",
              "\n",
              "    .colab-df-convert:hover {\n",
              "      background-color: #E2EBFA;\n",
              "      box-shadow: 0px 1px 2px rgba(60, 64, 67, 0.3), 0px 1px 3px 1px rgba(60, 64, 67, 0.15);\n",
              "      fill: #174EA6;\n",
              "    }\n",
              "\n",
              "    [theme=dark] .colab-df-convert {\n",
              "      background-color: #3B4455;\n",
              "      fill: #D2E3FC;\n",
              "    }\n",
              "\n",
              "    [theme=dark] .colab-df-convert:hover {\n",
              "      background-color: #434B5C;\n",
              "      box-shadow: 0px 1px 3px 1px rgba(0, 0, 0, 0.15);\n",
              "      filter: drop-shadow(0px 1px 2px rgba(0, 0, 0, 0.3));\n",
              "      fill: #FFFFFF;\n",
              "    }\n",
              "  </style>\n",
              "\n",
              "      <script>\n",
              "        const buttonEl =\n",
              "          document.querySelector('#df-36b824e5-3b61-4ade-af6c-016d88f3c190 button.colab-df-convert');\n",
              "        buttonEl.style.display =\n",
              "          google.colab.kernel.accessAllowed ? 'block' : 'none';\n",
              "\n",
              "        async function convertToInteractive(key) {\n",
              "          const element = document.querySelector('#df-36b824e5-3b61-4ade-af6c-016d88f3c190');\n",
              "          const dataTable =\n",
              "            await google.colab.kernel.invokeFunction('convertToInteractive',\n",
              "                                                     [key], {});\n",
              "          if (!dataTable) return;\n",
              "\n",
              "          const docLinkHtml = 'Like what you see? Visit the ' +\n",
              "            '<a target=\"_blank\" href=https://colab.research.google.com/notebooks/data_table.ipynb>data table notebook</a>'\n",
              "            + ' to learn more about interactive tables.';\n",
              "          element.innerHTML = '';\n",
              "          dataTable['output_type'] = 'display_data';\n",
              "          await google.colab.output.renderOutput(dataTable, element);\n",
              "          const docLink = document.createElement('div');\n",
              "          docLink.innerHTML = docLinkHtml;\n",
              "          element.appendChild(docLink);\n",
              "        }\n",
              "      </script>\n",
              "    </div>\n",
              "  </div>\n",
              "  "
            ]
          },
          "metadata": {},
          "execution_count": 74
        }
      ],
      "source": [
        "df_section.head(10)"
      ]
    },
    {
      "cell_type": "code",
      "execution_count": 75,
      "id": "97b1b1d0",
      "metadata": {
        "colab": {
          "base_uri": "https://localhost:8080/",
          "height": 49
        },
        "id": "97b1b1d0",
        "outputId": "4c063a9f-a802-4b0d-9568-68a91a17382a"
      },
      "outputs": [
        {
          "output_type": "execute_result",
          "data": {
            "text/plain": [
              "Empty DataFrame\n",
              "Columns: [tweetID, text, topicName, usID, usName, edInput, crDate, tokens, tokens_url]\n",
              "Index: []"
            ],
            "text/html": [
              "\n",
              "  <div id=\"df-058d8738-8a80-457a-8efe-d2ce1e49fa47\">\n",
              "    <div class=\"colab-df-container\">\n",
              "      <div>\n",
              "<style scoped>\n",
              "    .dataframe tbody tr th:only-of-type {\n",
              "        vertical-align: middle;\n",
              "    }\n",
              "\n",
              "    .dataframe tbody tr th {\n",
              "        vertical-align: top;\n",
              "    }\n",
              "\n",
              "    .dataframe thead th {\n",
              "        text-align: right;\n",
              "    }\n",
              "</style>\n",
              "<table border=\"1\" class=\"dataframe\">\n",
              "  <thead>\n",
              "    <tr style=\"text-align: right;\">\n",
              "      <th></th>\n",
              "      <th>tweetID</th>\n",
              "      <th>text</th>\n",
              "      <th>topicName</th>\n",
              "      <th>usID</th>\n",
              "      <th>usName</th>\n",
              "      <th>edInput</th>\n",
              "      <th>crDate</th>\n",
              "      <th>tokens</th>\n",
              "      <th>tokens_url</th>\n",
              "    </tr>\n",
              "  </thead>\n",
              "  <tbody>\n",
              "  </tbody>\n",
              "</table>\n",
              "</div>\n",
              "      <button class=\"colab-df-convert\" onclick=\"convertToInteractive('df-058d8738-8a80-457a-8efe-d2ce1e49fa47')\"\n",
              "              title=\"Convert this dataframe to an interactive table.\"\n",
              "              style=\"display:none;\">\n",
              "        \n",
              "  <svg xmlns=\"http://www.w3.org/2000/svg\" height=\"24px\"viewBox=\"0 0 24 24\"\n",
              "       width=\"24px\">\n",
              "    <path d=\"M0 0h24v24H0V0z\" fill=\"none\"/>\n",
              "    <path d=\"M18.56 5.44l.94 2.06.94-2.06 2.06-.94-2.06-.94-.94-2.06-.94 2.06-2.06.94zm-11 1L8.5 8.5l.94-2.06 2.06-.94-2.06-.94L8.5 2.5l-.94 2.06-2.06.94zm10 10l.94 2.06.94-2.06 2.06-.94-2.06-.94-.94-2.06-.94 2.06-2.06.94z\"/><path d=\"M17.41 7.96l-1.37-1.37c-.4-.4-.92-.59-1.43-.59-.52 0-1.04.2-1.43.59L10.3 9.45l-7.72 7.72c-.78.78-.78 2.05 0 2.83L4 21.41c.39.39.9.59 1.41.59.51 0 1.02-.2 1.41-.59l7.78-7.78 2.81-2.81c.8-.78.8-2.07 0-2.86zM5.41 20L4 18.59l7.72-7.72 1.47 1.35L5.41 20z\"/>\n",
              "  </svg>\n",
              "      </button>\n",
              "      \n",
              "  <style>\n",
              "    .colab-df-container {\n",
              "      display:flex;\n",
              "      flex-wrap:wrap;\n",
              "      gap: 12px;\n",
              "    }\n",
              "\n",
              "    .colab-df-convert {\n",
              "      background-color: #E8F0FE;\n",
              "      border: none;\n",
              "      border-radius: 50%;\n",
              "      cursor: pointer;\n",
              "      display: none;\n",
              "      fill: #1967D2;\n",
              "      height: 32px;\n",
              "      padding: 0 0 0 0;\n",
              "      width: 32px;\n",
              "    }\n",
              "\n",
              "    .colab-df-convert:hover {\n",
              "      background-color: #E2EBFA;\n",
              "      box-shadow: 0px 1px 2px rgba(60, 64, 67, 0.3), 0px 1px 3px 1px rgba(60, 64, 67, 0.15);\n",
              "      fill: #174EA6;\n",
              "    }\n",
              "\n",
              "    [theme=dark] .colab-df-convert {\n",
              "      background-color: #3B4455;\n",
              "      fill: #D2E3FC;\n",
              "    }\n",
              "\n",
              "    [theme=dark] .colab-df-convert:hover {\n",
              "      background-color: #434B5C;\n",
              "      box-shadow: 0px 1px 3px 1px rgba(0, 0, 0, 0.15);\n",
              "      filter: drop-shadow(0px 1px 2px rgba(0, 0, 0, 0.3));\n",
              "      fill: #FFFFFF;\n",
              "    }\n",
              "  </style>\n",
              "\n",
              "      <script>\n",
              "        const buttonEl =\n",
              "          document.querySelector('#df-058d8738-8a80-457a-8efe-d2ce1e49fa47 button.colab-df-convert');\n",
              "        buttonEl.style.display =\n",
              "          google.colab.kernel.accessAllowed ? 'block' : 'none';\n",
              "\n",
              "        async function convertToInteractive(key) {\n",
              "          const element = document.querySelector('#df-058d8738-8a80-457a-8efe-d2ce1e49fa47');\n",
              "          const dataTable =\n",
              "            await google.colab.kernel.invokeFunction('convertToInteractive',\n",
              "                                                     [key], {});\n",
              "          if (!dataTable) return;\n",
              "\n",
              "          const docLinkHtml = 'Like what you see? Visit the ' +\n",
              "            '<a target=\"_blank\" href=https://colab.research.google.com/notebooks/data_table.ipynb>data table notebook</a>'\n",
              "            + ' to learn more about interactive tables.';\n",
              "          element.innerHTML = '';\n",
              "          dataTable['output_type'] = 'display_data';\n",
              "          await google.colab.output.renderOutput(dataTable, element);\n",
              "          const docLink = document.createElement('div');\n",
              "          docLink.innerHTML = docLinkHtml;\n",
              "          element.appendChild(docLink);\n",
              "        }\n",
              "      </script>\n",
              "    </div>\n",
              "  </div>\n",
              "  "
            ]
          },
          "metadata": {},
          "execution_count": 75
        }
      ],
      "source": [
        "#Check if any stop words exists\n",
        "df_section[['the' in x for x in df_section['tokens']]]"
      ]
    },
    {
      "cell_type": "code",
      "source": [
        "#find urls and create a new column for them\n",
        "#TODO: Scrape this url to get more info     \n",
        "url_pattern = re.compile(r\"([http#]\\W+)\")\n",
        "\n",
        "def find_url(string):\n",
        "    output = [w for w in string if url_pattern.search(w)]\n",
        "    return output\n",
        "\n",
        "df_section['tokens_url'] = df_section['tokens'].apply(find_url) #TODO:(BUG) links are case-sensitive. parse url before converting to lowercase\n"
      ],
      "metadata": {
        "id": "cO-rKZYff4WF"
      },
      "id": "cO-rKZYff4WF",
      "execution_count": 76,
      "outputs": []
    },
    {
      "cell_type": "code",
      "execution_count": 77,
      "id": "de8a26c5",
      "metadata": {
        "colab": {
          "base_uri": "https://localhost:8080/",
          "height": 573
        },
        "id": "de8a26c5",
        "outputId": "34f35803-0aaf-4fa5-98a5-fbb3634b7085"
      },
      "outputs": [
        {
          "output_type": "execute_result",
          "data": {
            "text/plain": [
              "               tweetID                                               text  \\\n",
              "0  1072758722315862021  UK Prime Minister Theresa May will face a vote...   \n",
              "1  1072959907958276096  UK PM Theresa May wins confidence vote with 20...   \n",
              "2  1073329348755767303  The probe of the inaugural fund partly arises ...   \n",
              "3  1073499538659393536  The week Brexit hit the brick wall :  Commons ...   \n",
              "4  1073542862573371392  Have watched these kinds of pictures looking f...   \n",
              "5  1074475798227226627  The world's most successful people start their...   \n",
              "6  1074056878542471169  “This is Pearl Harbor. The whole country, and ...   \n",
              "7  1074964829830557696  Jose Mourinho has been sacked by Manchester Un...   \n",
              "8  1075269960086241281  Pursue your ideas, no matter how obvious they ...   \n",
              "9  1075315807666794496  You don’t have to choose between being a leade...   \n",
              "\n",
              "  topicName       usID              usName  edInput               crDate  \\\n",
              "0  Business    5402612   BBC Breaking News        2  2018-12-12 07:43:04   \n",
              "1  Business    5402612   BBC Breaking News        2  2018-12-12 21:02:31   \n",
              "2  Business  705706292    Rebecca Ballhaus        2  2018-12-13 21:30:32   \n",
              "3  Business   25984418       Nick Robinson        1  2018-12-14 08:46:49   \n",
              "4  Business   61183568    Laura Kuenssberg        2  2018-12-14 11:38:58   \n",
              "5  Business   16896485                Inc.        2  2018-12-17 01:26:07   \n",
              "6  Business   41154223  Saikat Chakrabarti        1  2018-12-15 21:41:29   \n",
              "7  Business  265902729           BBC Sport        2  2018-12-18 09:49:21   \n",
              "8  Business   14800270  Harvard Biz Review        1  2018-12-19 06:01:50   \n",
              "9  Business   14800270  Harvard Biz Review        1  2018-12-19 09:04:01   \n",
              "\n",
              "                                              tokens  \\\n",
              "0  [uk, prime, minister, theresa, may, face, vote...   \n",
              "1  [uk, pm, theresa, may, wins, confidence, vote,...   \n",
              "2  [probe, inaugural, fund, partly, arises, mater...   \n",
              "3  [week, brexit, hit, brick, wall, :, commons, ’...   \n",
              "4  [watched, kinds, pictures, looking, body, lang...   \n",
              "5  [worlds, successful, people, start, day, 4, .,...   \n",
              "6  [“, pearl, harbor, ., whole, country, ,, whole...   \n",
              "7  [jose, mourinho, sacked, manchester, united, ....   \n",
              "8  [pursue, ideas, ,, matter, obvious, seem, http...   \n",
              "9  [’, choose, leader, life, https://t.co/sc9fi5v...   \n",
              "\n",
              "                                          tokens_url  \n",
              "0                          [https://t.co/wzta1v9scu]  \n",
              "1  [https://t.co/9vw2goqodc, https://t.co/bafuusz...  \n",
              "2                          [https://t.co/wvercqwnvg]  \n",
              "3                                                 []  \n",
              "4                          [https://t.co/1tg4h62z7l]  \n",
              "5                          [https://t.co/sef0u4xwp8]  \n",
              "6                          [https://t.co/vposikgvim]  \n",
              "7  [https://t.co/xl8mju4w1u, https://t.co/zdrd3vu...  \n",
              "8                          [https://t.co/irqq39x9h2]  \n",
              "9                          [https://t.co/sc9fi5v8zs]  "
            ],
            "text/html": [
              "\n",
              "  <div id=\"df-6f43da31-1d39-48d1-ad69-b9fc34266833\">\n",
              "    <div class=\"colab-df-container\">\n",
              "      <div>\n",
              "<style scoped>\n",
              "    .dataframe tbody tr th:only-of-type {\n",
              "        vertical-align: middle;\n",
              "    }\n",
              "\n",
              "    .dataframe tbody tr th {\n",
              "        vertical-align: top;\n",
              "    }\n",
              "\n",
              "    .dataframe thead th {\n",
              "        text-align: right;\n",
              "    }\n",
              "</style>\n",
              "<table border=\"1\" class=\"dataframe\">\n",
              "  <thead>\n",
              "    <tr style=\"text-align: right;\">\n",
              "      <th></th>\n",
              "      <th>tweetID</th>\n",
              "      <th>text</th>\n",
              "      <th>topicName</th>\n",
              "      <th>usID</th>\n",
              "      <th>usName</th>\n",
              "      <th>edInput</th>\n",
              "      <th>crDate</th>\n",
              "      <th>tokens</th>\n",
              "      <th>tokens_url</th>\n",
              "    </tr>\n",
              "  </thead>\n",
              "  <tbody>\n",
              "    <tr>\n",
              "      <th>0</th>\n",
              "      <td>1072758722315862021</td>\n",
              "      <td>UK Prime Minister Theresa May will face a vote...</td>\n",
              "      <td>Business</td>\n",
              "      <td>5402612</td>\n",
              "      <td>BBC Breaking News</td>\n",
              "      <td>2</td>\n",
              "      <td>2018-12-12 07:43:04</td>\n",
              "      <td>[uk, prime, minister, theresa, may, face, vote...</td>\n",
              "      <td>[https://t.co/wzta1v9scu]</td>\n",
              "    </tr>\n",
              "    <tr>\n",
              "      <th>1</th>\n",
              "      <td>1072959907958276096</td>\n",
              "      <td>UK PM Theresa May wins confidence vote with 20...</td>\n",
              "      <td>Business</td>\n",
              "      <td>5402612</td>\n",
              "      <td>BBC Breaking News</td>\n",
              "      <td>2</td>\n",
              "      <td>2018-12-12 21:02:31</td>\n",
              "      <td>[uk, pm, theresa, may, wins, confidence, vote,...</td>\n",
              "      <td>[https://t.co/9vw2goqodc, https://t.co/bafuusz...</td>\n",
              "    </tr>\n",
              "    <tr>\n",
              "      <th>2</th>\n",
              "      <td>1073329348755767303</td>\n",
              "      <td>The probe of the inaugural fund partly arises ...</td>\n",
              "      <td>Business</td>\n",
              "      <td>705706292</td>\n",
              "      <td>Rebecca Ballhaus</td>\n",
              "      <td>2</td>\n",
              "      <td>2018-12-13 21:30:32</td>\n",
              "      <td>[probe, inaugural, fund, partly, arises, mater...</td>\n",
              "      <td>[https://t.co/wvercqwnvg]</td>\n",
              "    </tr>\n",
              "    <tr>\n",
              "      <th>3</th>\n",
              "      <td>1073499538659393536</td>\n",
              "      <td>The week Brexit hit the brick wall :  Commons ...</td>\n",
              "      <td>Business</td>\n",
              "      <td>25984418</td>\n",
              "      <td>Nick Robinson</td>\n",
              "      <td>1</td>\n",
              "      <td>2018-12-14 08:46:49</td>\n",
              "      <td>[week, brexit, hit, brick, wall, :, commons, ’...</td>\n",
              "      <td>[]</td>\n",
              "    </tr>\n",
              "    <tr>\n",
              "      <th>4</th>\n",
              "      <td>1073542862573371392</td>\n",
              "      <td>Have watched these kinds of pictures looking f...</td>\n",
              "      <td>Business</td>\n",
              "      <td>61183568</td>\n",
              "      <td>Laura Kuenssberg</td>\n",
              "      <td>2</td>\n",
              "      <td>2018-12-14 11:38:58</td>\n",
              "      <td>[watched, kinds, pictures, looking, body, lang...</td>\n",
              "      <td>[https://t.co/1tg4h62z7l]</td>\n",
              "    </tr>\n",
              "    <tr>\n",
              "      <th>5</th>\n",
              "      <td>1074475798227226627</td>\n",
              "      <td>The world's most successful people start their...</td>\n",
              "      <td>Business</td>\n",
              "      <td>16896485</td>\n",
              "      <td>Inc.</td>\n",
              "      <td>2</td>\n",
              "      <td>2018-12-17 01:26:07</td>\n",
              "      <td>[worlds, successful, people, start, day, 4, .,...</td>\n",
              "      <td>[https://t.co/sef0u4xwp8]</td>\n",
              "    </tr>\n",
              "    <tr>\n",
              "      <th>6</th>\n",
              "      <td>1074056878542471169</td>\n",
              "      <td>“This is Pearl Harbor. The whole country, and ...</td>\n",
              "      <td>Business</td>\n",
              "      <td>41154223</td>\n",
              "      <td>Saikat Chakrabarti</td>\n",
              "      <td>1</td>\n",
              "      <td>2018-12-15 21:41:29</td>\n",
              "      <td>[“, pearl, harbor, ., whole, country, ,, whole...</td>\n",
              "      <td>[https://t.co/vposikgvim]</td>\n",
              "    </tr>\n",
              "    <tr>\n",
              "      <th>7</th>\n",
              "      <td>1074964829830557696</td>\n",
              "      <td>Jose Mourinho has been sacked by Manchester Un...</td>\n",
              "      <td>Business</td>\n",
              "      <td>265902729</td>\n",
              "      <td>BBC Sport</td>\n",
              "      <td>2</td>\n",
              "      <td>2018-12-18 09:49:21</td>\n",
              "      <td>[jose, mourinho, sacked, manchester, united, ....</td>\n",
              "      <td>[https://t.co/xl8mju4w1u, https://t.co/zdrd3vu...</td>\n",
              "    </tr>\n",
              "    <tr>\n",
              "      <th>8</th>\n",
              "      <td>1075269960086241281</td>\n",
              "      <td>Pursue your ideas, no matter how obvious they ...</td>\n",
              "      <td>Business</td>\n",
              "      <td>14800270</td>\n",
              "      <td>Harvard Biz Review</td>\n",
              "      <td>1</td>\n",
              "      <td>2018-12-19 06:01:50</td>\n",
              "      <td>[pursue, ideas, ,, matter, obvious, seem, http...</td>\n",
              "      <td>[https://t.co/irqq39x9h2]</td>\n",
              "    </tr>\n",
              "    <tr>\n",
              "      <th>9</th>\n",
              "      <td>1075315807666794496</td>\n",
              "      <td>You don’t have to choose between being a leade...</td>\n",
              "      <td>Business</td>\n",
              "      <td>14800270</td>\n",
              "      <td>Harvard Biz Review</td>\n",
              "      <td>1</td>\n",
              "      <td>2018-12-19 09:04:01</td>\n",
              "      <td>[’, choose, leader, life, https://t.co/sc9fi5v...</td>\n",
              "      <td>[https://t.co/sc9fi5v8zs]</td>\n",
              "    </tr>\n",
              "  </tbody>\n",
              "</table>\n",
              "</div>\n",
              "      <button class=\"colab-df-convert\" onclick=\"convertToInteractive('df-6f43da31-1d39-48d1-ad69-b9fc34266833')\"\n",
              "              title=\"Convert this dataframe to an interactive table.\"\n",
              "              style=\"display:none;\">\n",
              "        \n",
              "  <svg xmlns=\"http://www.w3.org/2000/svg\" height=\"24px\"viewBox=\"0 0 24 24\"\n",
              "       width=\"24px\">\n",
              "    <path d=\"M0 0h24v24H0V0z\" fill=\"none\"/>\n",
              "    <path d=\"M18.56 5.44l.94 2.06.94-2.06 2.06-.94-2.06-.94-.94-2.06-.94 2.06-2.06.94zm-11 1L8.5 8.5l.94-2.06 2.06-.94-2.06-.94L8.5 2.5l-.94 2.06-2.06.94zm10 10l.94 2.06.94-2.06 2.06-.94-2.06-.94-.94-2.06-.94 2.06-2.06.94z\"/><path d=\"M17.41 7.96l-1.37-1.37c-.4-.4-.92-.59-1.43-.59-.52 0-1.04.2-1.43.59L10.3 9.45l-7.72 7.72c-.78.78-.78 2.05 0 2.83L4 21.41c.39.39.9.59 1.41.59.51 0 1.02-.2 1.41-.59l7.78-7.78 2.81-2.81c.8-.78.8-2.07 0-2.86zM5.41 20L4 18.59l7.72-7.72 1.47 1.35L5.41 20z\"/>\n",
              "  </svg>\n",
              "      </button>\n",
              "      \n",
              "  <style>\n",
              "    .colab-df-container {\n",
              "      display:flex;\n",
              "      flex-wrap:wrap;\n",
              "      gap: 12px;\n",
              "    }\n",
              "\n",
              "    .colab-df-convert {\n",
              "      background-color: #E8F0FE;\n",
              "      border: none;\n",
              "      border-radius: 50%;\n",
              "      cursor: pointer;\n",
              "      display: none;\n",
              "      fill: #1967D2;\n",
              "      height: 32px;\n",
              "      padding: 0 0 0 0;\n",
              "      width: 32px;\n",
              "    }\n",
              "\n",
              "    .colab-df-convert:hover {\n",
              "      background-color: #E2EBFA;\n",
              "      box-shadow: 0px 1px 2px rgba(60, 64, 67, 0.3), 0px 1px 3px 1px rgba(60, 64, 67, 0.15);\n",
              "      fill: #174EA6;\n",
              "    }\n",
              "\n",
              "    [theme=dark] .colab-df-convert {\n",
              "      background-color: #3B4455;\n",
              "      fill: #D2E3FC;\n",
              "    }\n",
              "\n",
              "    [theme=dark] .colab-df-convert:hover {\n",
              "      background-color: #434B5C;\n",
              "      box-shadow: 0px 1px 3px 1px rgba(0, 0, 0, 0.15);\n",
              "      filter: drop-shadow(0px 1px 2px rgba(0, 0, 0, 0.3));\n",
              "      fill: #FFFFFF;\n",
              "    }\n",
              "  </style>\n",
              "\n",
              "      <script>\n",
              "        const buttonEl =\n",
              "          document.querySelector('#df-6f43da31-1d39-48d1-ad69-b9fc34266833 button.colab-df-convert');\n",
              "        buttonEl.style.display =\n",
              "          google.colab.kernel.accessAllowed ? 'block' : 'none';\n",
              "\n",
              "        async function convertToInteractive(key) {\n",
              "          const element = document.querySelector('#df-6f43da31-1d39-48d1-ad69-b9fc34266833');\n",
              "          const dataTable =\n",
              "            await google.colab.kernel.invokeFunction('convertToInteractive',\n",
              "                                                     [key], {});\n",
              "          if (!dataTable) return;\n",
              "\n",
              "          const docLinkHtml = 'Like what you see? Visit the ' +\n",
              "            '<a target=\"_blank\" href=https://colab.research.google.com/notebooks/data_table.ipynb>data table notebook</a>'\n",
              "            + ' to learn more about interactive tables.';\n",
              "          element.innerHTML = '';\n",
              "          dataTable['output_type'] = 'display_data';\n",
              "          await google.colab.output.renderOutput(dataTable, element);\n",
              "          const docLink = document.createElement('div');\n",
              "          docLink.innerHTML = docLinkHtml;\n",
              "          element.appendChild(docLink);\n",
              "        }\n",
              "      </script>\n",
              "    </div>\n",
              "  </div>\n",
              "  "
            ]
          },
          "metadata": {},
          "execution_count": 77
        }
      ],
      "source": [
        "df_section.head(10)"
      ]
    },
    {
      "cell_type": "code",
      "source": [
        "df_section.info()"
      ],
      "metadata": {
        "colab": {
          "base_uri": "https://localhost:8080/"
        },
        "id": "fD5Mj8AY6WF6",
        "outputId": "c6eda200-ddff-4aa8-8cba-c41bee6a1679"
      },
      "id": "fD5Mj8AY6WF6",
      "execution_count": 78,
      "outputs": [
        {
          "output_type": "stream",
          "name": "stdout",
          "text": [
            "<class 'pandas.core.frame.DataFrame'>\n",
            "Int64Index: 30021 entries, 0 to 30023\n",
            "Data columns (total 9 columns):\n",
            " #   Column      Non-Null Count  Dtype \n",
            "---  ------      --------------  ----- \n",
            " 0   tweetID     30021 non-null  int64 \n",
            " 1   text        30021 non-null  object\n",
            " 2   topicName   30021 non-null  object\n",
            " 3   usID        30021 non-null  int64 \n",
            " 4   usName      30021 non-null  object\n",
            " 5   edInput     30021 non-null  int64 \n",
            " 6   crDate      30021 non-null  object\n",
            " 7   tokens      30021 non-null  object\n",
            " 8   tokens_url  30021 non-null  object\n",
            "dtypes: int64(3), object(6)\n",
            "memory usage: 2.3+ MB\n"
          ]
        }
      ]
    },
    {
      "cell_type": "code",
      "source": [
        "list(df_section.iloc[1:2,8])"
      ],
      "metadata": {
        "colab": {
          "base_uri": "https://localhost:8080/"
        },
        "id": "kNvbN0Cj6PrB",
        "outputId": "bd0d52a6-e245-4913-f83b-7bee0dfe96d1"
      },
      "id": "kNvbN0Cj6PrB",
      "execution_count": 79,
      "outputs": [
        {
          "output_type": "execute_result",
          "data": {
            "text/plain": [
              "[['https://t.co/9vw2goqodc', 'https://t.co/bafuuszoka']]"
            ]
          },
          "metadata": {},
          "execution_count": 79
        }
      ]
    },
    {
      "cell_type": "code",
      "source": [
        "list(df_section.iloc[1:2,1])"
      ],
      "metadata": {
        "colab": {
          "base_uri": "https://localhost:8080/"
        },
        "id": "XyXoWTuv6iAs",
        "outputId": "9ab888cf-bd1e-4f3c-a4d0-c245c3b2e435"
      },
      "id": "XyXoWTuv6iAs",
      "execution_count": 80,
      "outputs": [
        {
          "output_type": "execute_result",
          "data": {
            "text/plain": [
              "['UK PM Theresa May wins confidence vote with 200 out of 317 Tory MPs supporting her to stay on as leader\\n\\nhttps://t.co/9Vw2gOQoDc https://t.co/bafuUsZoKa']"
            ]
          },
          "metadata": {},
          "execution_count": 80
        }
      ]
    },
    {
      "cell_type": "code",
      "source": [
        "df_section['tokens_new'] = ''"
      ],
      "metadata": {
        "id": "Q-I7Ar-2wetX"
      },
      "id": "Q-I7Ar-2wetX",
      "execution_count": 81,
      "outputs": []
    },
    {
      "cell_type": "code",
      "source": [
        "#remove punctuations\n",
        "\n",
        "def no_punc(string):\n",
        "  no_punc = [w for w in string if w.isalpha()]\n",
        "  return no_punc\n",
        "\n",
        "df_section['tokens_new'] = df_section['tokens'].apply(no_punc)"
      ],
      "metadata": {
        "id": "eKAMOqYQvGrE"
      },
      "id": "eKAMOqYQvGrE",
      "execution_count": 82,
      "outputs": []
    },
    {
      "cell_type": "code",
      "source": [
        "df_section.head(5)"
      ],
      "metadata": {
        "colab": {
          "base_uri": "https://localhost:8080/",
          "height": 418
        },
        "id": "2pBzDtnixMH5",
        "outputId": "654ba502-0eb0-4bbd-e662-9b9004ee7eca"
      },
      "id": "2pBzDtnixMH5",
      "execution_count": 83,
      "outputs": [
        {
          "output_type": "execute_result",
          "data": {
            "text/plain": [
              "               tweetID                                               text  \\\n",
              "0  1072758722315862021  UK Prime Minister Theresa May will face a vote...   \n",
              "1  1072959907958276096  UK PM Theresa May wins confidence vote with 20...   \n",
              "2  1073329348755767303  The probe of the inaugural fund partly arises ...   \n",
              "3  1073499538659393536  The week Brexit hit the brick wall :  Commons ...   \n",
              "4  1073542862573371392  Have watched these kinds of pictures looking f...   \n",
              "\n",
              "  topicName       usID             usName  edInput               crDate  \\\n",
              "0  Business    5402612  BBC Breaking News        2  2018-12-12 07:43:04   \n",
              "1  Business    5402612  BBC Breaking News        2  2018-12-12 21:02:31   \n",
              "2  Business  705706292   Rebecca Ballhaus        2  2018-12-13 21:30:32   \n",
              "3  Business   25984418      Nick Robinson        1  2018-12-14 08:46:49   \n",
              "4  Business   61183568   Laura Kuenssberg        2  2018-12-14 11:38:58   \n",
              "\n",
              "                                              tokens  \\\n",
              "0  [uk, prime, minister, theresa, may, face, vote...   \n",
              "1  [uk, pm, theresa, may, wins, confidence, vote,...   \n",
              "2  [probe, inaugural, fund, partly, arises, mater...   \n",
              "3  [week, brexit, hit, brick, wall, :, commons, ’...   \n",
              "4  [watched, kinds, pictures, looking, body, lang...   \n",
              "\n",
              "                                          tokens_url  \\\n",
              "0                          [https://t.co/wzta1v9scu]   \n",
              "1  [https://t.co/9vw2goqodc, https://t.co/bafuusz...   \n",
              "2                          [https://t.co/wvercqwnvg]   \n",
              "3                                                 []   \n",
              "4                          [https://t.co/1tg4h62z7l]   \n",
              "\n",
              "                                          tokens_new  \n",
              "0  [uk, prime, minister, theresa, may, face, vote...  \n",
              "1  [uk, pm, theresa, may, wins, confidence, vote,...  \n",
              "2  [probe, inaugural, fund, partly, arises, mater...  \n",
              "3  [week, brexit, hit, brick, wall, commons, acce...  \n",
              "4  [watched, kinds, pictures, looking, body, lang...  "
            ],
            "text/html": [
              "\n",
              "  <div id=\"df-289e2b7f-cee4-41f1-8ee7-8ccb049bbe5b\">\n",
              "    <div class=\"colab-df-container\">\n",
              "      <div>\n",
              "<style scoped>\n",
              "    .dataframe tbody tr th:only-of-type {\n",
              "        vertical-align: middle;\n",
              "    }\n",
              "\n",
              "    .dataframe tbody tr th {\n",
              "        vertical-align: top;\n",
              "    }\n",
              "\n",
              "    .dataframe thead th {\n",
              "        text-align: right;\n",
              "    }\n",
              "</style>\n",
              "<table border=\"1\" class=\"dataframe\">\n",
              "  <thead>\n",
              "    <tr style=\"text-align: right;\">\n",
              "      <th></th>\n",
              "      <th>tweetID</th>\n",
              "      <th>text</th>\n",
              "      <th>topicName</th>\n",
              "      <th>usID</th>\n",
              "      <th>usName</th>\n",
              "      <th>edInput</th>\n",
              "      <th>crDate</th>\n",
              "      <th>tokens</th>\n",
              "      <th>tokens_url</th>\n",
              "      <th>tokens_new</th>\n",
              "    </tr>\n",
              "  </thead>\n",
              "  <tbody>\n",
              "    <tr>\n",
              "      <th>0</th>\n",
              "      <td>1072758722315862021</td>\n",
              "      <td>UK Prime Minister Theresa May will face a vote...</td>\n",
              "      <td>Business</td>\n",
              "      <td>5402612</td>\n",
              "      <td>BBC Breaking News</td>\n",
              "      <td>2</td>\n",
              "      <td>2018-12-12 07:43:04</td>\n",
              "      <td>[uk, prime, minister, theresa, may, face, vote...</td>\n",
              "      <td>[https://t.co/wzta1v9scu]</td>\n",
              "      <td>[uk, prime, minister, theresa, may, face, vote...</td>\n",
              "    </tr>\n",
              "    <tr>\n",
              "      <th>1</th>\n",
              "      <td>1072959907958276096</td>\n",
              "      <td>UK PM Theresa May wins confidence vote with 20...</td>\n",
              "      <td>Business</td>\n",
              "      <td>5402612</td>\n",
              "      <td>BBC Breaking News</td>\n",
              "      <td>2</td>\n",
              "      <td>2018-12-12 21:02:31</td>\n",
              "      <td>[uk, pm, theresa, may, wins, confidence, vote,...</td>\n",
              "      <td>[https://t.co/9vw2goqodc, https://t.co/bafuusz...</td>\n",
              "      <td>[uk, pm, theresa, may, wins, confidence, vote,...</td>\n",
              "    </tr>\n",
              "    <tr>\n",
              "      <th>2</th>\n",
              "      <td>1073329348755767303</td>\n",
              "      <td>The probe of the inaugural fund partly arises ...</td>\n",
              "      <td>Business</td>\n",
              "      <td>705706292</td>\n",
              "      <td>Rebecca Ballhaus</td>\n",
              "      <td>2</td>\n",
              "      <td>2018-12-13 21:30:32</td>\n",
              "      <td>[probe, inaugural, fund, partly, arises, mater...</td>\n",
              "      <td>[https://t.co/wvercqwnvg]</td>\n",
              "      <td>[probe, inaugural, fund, partly, arises, mater...</td>\n",
              "    </tr>\n",
              "    <tr>\n",
              "      <th>3</th>\n",
              "      <td>1073499538659393536</td>\n",
              "      <td>The week Brexit hit the brick wall :  Commons ...</td>\n",
              "      <td>Business</td>\n",
              "      <td>25984418</td>\n",
              "      <td>Nick Robinson</td>\n",
              "      <td>1</td>\n",
              "      <td>2018-12-14 08:46:49</td>\n",
              "      <td>[week, brexit, hit, brick, wall, :, commons, ’...</td>\n",
              "      <td>[]</td>\n",
              "      <td>[week, brexit, hit, brick, wall, commons, acce...</td>\n",
              "    </tr>\n",
              "    <tr>\n",
              "      <th>4</th>\n",
              "      <td>1073542862573371392</td>\n",
              "      <td>Have watched these kinds of pictures looking f...</td>\n",
              "      <td>Business</td>\n",
              "      <td>61183568</td>\n",
              "      <td>Laura Kuenssberg</td>\n",
              "      <td>2</td>\n",
              "      <td>2018-12-14 11:38:58</td>\n",
              "      <td>[watched, kinds, pictures, looking, body, lang...</td>\n",
              "      <td>[https://t.co/1tg4h62z7l]</td>\n",
              "      <td>[watched, kinds, pictures, looking, body, lang...</td>\n",
              "    </tr>\n",
              "  </tbody>\n",
              "</table>\n",
              "</div>\n",
              "      <button class=\"colab-df-convert\" onclick=\"convertToInteractive('df-289e2b7f-cee4-41f1-8ee7-8ccb049bbe5b')\"\n",
              "              title=\"Convert this dataframe to an interactive table.\"\n",
              "              style=\"display:none;\">\n",
              "        \n",
              "  <svg xmlns=\"http://www.w3.org/2000/svg\" height=\"24px\"viewBox=\"0 0 24 24\"\n",
              "       width=\"24px\">\n",
              "    <path d=\"M0 0h24v24H0V0z\" fill=\"none\"/>\n",
              "    <path d=\"M18.56 5.44l.94 2.06.94-2.06 2.06-.94-2.06-.94-.94-2.06-.94 2.06-2.06.94zm-11 1L8.5 8.5l.94-2.06 2.06-.94-2.06-.94L8.5 2.5l-.94 2.06-2.06.94zm10 10l.94 2.06.94-2.06 2.06-.94-2.06-.94-.94-2.06-.94 2.06-2.06.94z\"/><path d=\"M17.41 7.96l-1.37-1.37c-.4-.4-.92-.59-1.43-.59-.52 0-1.04.2-1.43.59L10.3 9.45l-7.72 7.72c-.78.78-.78 2.05 0 2.83L4 21.41c.39.39.9.59 1.41.59.51 0 1.02-.2 1.41-.59l7.78-7.78 2.81-2.81c.8-.78.8-2.07 0-2.86zM5.41 20L4 18.59l7.72-7.72 1.47 1.35L5.41 20z\"/>\n",
              "  </svg>\n",
              "      </button>\n",
              "      \n",
              "  <style>\n",
              "    .colab-df-container {\n",
              "      display:flex;\n",
              "      flex-wrap:wrap;\n",
              "      gap: 12px;\n",
              "    }\n",
              "\n",
              "    .colab-df-convert {\n",
              "      background-color: #E8F0FE;\n",
              "      border: none;\n",
              "      border-radius: 50%;\n",
              "      cursor: pointer;\n",
              "      display: none;\n",
              "      fill: #1967D2;\n",
              "      height: 32px;\n",
              "      padding: 0 0 0 0;\n",
              "      width: 32px;\n",
              "    }\n",
              "\n",
              "    .colab-df-convert:hover {\n",
              "      background-color: #E2EBFA;\n",
              "      box-shadow: 0px 1px 2px rgba(60, 64, 67, 0.3), 0px 1px 3px 1px rgba(60, 64, 67, 0.15);\n",
              "      fill: #174EA6;\n",
              "    }\n",
              "\n",
              "    [theme=dark] .colab-df-convert {\n",
              "      background-color: #3B4455;\n",
              "      fill: #D2E3FC;\n",
              "    }\n",
              "\n",
              "    [theme=dark] .colab-df-convert:hover {\n",
              "      background-color: #434B5C;\n",
              "      box-shadow: 0px 1px 3px 1px rgba(0, 0, 0, 0.15);\n",
              "      filter: drop-shadow(0px 1px 2px rgba(0, 0, 0, 0.3));\n",
              "      fill: #FFFFFF;\n",
              "    }\n",
              "  </style>\n",
              "\n",
              "      <script>\n",
              "        const buttonEl =\n",
              "          document.querySelector('#df-289e2b7f-cee4-41f1-8ee7-8ccb049bbe5b button.colab-df-convert');\n",
              "        buttonEl.style.display =\n",
              "          google.colab.kernel.accessAllowed ? 'block' : 'none';\n",
              "\n",
              "        async function convertToInteractive(key) {\n",
              "          const element = document.querySelector('#df-289e2b7f-cee4-41f1-8ee7-8ccb049bbe5b');\n",
              "          const dataTable =\n",
              "            await google.colab.kernel.invokeFunction('convertToInteractive',\n",
              "                                                     [key], {});\n",
              "          if (!dataTable) return;\n",
              "\n",
              "          const docLinkHtml = 'Like what you see? Visit the ' +\n",
              "            '<a target=\"_blank\" href=https://colab.research.google.com/notebooks/data_table.ipynb>data table notebook</a>'\n",
              "            + ' to learn more about interactive tables.';\n",
              "          element.innerHTML = '';\n",
              "          dataTable['output_type'] = 'display_data';\n",
              "          await google.colab.output.renderOutput(dataTable, element);\n",
              "          const docLink = document.createElement('div');\n",
              "          docLink.innerHTML = docLinkHtml;\n",
              "          element.appendChild(docLink);\n",
              "        }\n",
              "      </script>\n",
              "    </div>\n",
              "  </div>\n",
              "  "
            ]
          },
          "metadata": {},
          "execution_count": 83
        }
      ]
    },
    {
      "cell_type": "code",
      "source": [
        "#Lemmatizing starts here"
      ],
      "metadata": {
        "id": "5pbK7_Xa55ZQ"
      },
      "id": "5pbK7_Xa55ZQ",
      "execution_count": 84,
      "outputs": []
    },
    {
      "cell_type": "code",
      "source": [
        "from nltk.stem import WordNetLemmatizer"
      ],
      "metadata": {
        "id": "Go7gfL-v6f6J"
      },
      "id": "Go7gfL-v6f6J",
      "execution_count": 85,
      "outputs": []
    },
    {
      "cell_type": "code",
      "source": [
        "nltk.download('wordnet')"
      ],
      "metadata": {
        "colab": {
          "base_uri": "https://localhost:8080/"
        },
        "id": "tOYViPDkAGDG",
        "outputId": "080a4d90-3066-4f20-c473-6fccd24f9a57"
      },
      "id": "tOYViPDkAGDG",
      "execution_count": 86,
      "outputs": [
        {
          "output_type": "stream",
          "name": "stderr",
          "text": [
            "[nltk_data] Downloading package wordnet to /root/nltk_data...\n"
          ]
        },
        {
          "output_type": "execute_result",
          "data": {
            "text/plain": [
              "True"
            ]
          },
          "metadata": {},
          "execution_count": 86
        }
      ]
    },
    {
      "cell_type": "code",
      "source": [
        "nltk.download('omw-1.4')"
      ],
      "metadata": {
        "colab": {
          "base_uri": "https://localhost:8080/"
        },
        "id": "NWHrOFHRAMaq",
        "outputId": "f0a45bcf-2396-4beb-a8e7-e7263c0bb73a"
      },
      "id": "NWHrOFHRAMaq",
      "execution_count": 87,
      "outputs": [
        {
          "output_type": "stream",
          "name": "stderr",
          "text": [
            "[nltk_data] Downloading package omw-1.4 to /root/nltk_data...\n"
          ]
        },
        {
          "output_type": "execute_result",
          "data": {
            "text/plain": [
              "True"
            ]
          },
          "metadata": {},
          "execution_count": 87
        }
      ]
    },
    {
      "cell_type": "code",
      "source": [
        "wordnet_lemmatizer = WordNetLemmatizer()"
      ],
      "metadata": {
        "id": "WBsoo_fc_PzN"
      },
      "id": "WBsoo_fc_PzN",
      "execution_count": 88,
      "outputs": []
    },
    {
      "cell_type": "code",
      "source": [
        "df_section['tokens_lemmatize'] = ''"
      ],
      "metadata": {
        "id": "KTrMJS8vAr8I"
      },
      "id": "KTrMJS8vAr8I",
      "execution_count": 89,
      "outputs": []
    },
    {
      "cell_type": "code",
      "source": [
        "def word_lemmatize(string):\n",
        "  output = [wordnet_lemmatizer.lemmatize(w) for w in string]\n",
        "  return output\n",
        "\n",
        "df_section['tokens_lemmatize'] =df_section['tokens_new'].apply(word_lemmatize)"
      ],
      "metadata": {
        "id": "lI6H7-pb_fHn"
      },
      "id": "lI6H7-pb_fHn",
      "execution_count": 90,
      "outputs": []
    },
    {
      "cell_type": "code",
      "source": [
        "df_section.head(10)"
      ],
      "metadata": {
        "colab": {
          "base_uri": "https://localhost:8080/",
          "height": 794
        },
        "id": "Koa4EHtPB2JU",
        "outputId": "bd3a7029-fc27-44b3-b58b-c4c1d8a81971"
      },
      "id": "Koa4EHtPB2JU",
      "execution_count": 91,
      "outputs": [
        {
          "output_type": "execute_result",
          "data": {
            "text/plain": [
              "               tweetID                                               text  \\\n",
              "0  1072758722315862021  UK Prime Minister Theresa May will face a vote...   \n",
              "1  1072959907958276096  UK PM Theresa May wins confidence vote with 20...   \n",
              "2  1073329348755767303  The probe of the inaugural fund partly arises ...   \n",
              "3  1073499538659393536  The week Brexit hit the brick wall :  Commons ...   \n",
              "4  1073542862573371392  Have watched these kinds of pictures looking f...   \n",
              "5  1074475798227226627  The world's most successful people start their...   \n",
              "6  1074056878542471169  “This is Pearl Harbor. The whole country, and ...   \n",
              "7  1074964829830557696  Jose Mourinho has been sacked by Manchester Un...   \n",
              "8  1075269960086241281  Pursue your ideas, no matter how obvious they ...   \n",
              "9  1075315807666794496  You don’t have to choose between being a leade...   \n",
              "\n",
              "  topicName       usID              usName  edInput               crDate  \\\n",
              "0  Business    5402612   BBC Breaking News        2  2018-12-12 07:43:04   \n",
              "1  Business    5402612   BBC Breaking News        2  2018-12-12 21:02:31   \n",
              "2  Business  705706292    Rebecca Ballhaus        2  2018-12-13 21:30:32   \n",
              "3  Business   25984418       Nick Robinson        1  2018-12-14 08:46:49   \n",
              "4  Business   61183568    Laura Kuenssberg        2  2018-12-14 11:38:58   \n",
              "5  Business   16896485                Inc.        2  2018-12-17 01:26:07   \n",
              "6  Business   41154223  Saikat Chakrabarti        1  2018-12-15 21:41:29   \n",
              "7  Business  265902729           BBC Sport        2  2018-12-18 09:49:21   \n",
              "8  Business   14800270  Harvard Biz Review        1  2018-12-19 06:01:50   \n",
              "9  Business   14800270  Harvard Biz Review        1  2018-12-19 09:04:01   \n",
              "\n",
              "                                              tokens  \\\n",
              "0  [uk, prime, minister, theresa, may, face, vote...   \n",
              "1  [uk, pm, theresa, may, wins, confidence, vote,...   \n",
              "2  [probe, inaugural, fund, partly, arises, mater...   \n",
              "3  [week, brexit, hit, brick, wall, :, commons, ’...   \n",
              "4  [watched, kinds, pictures, looking, body, lang...   \n",
              "5  [worlds, successful, people, start, day, 4, .,...   \n",
              "6  [“, pearl, harbor, ., whole, country, ,, whole...   \n",
              "7  [jose, mourinho, sacked, manchester, united, ....   \n",
              "8  [pursue, ideas, ,, matter, obvious, seem, http...   \n",
              "9  [’, choose, leader, life, https://t.co/sc9fi5v...   \n",
              "\n",
              "                                          tokens_url  \\\n",
              "0                          [https://t.co/wzta1v9scu]   \n",
              "1  [https://t.co/9vw2goqodc, https://t.co/bafuusz...   \n",
              "2                          [https://t.co/wvercqwnvg]   \n",
              "3                                                 []   \n",
              "4                          [https://t.co/1tg4h62z7l]   \n",
              "5                          [https://t.co/sef0u4xwp8]   \n",
              "6                          [https://t.co/vposikgvim]   \n",
              "7  [https://t.co/xl8mju4w1u, https://t.co/zdrd3vu...   \n",
              "8                          [https://t.co/irqq39x9h2]   \n",
              "9                          [https://t.co/sc9fi5v8zs]   \n",
              "\n",
              "                                          tokens_new  \\\n",
              "0  [uk, prime, minister, theresa, may, face, vote...   \n",
              "1  [uk, pm, theresa, may, wins, confidence, vote,...   \n",
              "2  [probe, inaugural, fund, partly, arises, mater...   \n",
              "3  [week, brexit, hit, brick, wall, commons, acce...   \n",
              "4  [watched, kinds, pictures, looking, body, lang...   \n",
              "5           [worlds, successful, people, start, day]   \n",
              "6  [pearl, harbor, whole, country, whole, world, ...   \n",
              "7  [jose, mourinho, sacked, manchester, united, f...   \n",
              "8             [pursue, ideas, matter, obvious, seem]   \n",
              "9                             [choose, leader, life]   \n",
              "\n",
              "                                    tokens_lemmatize  \n",
              "0  [uk, prime, minister, theresa, may, face, vote...  \n",
              "1  [uk, pm, theresa, may, win, confidence, vote, ...  \n",
              "2  [probe, inaugural, fund, partly, arises, mater...  \n",
              "3  [week, brexit, hit, brick, wall, common, accep...  \n",
              "4  [watched, kind, picture, looking, body, langua...  \n",
              "5            [world, successful, people, start, day]  \n",
              "6  [pearl, harbor, whole, country, whole, world, ...  \n",
              "7  [jose, mourinho, sacked, manchester, united, f...  \n",
              "8              [pursue, idea, matter, obvious, seem]  \n",
              "9                             [choose, leader, life]  "
            ],
            "text/html": [
              "\n",
              "  <div id=\"df-7da84f5f-d1fb-4313-ab4a-f9e884b00f5f\">\n",
              "    <div class=\"colab-df-container\">\n",
              "      <div>\n",
              "<style scoped>\n",
              "    .dataframe tbody tr th:only-of-type {\n",
              "        vertical-align: middle;\n",
              "    }\n",
              "\n",
              "    .dataframe tbody tr th {\n",
              "        vertical-align: top;\n",
              "    }\n",
              "\n",
              "    .dataframe thead th {\n",
              "        text-align: right;\n",
              "    }\n",
              "</style>\n",
              "<table border=\"1\" class=\"dataframe\">\n",
              "  <thead>\n",
              "    <tr style=\"text-align: right;\">\n",
              "      <th></th>\n",
              "      <th>tweetID</th>\n",
              "      <th>text</th>\n",
              "      <th>topicName</th>\n",
              "      <th>usID</th>\n",
              "      <th>usName</th>\n",
              "      <th>edInput</th>\n",
              "      <th>crDate</th>\n",
              "      <th>tokens</th>\n",
              "      <th>tokens_url</th>\n",
              "      <th>tokens_new</th>\n",
              "      <th>tokens_lemmatize</th>\n",
              "    </tr>\n",
              "  </thead>\n",
              "  <tbody>\n",
              "    <tr>\n",
              "      <th>0</th>\n",
              "      <td>1072758722315862021</td>\n",
              "      <td>UK Prime Minister Theresa May will face a vote...</td>\n",
              "      <td>Business</td>\n",
              "      <td>5402612</td>\n",
              "      <td>BBC Breaking News</td>\n",
              "      <td>2</td>\n",
              "      <td>2018-12-12 07:43:04</td>\n",
              "      <td>[uk, prime, minister, theresa, may, face, vote...</td>\n",
              "      <td>[https://t.co/wzta1v9scu]</td>\n",
              "      <td>[uk, prime, minister, theresa, may, face, vote...</td>\n",
              "      <td>[uk, prime, minister, theresa, may, face, vote...</td>\n",
              "    </tr>\n",
              "    <tr>\n",
              "      <th>1</th>\n",
              "      <td>1072959907958276096</td>\n",
              "      <td>UK PM Theresa May wins confidence vote with 20...</td>\n",
              "      <td>Business</td>\n",
              "      <td>5402612</td>\n",
              "      <td>BBC Breaking News</td>\n",
              "      <td>2</td>\n",
              "      <td>2018-12-12 21:02:31</td>\n",
              "      <td>[uk, pm, theresa, may, wins, confidence, vote,...</td>\n",
              "      <td>[https://t.co/9vw2goqodc, https://t.co/bafuusz...</td>\n",
              "      <td>[uk, pm, theresa, may, wins, confidence, vote,...</td>\n",
              "      <td>[uk, pm, theresa, may, win, confidence, vote, ...</td>\n",
              "    </tr>\n",
              "    <tr>\n",
              "      <th>2</th>\n",
              "      <td>1073329348755767303</td>\n",
              "      <td>The probe of the inaugural fund partly arises ...</td>\n",
              "      <td>Business</td>\n",
              "      <td>705706292</td>\n",
              "      <td>Rebecca Ballhaus</td>\n",
              "      <td>2</td>\n",
              "      <td>2018-12-13 21:30:32</td>\n",
              "      <td>[probe, inaugural, fund, partly, arises, mater...</td>\n",
              "      <td>[https://t.co/wvercqwnvg]</td>\n",
              "      <td>[probe, inaugural, fund, partly, arises, mater...</td>\n",
              "      <td>[probe, inaugural, fund, partly, arises, mater...</td>\n",
              "    </tr>\n",
              "    <tr>\n",
              "      <th>3</th>\n",
              "      <td>1073499538659393536</td>\n",
              "      <td>The week Brexit hit the brick wall :  Commons ...</td>\n",
              "      <td>Business</td>\n",
              "      <td>25984418</td>\n",
              "      <td>Nick Robinson</td>\n",
              "      <td>1</td>\n",
              "      <td>2018-12-14 08:46:49</td>\n",
              "      <td>[week, brexit, hit, brick, wall, :, commons, ’...</td>\n",
              "      <td>[]</td>\n",
              "      <td>[week, brexit, hit, brick, wall, commons, acce...</td>\n",
              "      <td>[week, brexit, hit, brick, wall, common, accep...</td>\n",
              "    </tr>\n",
              "    <tr>\n",
              "      <th>4</th>\n",
              "      <td>1073542862573371392</td>\n",
              "      <td>Have watched these kinds of pictures looking f...</td>\n",
              "      <td>Business</td>\n",
              "      <td>61183568</td>\n",
              "      <td>Laura Kuenssberg</td>\n",
              "      <td>2</td>\n",
              "      <td>2018-12-14 11:38:58</td>\n",
              "      <td>[watched, kinds, pictures, looking, body, lang...</td>\n",
              "      <td>[https://t.co/1tg4h62z7l]</td>\n",
              "      <td>[watched, kinds, pictures, looking, body, lang...</td>\n",
              "      <td>[watched, kind, picture, looking, body, langua...</td>\n",
              "    </tr>\n",
              "    <tr>\n",
              "      <th>5</th>\n",
              "      <td>1074475798227226627</td>\n",
              "      <td>The world's most successful people start their...</td>\n",
              "      <td>Business</td>\n",
              "      <td>16896485</td>\n",
              "      <td>Inc.</td>\n",
              "      <td>2</td>\n",
              "      <td>2018-12-17 01:26:07</td>\n",
              "      <td>[worlds, successful, people, start, day, 4, .,...</td>\n",
              "      <td>[https://t.co/sef0u4xwp8]</td>\n",
              "      <td>[worlds, successful, people, start, day]</td>\n",
              "      <td>[world, successful, people, start, day]</td>\n",
              "    </tr>\n",
              "    <tr>\n",
              "      <th>6</th>\n",
              "      <td>1074056878542471169</td>\n",
              "      <td>“This is Pearl Harbor. The whole country, and ...</td>\n",
              "      <td>Business</td>\n",
              "      <td>41154223</td>\n",
              "      <td>Saikat Chakrabarti</td>\n",
              "      <td>1</td>\n",
              "      <td>2018-12-15 21:41:29</td>\n",
              "      <td>[“, pearl, harbor, ., whole, country, ,, whole...</td>\n",
              "      <td>[https://t.co/vposikgvim]</td>\n",
              "      <td>[pearl, harbor, whole, country, whole, world, ...</td>\n",
              "      <td>[pearl, harbor, whole, country, whole, world, ...</td>\n",
              "    </tr>\n",
              "    <tr>\n",
              "      <th>7</th>\n",
              "      <td>1074964829830557696</td>\n",
              "      <td>Jose Mourinho has been sacked by Manchester Un...</td>\n",
              "      <td>Business</td>\n",
              "      <td>265902729</td>\n",
              "      <td>BBC Sport</td>\n",
              "      <td>2</td>\n",
              "      <td>2018-12-18 09:49:21</td>\n",
              "      <td>[jose, mourinho, sacked, manchester, united, ....</td>\n",
              "      <td>[https://t.co/xl8mju4w1u, https://t.co/zdrd3vu...</td>\n",
              "      <td>[jose, mourinho, sacked, manchester, united, f...</td>\n",
              "      <td>[jose, mourinho, sacked, manchester, united, f...</td>\n",
              "    </tr>\n",
              "    <tr>\n",
              "      <th>8</th>\n",
              "      <td>1075269960086241281</td>\n",
              "      <td>Pursue your ideas, no matter how obvious they ...</td>\n",
              "      <td>Business</td>\n",
              "      <td>14800270</td>\n",
              "      <td>Harvard Biz Review</td>\n",
              "      <td>1</td>\n",
              "      <td>2018-12-19 06:01:50</td>\n",
              "      <td>[pursue, ideas, ,, matter, obvious, seem, http...</td>\n",
              "      <td>[https://t.co/irqq39x9h2]</td>\n",
              "      <td>[pursue, ideas, matter, obvious, seem]</td>\n",
              "      <td>[pursue, idea, matter, obvious, seem]</td>\n",
              "    </tr>\n",
              "    <tr>\n",
              "      <th>9</th>\n",
              "      <td>1075315807666794496</td>\n",
              "      <td>You don’t have to choose between being a leade...</td>\n",
              "      <td>Business</td>\n",
              "      <td>14800270</td>\n",
              "      <td>Harvard Biz Review</td>\n",
              "      <td>1</td>\n",
              "      <td>2018-12-19 09:04:01</td>\n",
              "      <td>[’, choose, leader, life, https://t.co/sc9fi5v...</td>\n",
              "      <td>[https://t.co/sc9fi5v8zs]</td>\n",
              "      <td>[choose, leader, life]</td>\n",
              "      <td>[choose, leader, life]</td>\n",
              "    </tr>\n",
              "  </tbody>\n",
              "</table>\n",
              "</div>\n",
              "      <button class=\"colab-df-convert\" onclick=\"convertToInteractive('df-7da84f5f-d1fb-4313-ab4a-f9e884b00f5f')\"\n",
              "              title=\"Convert this dataframe to an interactive table.\"\n",
              "              style=\"display:none;\">\n",
              "        \n",
              "  <svg xmlns=\"http://www.w3.org/2000/svg\" height=\"24px\"viewBox=\"0 0 24 24\"\n",
              "       width=\"24px\">\n",
              "    <path d=\"M0 0h24v24H0V0z\" fill=\"none\"/>\n",
              "    <path d=\"M18.56 5.44l.94 2.06.94-2.06 2.06-.94-2.06-.94-.94-2.06-.94 2.06-2.06.94zm-11 1L8.5 8.5l.94-2.06 2.06-.94-2.06-.94L8.5 2.5l-.94 2.06-2.06.94zm10 10l.94 2.06.94-2.06 2.06-.94-2.06-.94-.94-2.06-.94 2.06-2.06.94z\"/><path d=\"M17.41 7.96l-1.37-1.37c-.4-.4-.92-.59-1.43-.59-.52 0-1.04.2-1.43.59L10.3 9.45l-7.72 7.72c-.78.78-.78 2.05 0 2.83L4 21.41c.39.39.9.59 1.41.59.51 0 1.02-.2 1.41-.59l7.78-7.78 2.81-2.81c.8-.78.8-2.07 0-2.86zM5.41 20L4 18.59l7.72-7.72 1.47 1.35L5.41 20z\"/>\n",
              "  </svg>\n",
              "      </button>\n",
              "      \n",
              "  <style>\n",
              "    .colab-df-container {\n",
              "      display:flex;\n",
              "      flex-wrap:wrap;\n",
              "      gap: 12px;\n",
              "    }\n",
              "\n",
              "    .colab-df-convert {\n",
              "      background-color: #E8F0FE;\n",
              "      border: none;\n",
              "      border-radius: 50%;\n",
              "      cursor: pointer;\n",
              "      display: none;\n",
              "      fill: #1967D2;\n",
              "      height: 32px;\n",
              "      padding: 0 0 0 0;\n",
              "      width: 32px;\n",
              "    }\n",
              "\n",
              "    .colab-df-convert:hover {\n",
              "      background-color: #E2EBFA;\n",
              "      box-shadow: 0px 1px 2px rgba(60, 64, 67, 0.3), 0px 1px 3px 1px rgba(60, 64, 67, 0.15);\n",
              "      fill: #174EA6;\n",
              "    }\n",
              "\n",
              "    [theme=dark] .colab-df-convert {\n",
              "      background-color: #3B4455;\n",
              "      fill: #D2E3FC;\n",
              "    }\n",
              "\n",
              "    [theme=dark] .colab-df-convert:hover {\n",
              "      background-color: #434B5C;\n",
              "      box-shadow: 0px 1px 3px 1px rgba(0, 0, 0, 0.15);\n",
              "      filter: drop-shadow(0px 1px 2px rgba(0, 0, 0, 0.3));\n",
              "      fill: #FFFFFF;\n",
              "    }\n",
              "  </style>\n",
              "\n",
              "      <script>\n",
              "        const buttonEl =\n",
              "          document.querySelector('#df-7da84f5f-d1fb-4313-ab4a-f9e884b00f5f button.colab-df-convert');\n",
              "        buttonEl.style.display =\n",
              "          google.colab.kernel.accessAllowed ? 'block' : 'none';\n",
              "\n",
              "        async function convertToInteractive(key) {\n",
              "          const element = document.querySelector('#df-7da84f5f-d1fb-4313-ab4a-f9e884b00f5f');\n",
              "          const dataTable =\n",
              "            await google.colab.kernel.invokeFunction('convertToInteractive',\n",
              "                                                     [key], {});\n",
              "          if (!dataTable) return;\n",
              "\n",
              "          const docLinkHtml = 'Like what you see? Visit the ' +\n",
              "            '<a target=\"_blank\" href=https://colab.research.google.com/notebooks/data_table.ipynb>data table notebook</a>'\n",
              "            + ' to learn more about interactive tables.';\n",
              "          element.innerHTML = '';\n",
              "          dataTable['output_type'] = 'display_data';\n",
              "          await google.colab.output.renderOutput(dataTable, element);\n",
              "          const docLink = document.createElement('div');\n",
              "          docLink.innerHTML = docLinkHtml;\n",
              "          element.appendChild(docLink);\n",
              "        }\n",
              "      </script>\n",
              "    </div>\n",
              "  </div>\n",
              "  "
            ]
          },
          "metadata": {},
          "execution_count": 91
        }
      ]
    },
    {
      "cell_type": "code",
      "source": [
        "#usID and UsName has the same data"
      ],
      "metadata": {
        "id": "siTVKBuK9vji"
      },
      "id": "siTVKBuK9vji",
      "execution_count": 92,
      "outputs": []
    },
    {
      "cell_type": "code",
      "source": [
        "df_column_duplicate = df_section[df_section['usID'] == 2735591] \n",
        "df_column_duplicate['usName'].nunique()"
      ],
      "metadata": {
        "colab": {
          "base_uri": "https://localhost:8080/"
        },
        "id": "5WRF9GiS87pz",
        "outputId": "3ec24054-b30e-4281-fddf-48f2905e120a"
      },
      "id": "5WRF9GiS87pz",
      "execution_count": 93,
      "outputs": [
        {
          "output_type": "execute_result",
          "data": {
            "text/plain": [
              "0"
            ]
          },
          "metadata": {},
          "execution_count": 93
        }
      ]
    },
    {
      "cell_type": "code",
      "source": [
        "# Filter out Topic Name Column and edInput -1,3,4\n",
        "df_section = df_section[(df_section['edInput'] == 1) | (df_section['edInput'] == 2)]\n",
        "#df_model_baseline = df_section[['usName','edInput','tokens']].copy()\n",
        "df_model = df_section[['usName','text','edInput','tokens','tokens_lemmatize']].copy()"
      ],
      "metadata": {
        "id": "NhUvl1Yw7mII"
      },
      "id": "NhUvl1Yw7mII",
      "execution_count": 94,
      "outputs": []
    },
    {
      "cell_type": "code",
      "source": [
        "#Replace edInput value 1 with 0 and (Non-Business)\n",
        "#Replace edInput value 2 with 1 (Business)"
      ],
      "metadata": {
        "id": "D7oaljuBGalp"
      },
      "id": "D7oaljuBGalp",
      "execution_count": null,
      "outputs": []
    },
    {
      "cell_type": "code",
      "source": [
        "df_model['edInput'] = df_model['edInput'].replace(1,0) #Changed (03.14)"
      ],
      "metadata": {
        "id": "OGNlsVSZGlXn"
      },
      "id": "OGNlsVSZGlXn",
      "execution_count": 186,
      "outputs": []
    },
    {
      "cell_type": "code",
      "source": [
        "df_model['edInput'] = df_model['edInput'].replace(2,1) #Changed (03.14)"
      ],
      "metadata": {
        "id": "vxI0vC7lGxVU"
      },
      "id": "vxI0vC7lGxVU",
      "execution_count": 187,
      "outputs": []
    },
    {
      "cell_type": "code",
      "source": [
        "df_model.head()"
      ],
      "metadata": {
        "colab": {
          "base_uri": "https://localhost:8080/",
          "height": 204
        },
        "id": "EVVOR16BGzeH",
        "outputId": "622692d6-942a-4d22-8d64-fb5d501fcc55"
      },
      "id": "EVVOR16BGzeH",
      "execution_count": 188,
      "outputs": [
        {
          "output_type": "execute_result",
          "data": {
            "text/plain": [
              "              usName                                               text  \\\n",
              "0  BBC Breaking News  UK Prime Minister Theresa May will face a vote...   \n",
              "1  BBC Breaking News  UK PM Theresa May wins confidence vote with 20...   \n",
              "2   Rebecca Ballhaus  The probe of the inaugural fund partly arises ...   \n",
              "3      Nick Robinson  The week Brexit hit the brick wall :  Commons ...   \n",
              "4   Laura Kuenssberg  Have watched these kinds of pictures looking f...   \n",
              "\n",
              "   edInput                                             tokens  \\\n",
              "0        1  [uk, prime, minister, theresa, may, face, vote...   \n",
              "1        1  [uk, pm, theresa, may, wins, confidence, vote,...   \n",
              "2        1  [probe, inaugural, fund, partly, arises, mater...   \n",
              "3        0  [week, brexit, hit, brick, wall, :, commons, ’...   \n",
              "4        1  [watched, kinds, pictures, looking, body, lang...   \n",
              "\n",
              "                                    tokens_lemmatize  \n",
              "0  [uk, prime, minister, theresa, may, face, vote...  \n",
              "1  [uk, pm, theresa, may, win, confidence, vote, ...  \n",
              "2  [probe, inaugural, fund, partly, arises, mater...  \n",
              "3  [week, brexit, hit, brick, wall, common, accep...  \n",
              "4  [watched, kind, picture, looking, body, langua...  "
            ],
            "text/html": [
              "\n",
              "  <div id=\"df-7a470a40-5ba0-4227-ab2f-b245e0ee2afb\">\n",
              "    <div class=\"colab-df-container\">\n",
              "      <div>\n",
              "<style scoped>\n",
              "    .dataframe tbody tr th:only-of-type {\n",
              "        vertical-align: middle;\n",
              "    }\n",
              "\n",
              "    .dataframe tbody tr th {\n",
              "        vertical-align: top;\n",
              "    }\n",
              "\n",
              "    .dataframe thead th {\n",
              "        text-align: right;\n",
              "    }\n",
              "</style>\n",
              "<table border=\"1\" class=\"dataframe\">\n",
              "  <thead>\n",
              "    <tr style=\"text-align: right;\">\n",
              "      <th></th>\n",
              "      <th>usName</th>\n",
              "      <th>text</th>\n",
              "      <th>edInput</th>\n",
              "      <th>tokens</th>\n",
              "      <th>tokens_lemmatize</th>\n",
              "    </tr>\n",
              "  </thead>\n",
              "  <tbody>\n",
              "    <tr>\n",
              "      <th>0</th>\n",
              "      <td>BBC Breaking News</td>\n",
              "      <td>UK Prime Minister Theresa May will face a vote...</td>\n",
              "      <td>1</td>\n",
              "      <td>[uk, prime, minister, theresa, may, face, vote...</td>\n",
              "      <td>[uk, prime, minister, theresa, may, face, vote...</td>\n",
              "    </tr>\n",
              "    <tr>\n",
              "      <th>1</th>\n",
              "      <td>BBC Breaking News</td>\n",
              "      <td>UK PM Theresa May wins confidence vote with 20...</td>\n",
              "      <td>1</td>\n",
              "      <td>[uk, pm, theresa, may, wins, confidence, vote,...</td>\n",
              "      <td>[uk, pm, theresa, may, win, confidence, vote, ...</td>\n",
              "    </tr>\n",
              "    <tr>\n",
              "      <th>2</th>\n",
              "      <td>Rebecca Ballhaus</td>\n",
              "      <td>The probe of the inaugural fund partly arises ...</td>\n",
              "      <td>1</td>\n",
              "      <td>[probe, inaugural, fund, partly, arises, mater...</td>\n",
              "      <td>[probe, inaugural, fund, partly, arises, mater...</td>\n",
              "    </tr>\n",
              "    <tr>\n",
              "      <th>3</th>\n",
              "      <td>Nick Robinson</td>\n",
              "      <td>The week Brexit hit the brick wall :  Commons ...</td>\n",
              "      <td>0</td>\n",
              "      <td>[week, brexit, hit, brick, wall, :, commons, ’...</td>\n",
              "      <td>[week, brexit, hit, brick, wall, common, accep...</td>\n",
              "    </tr>\n",
              "    <tr>\n",
              "      <th>4</th>\n",
              "      <td>Laura Kuenssberg</td>\n",
              "      <td>Have watched these kinds of pictures looking f...</td>\n",
              "      <td>1</td>\n",
              "      <td>[watched, kinds, pictures, looking, body, lang...</td>\n",
              "      <td>[watched, kind, picture, looking, body, langua...</td>\n",
              "    </tr>\n",
              "  </tbody>\n",
              "</table>\n",
              "</div>\n",
              "      <button class=\"colab-df-convert\" onclick=\"convertToInteractive('df-7a470a40-5ba0-4227-ab2f-b245e0ee2afb')\"\n",
              "              title=\"Convert this dataframe to an interactive table.\"\n",
              "              style=\"display:none;\">\n",
              "        \n",
              "  <svg xmlns=\"http://www.w3.org/2000/svg\" height=\"24px\"viewBox=\"0 0 24 24\"\n",
              "       width=\"24px\">\n",
              "    <path d=\"M0 0h24v24H0V0z\" fill=\"none\"/>\n",
              "    <path d=\"M18.56 5.44l.94 2.06.94-2.06 2.06-.94-2.06-.94-.94-2.06-.94 2.06-2.06.94zm-11 1L8.5 8.5l.94-2.06 2.06-.94-2.06-.94L8.5 2.5l-.94 2.06-2.06.94zm10 10l.94 2.06.94-2.06 2.06-.94-2.06-.94-.94-2.06-.94 2.06-2.06.94z\"/><path d=\"M17.41 7.96l-1.37-1.37c-.4-.4-.92-.59-1.43-.59-.52 0-1.04.2-1.43.59L10.3 9.45l-7.72 7.72c-.78.78-.78 2.05 0 2.83L4 21.41c.39.39.9.59 1.41.59.51 0 1.02-.2 1.41-.59l7.78-7.78 2.81-2.81c.8-.78.8-2.07 0-2.86zM5.41 20L4 18.59l7.72-7.72 1.47 1.35L5.41 20z\"/>\n",
              "  </svg>\n",
              "      </button>\n",
              "      \n",
              "  <style>\n",
              "    .colab-df-container {\n",
              "      display:flex;\n",
              "      flex-wrap:wrap;\n",
              "      gap: 12px;\n",
              "    }\n",
              "\n",
              "    .colab-df-convert {\n",
              "      background-color: #E8F0FE;\n",
              "      border: none;\n",
              "      border-radius: 50%;\n",
              "      cursor: pointer;\n",
              "      display: none;\n",
              "      fill: #1967D2;\n",
              "      height: 32px;\n",
              "      padding: 0 0 0 0;\n",
              "      width: 32px;\n",
              "    }\n",
              "\n",
              "    .colab-df-convert:hover {\n",
              "      background-color: #E2EBFA;\n",
              "      box-shadow: 0px 1px 2px rgba(60, 64, 67, 0.3), 0px 1px 3px 1px rgba(60, 64, 67, 0.15);\n",
              "      fill: #174EA6;\n",
              "    }\n",
              "\n",
              "    [theme=dark] .colab-df-convert {\n",
              "      background-color: #3B4455;\n",
              "      fill: #D2E3FC;\n",
              "    }\n",
              "\n",
              "    [theme=dark] .colab-df-convert:hover {\n",
              "      background-color: #434B5C;\n",
              "      box-shadow: 0px 1px 3px 1px rgba(0, 0, 0, 0.15);\n",
              "      filter: drop-shadow(0px 1px 2px rgba(0, 0, 0, 0.3));\n",
              "      fill: #FFFFFF;\n",
              "    }\n",
              "  </style>\n",
              "\n",
              "      <script>\n",
              "        const buttonEl =\n",
              "          document.querySelector('#df-7a470a40-5ba0-4227-ab2f-b245e0ee2afb button.colab-df-convert');\n",
              "        buttonEl.style.display =\n",
              "          google.colab.kernel.accessAllowed ? 'block' : 'none';\n",
              "\n",
              "        async function convertToInteractive(key) {\n",
              "          const element = document.querySelector('#df-7a470a40-5ba0-4227-ab2f-b245e0ee2afb');\n",
              "          const dataTable =\n",
              "            await google.colab.kernel.invokeFunction('convertToInteractive',\n",
              "                                                     [key], {});\n",
              "          if (!dataTable) return;\n",
              "\n",
              "          const docLinkHtml = 'Like what you see? Visit the ' +\n",
              "            '<a target=\"_blank\" href=https://colab.research.google.com/notebooks/data_table.ipynb>data table notebook</a>'\n",
              "            + ' to learn more about interactive tables.';\n",
              "          element.innerHTML = '';\n",
              "          dataTable['output_type'] = 'display_data';\n",
              "          await google.colab.output.renderOutput(dataTable, element);\n",
              "          const docLink = document.createElement('div');\n",
              "          docLink.innerHTML = docLinkHtml;\n",
              "          element.appendChild(docLink);\n",
              "        }\n",
              "      </script>\n",
              "    </div>\n",
              "  </div>\n",
              "  "
            ]
          },
          "metadata": {},
          "execution_count": 188
        }
      ]
    },
    {
      "cell_type": "code",
      "source": [
        "from sklearn.impute import SimpleImputer\n",
        "from sklearn.preprocessing import OneHotEncoder\n",
        "from sklearn.pipeline import Pipeline\n",
        "from sklearn.compose import ColumnTransformer\n",
        "from sklearn.linear_model import LogisticRegression\n",
        "from sklearn.model_selection import train_test_split\n",
        "from sklearn.feature_extraction.text import CountVectorizer\n",
        "from sklearn.metrics import confusion_matrix,accuracy_score,precision_score,recall_score,f1_score,classification_report\n",
        "from sklearn.model_selection import cross_val_score\n",
        "import time"
      ],
      "metadata": {
        "id": "NifMaAP2E161"
      },
      "id": "NifMaAP2E161",
      "execution_count": 189,
      "outputs": []
    },
    {
      "cell_type": "code",
      "source": [
        "#Create pipelines for categorical features\n",
        "steps_cat_logistic = [('imputer', SimpleImputer(strategy ='most_frequent')),\n",
        "                      ('onehot',OneHotEncoder(handle_unknown ='ignore'))]\n",
        "\n",
        "steps_text_logistic = [('vectorizer', CountVectorizer())]\n",
        "\n",
        "categorical_transformer = Pipeline(steps = steps_cat_logistic)\n",
        "text_transformer = Pipeline(steps = steps_text_logistic)\n",
        "\n",
        "categorical_features = ['usName']\n",
        "#text_features_baseline = 'tokens'\n",
        "text_features_baseline = 'text' #TODO (DONE): tokenize etmeden kullan - We get 0.01 percent better precision results\n",
        "text_features_final = 'tokens_lemmatize'"
      ],
      "metadata": {
        "id": "1SvLK82ZB3Uj"
      },
      "id": "1SvLK82ZB3Uj",
      "execution_count": 190,
      "outputs": []
    },
    {
      "cell_type": "code",
      "source": [
        "preprocessor_logistic_baseline = ColumnTransformer(transformers = [('cat',categorical_transformer, categorical_features),\n",
        "                                                          ('text',text_transformer,text_features_baseline)])"
      ],
      "metadata": {
        "id": "tFuzSXj7MpLj"
      },
      "id": "tFuzSXj7MpLj",
      "execution_count": 191,
      "outputs": []
    },
    {
      "cell_type": "code",
      "source": [
        "preprocessor_logistic = ColumnTransformer(transformers = [('cat',categorical_transformer, categorical_features),\n",
        "                                                          ('text',text_transformer,text_features_final)])"
      ],
      "metadata": {
        "id": "RsQL4msufZ62"
      },
      "id": "RsQL4msufZ62",
      "execution_count": 192,
      "outputs": []
    },
    {
      "cell_type": "code",
      "source": [
        "#>>>>Logistic Regression<<<<<\n",
        "#Trained Model with Both Baseline and Final Version.\n",
        "#Predictions were similar on the test data\n",
        "#Dimensions are same for both ???\n",
        "#Training Final version was 1 second faster than baseline\n",
        "#Final model slightly predicted better results than baseline. "
      ],
      "metadata": {
        "id": "XrFThQDdCMMq"
      },
      "id": "XrFThQDdCMMq",
      "execution_count": 193,
      "outputs": []
    },
    {
      "cell_type": "code",
      "source": [
        "#Test Logistic Regression Model (Baseline)"
      ],
      "metadata": {
        "id": "0YiSaKXENyrr"
      },
      "id": "0YiSaKXENyrr",
      "execution_count": 194,
      "outputs": []
    },
    {
      "cell_type": "code",
      "source": [
        "logreg_base = Pipeline (steps = [('preprocessor_logistic',preprocessor_logistic_baseline),\n",
        "                            ('regressor', LogisticRegression(max_iter=250))])"
      ],
      "metadata": {
        "id": "QpYlXMeWN30w"
      },
      "id": "QpYlXMeWN30w",
      "execution_count": 253,
      "outputs": []
    },
    {
      "cell_type": "code",
      "source": [
        "#Test Logistic Regression Model (Final)"
      ],
      "metadata": {
        "id": "rY1v9hBgfgGq"
      },
      "id": "rY1v9hBgfgGq",
      "execution_count": 254,
      "outputs": []
    },
    {
      "cell_type": "code",
      "source": [
        "logreg = Pipeline (steps = [('preprocessor_logistic',preprocessor_logistic),\n",
        "                            ('regressor', LogisticRegression(max_iter=250))])"
      ],
      "metadata": {
        "id": "AubjDXDAfgz6"
      },
      "id": "AubjDXDAfgz6",
      "execution_count": 255,
      "outputs": []
    },
    {
      "cell_type": "code",
      "source": [
        "#df_model_baseline.info()\n",
        "df_model.info()"
      ],
      "metadata": {
        "id": "FTYKEK4uS5w8",
        "colab": {
          "base_uri": "https://localhost:8080/"
        },
        "outputId": "ec96d4ae-a2fb-422d-853e-90796aca139d"
      },
      "id": "FTYKEK4uS5w8",
      "execution_count": 256,
      "outputs": [
        {
          "output_type": "stream",
          "name": "stdout",
          "text": [
            "<class 'pandas.core.frame.DataFrame'>\n",
            "Int64Index: 30021 entries, 0 to 30023\n",
            "Data columns (total 5 columns):\n",
            " #   Column            Non-Null Count  Dtype \n",
            "---  ------            --------------  ----- \n",
            " 0   usName            30021 non-null  object\n",
            " 1   text              30021 non-null  object\n",
            " 2   edInput           30021 non-null  int64 \n",
            " 3   tokens            30021 non-null  object\n",
            " 4   tokens_lemmatize  30021 non-null  object\n",
            "dtypes: int64(1), object(4)\n",
            "memory usage: 1.4+ MB\n"
          ]
        }
      ]
    },
    {
      "cell_type": "code",
      "source": [
        "y = df_model.edInput \n",
        "X = df_model.drop('edInput', axis =1).astype(str)"
      ],
      "metadata": {
        "id": "uthiOEI4QcuZ"
      },
      "id": "uthiOEI4QcuZ",
      "execution_count": 257,
      "outputs": []
    },
    {
      "cell_type": "code",
      "source": [
        "X.head(20)"
      ],
      "metadata": {
        "colab": {
          "base_uri": "https://localhost:8080/",
          "height": 669
        },
        "id": "1gWV_2ToVJEp",
        "outputId": "022ee72e-6f6e-4050-9a4a-c52164451ffd"
      },
      "id": "1gWV_2ToVJEp",
      "execution_count": 258,
      "outputs": [
        {
          "output_type": "execute_result",
          "data": {
            "text/plain": [
              "                usName                                               text  \\\n",
              "0    BBC Breaking News  UK Prime Minister Theresa May will face a vote...   \n",
              "1    BBC Breaking News  UK PM Theresa May wins confidence vote with 20...   \n",
              "2     Rebecca Ballhaus  The probe of the inaugural fund partly arises ...   \n",
              "3        Nick Robinson  The week Brexit hit the brick wall :  Commons ...   \n",
              "4     Laura Kuenssberg  Have watched these kinds of pictures looking f...   \n",
              "5                 Inc.  The world's most successful people start their...   \n",
              "6   Saikat Chakrabarti  “This is Pearl Harbor. The whole country, and ...   \n",
              "7            BBC Sport  Jose Mourinho has been sacked by Manchester Un...   \n",
              "8   Harvard Biz Review  Pursue your ideas, no matter how obvious they ...   \n",
              "9   Harvard Biz Review  You don’t have to choose between being a leade...   \n",
              "10    Business Insider  Meet the brand new Bugatti Divo https://t.co/W...   \n",
              "11        Tech Insider  Add a second monitor for your laptop https://t...   \n",
              "12        Tech Insider  Why Utah drops fish out of airplanes into its ...   \n",
              "13             INSIDER  We spent a day with one of the sanctuary's kee...   \n",
              "14    Business Insider  'Aquaman' has already made more money than its...   \n",
              "15             INSIDER  Here's what 8 a.m. looks like around the world...   \n",
              "16    Bloomberg Crypto  .@novogratz is putting more of his money where...   \n",
              "17    Business Insider  An exercise scientist explains why you shouldn...   \n",
              "18    Bloomberg Crypto  After a punishing year, crypto enthusiasts loo...   \n",
              "19    Business Insider  Honda's $4.9 million private jet is an absolut...   \n",
              "\n",
              "                                               tokens  \\\n",
              "0   ['uk', 'prime', 'minister', 'theresa', 'may', ...   \n",
              "1   ['uk', 'pm', 'theresa', 'may', 'wins', 'confid...   \n",
              "2   ['probe', 'inaugural', 'fund', 'partly', 'aris...   \n",
              "3   ['week', 'brexit', 'hit', 'brick', 'wall', ':'...   \n",
              "4   ['watched', 'kinds', 'pictures', 'looking', 'b...   \n",
              "5   ['worlds', 'successful', 'people', 'start', 'd...   \n",
              "6   ['“', 'pearl', 'harbor', '.', 'whole', 'countr...   \n",
              "7   ['jose', 'mourinho', 'sacked', 'manchester', '...   \n",
              "8   ['pursue', 'ideas', ',', 'matter', 'obvious', ...   \n",
              "9   ['’', 'choose', 'leader', 'life', 'https://t.c...   \n",
              "10  ['meet', 'brand', 'new', 'bugatti', 'divo', 'h...   \n",
              "11  ['add', 'second', 'monitor', 'laptop', 'https:...   \n",
              "12  ['utah', 'drops', 'fish', 'airplanes', 'mounta...   \n",
              "13  ['spent', 'day', 'one', 'sanctuarys', 'keepers...   \n",
              "14  ['', 'aquaman', '', 'already', 'made', 'money'...   \n",
              "15  ['heres', '8', '.', '.', 'looks', 'like', 'aro...   \n",
              "16  ['.', '@novogratz', 'putting', 'money', 'mouth...   \n",
              "17  ['exercise', 'scientist', 'explains', 'shouldn...   \n",
              "18  ['punishing', 'year', ',', 'crypto', 'enthusia...   \n",
              "19  ['hondas', '$', '4.9', 'million', 'private', '...   \n",
              "\n",
              "                                     tokens_lemmatize  \n",
              "0   ['uk', 'prime', 'minister', 'theresa', 'may', ...  \n",
              "1   ['uk', 'pm', 'theresa', 'may', 'win', 'confide...  \n",
              "2   ['probe', 'inaugural', 'fund', 'partly', 'aris...  \n",
              "3   ['week', 'brexit', 'hit', 'brick', 'wall', 'co...  \n",
              "4   ['watched', 'kind', 'picture', 'looking', 'bod...  \n",
              "5   ['world', 'successful', 'people', 'start', 'day']  \n",
              "6   ['pearl', 'harbor', 'whole', 'country', 'whole...  \n",
              "7   ['jose', 'mourinho', 'sacked', 'manchester', '...  \n",
              "8     ['pursue', 'idea', 'matter', 'obvious', 'seem']  \n",
              "9                        ['choose', 'leader', 'life']  \n",
              "10        ['meet', 'brand', 'new', 'bugatti', 'divo']  \n",
              "11             ['add', 'second', 'monitor', 'laptop']  \n",
              "12  ['utah', 'drop', 'fish', 'airplane', 'mountain...  \n",
              "13  ['spent', 'day', 'one', 'sanctuary', 'keeper',...  \n",
              "14  ['aquaman', 'already', 'made', 'money', 'produ...  \n",
              "15        ['here', 'look', 'like', 'around', 'world']  \n",
              "16  ['putting', 'money', 'mouth', 'come', 'cryptoc...  \n",
              "17  ['exercise', 'scientist', 'explains', 'shouldn...  \n",
              "18  ['punishing', 'year', 'crypto', 'enthusiast', ...  \n",
              "19  ['hondas', 'million', 'private', 'jet', 'absol...  "
            ],
            "text/html": [
              "\n",
              "  <div id=\"df-7c52ace3-fbfa-48f2-85f0-127035cce713\">\n",
              "    <div class=\"colab-df-container\">\n",
              "      <div>\n",
              "<style scoped>\n",
              "    .dataframe tbody tr th:only-of-type {\n",
              "        vertical-align: middle;\n",
              "    }\n",
              "\n",
              "    .dataframe tbody tr th {\n",
              "        vertical-align: top;\n",
              "    }\n",
              "\n",
              "    .dataframe thead th {\n",
              "        text-align: right;\n",
              "    }\n",
              "</style>\n",
              "<table border=\"1\" class=\"dataframe\">\n",
              "  <thead>\n",
              "    <tr style=\"text-align: right;\">\n",
              "      <th></th>\n",
              "      <th>usName</th>\n",
              "      <th>text</th>\n",
              "      <th>tokens</th>\n",
              "      <th>tokens_lemmatize</th>\n",
              "    </tr>\n",
              "  </thead>\n",
              "  <tbody>\n",
              "    <tr>\n",
              "      <th>0</th>\n",
              "      <td>BBC Breaking News</td>\n",
              "      <td>UK Prime Minister Theresa May will face a vote...</td>\n",
              "      <td>['uk', 'prime', 'minister', 'theresa', 'may', ...</td>\n",
              "      <td>['uk', 'prime', 'minister', 'theresa', 'may', ...</td>\n",
              "    </tr>\n",
              "    <tr>\n",
              "      <th>1</th>\n",
              "      <td>BBC Breaking News</td>\n",
              "      <td>UK PM Theresa May wins confidence vote with 20...</td>\n",
              "      <td>['uk', 'pm', 'theresa', 'may', 'wins', 'confid...</td>\n",
              "      <td>['uk', 'pm', 'theresa', 'may', 'win', 'confide...</td>\n",
              "    </tr>\n",
              "    <tr>\n",
              "      <th>2</th>\n",
              "      <td>Rebecca Ballhaus</td>\n",
              "      <td>The probe of the inaugural fund partly arises ...</td>\n",
              "      <td>['probe', 'inaugural', 'fund', 'partly', 'aris...</td>\n",
              "      <td>['probe', 'inaugural', 'fund', 'partly', 'aris...</td>\n",
              "    </tr>\n",
              "    <tr>\n",
              "      <th>3</th>\n",
              "      <td>Nick Robinson</td>\n",
              "      <td>The week Brexit hit the brick wall :  Commons ...</td>\n",
              "      <td>['week', 'brexit', 'hit', 'brick', 'wall', ':'...</td>\n",
              "      <td>['week', 'brexit', 'hit', 'brick', 'wall', 'co...</td>\n",
              "    </tr>\n",
              "    <tr>\n",
              "      <th>4</th>\n",
              "      <td>Laura Kuenssberg</td>\n",
              "      <td>Have watched these kinds of pictures looking f...</td>\n",
              "      <td>['watched', 'kinds', 'pictures', 'looking', 'b...</td>\n",
              "      <td>['watched', 'kind', 'picture', 'looking', 'bod...</td>\n",
              "    </tr>\n",
              "    <tr>\n",
              "      <th>5</th>\n",
              "      <td>Inc.</td>\n",
              "      <td>The world's most successful people start their...</td>\n",
              "      <td>['worlds', 'successful', 'people', 'start', 'd...</td>\n",
              "      <td>['world', 'successful', 'people', 'start', 'day']</td>\n",
              "    </tr>\n",
              "    <tr>\n",
              "      <th>6</th>\n",
              "      <td>Saikat Chakrabarti</td>\n",
              "      <td>“This is Pearl Harbor. The whole country, and ...</td>\n",
              "      <td>['“', 'pearl', 'harbor', '.', 'whole', 'countr...</td>\n",
              "      <td>['pearl', 'harbor', 'whole', 'country', 'whole...</td>\n",
              "    </tr>\n",
              "    <tr>\n",
              "      <th>7</th>\n",
              "      <td>BBC Sport</td>\n",
              "      <td>Jose Mourinho has been sacked by Manchester Un...</td>\n",
              "      <td>['jose', 'mourinho', 'sacked', 'manchester', '...</td>\n",
              "      <td>['jose', 'mourinho', 'sacked', 'manchester', '...</td>\n",
              "    </tr>\n",
              "    <tr>\n",
              "      <th>8</th>\n",
              "      <td>Harvard Biz Review</td>\n",
              "      <td>Pursue your ideas, no matter how obvious they ...</td>\n",
              "      <td>['pursue', 'ideas', ',', 'matter', 'obvious', ...</td>\n",
              "      <td>['pursue', 'idea', 'matter', 'obvious', 'seem']</td>\n",
              "    </tr>\n",
              "    <tr>\n",
              "      <th>9</th>\n",
              "      <td>Harvard Biz Review</td>\n",
              "      <td>You don’t have to choose between being a leade...</td>\n",
              "      <td>['’', 'choose', 'leader', 'life', 'https://t.c...</td>\n",
              "      <td>['choose', 'leader', 'life']</td>\n",
              "    </tr>\n",
              "    <tr>\n",
              "      <th>10</th>\n",
              "      <td>Business Insider</td>\n",
              "      <td>Meet the brand new Bugatti Divo https://t.co/W...</td>\n",
              "      <td>['meet', 'brand', 'new', 'bugatti', 'divo', 'h...</td>\n",
              "      <td>['meet', 'brand', 'new', 'bugatti', 'divo']</td>\n",
              "    </tr>\n",
              "    <tr>\n",
              "      <th>11</th>\n",
              "      <td>Tech Insider</td>\n",
              "      <td>Add a second monitor for your laptop https://t...</td>\n",
              "      <td>['add', 'second', 'monitor', 'laptop', 'https:...</td>\n",
              "      <td>['add', 'second', 'monitor', 'laptop']</td>\n",
              "    </tr>\n",
              "    <tr>\n",
              "      <th>12</th>\n",
              "      <td>Tech Insider</td>\n",
              "      <td>Why Utah drops fish out of airplanes into its ...</td>\n",
              "      <td>['utah', 'drops', 'fish', 'airplanes', 'mounta...</td>\n",
              "      <td>['utah', 'drop', 'fish', 'airplane', 'mountain...</td>\n",
              "    </tr>\n",
              "    <tr>\n",
              "      <th>13</th>\n",
              "      <td>INSIDER</td>\n",
              "      <td>We spent a day with one of the sanctuary's kee...</td>\n",
              "      <td>['spent', 'day', 'one', 'sanctuarys', 'keepers...</td>\n",
              "      <td>['spent', 'day', 'one', 'sanctuary', 'keeper',...</td>\n",
              "    </tr>\n",
              "    <tr>\n",
              "      <th>14</th>\n",
              "      <td>Business Insider</td>\n",
              "      <td>'Aquaman' has already made more money than its...</td>\n",
              "      <td>['', 'aquaman', '', 'already', 'made', 'money'...</td>\n",
              "      <td>['aquaman', 'already', 'made', 'money', 'produ...</td>\n",
              "    </tr>\n",
              "    <tr>\n",
              "      <th>15</th>\n",
              "      <td>INSIDER</td>\n",
              "      <td>Here's what 8 a.m. looks like around the world...</td>\n",
              "      <td>['heres', '8', '.', '.', 'looks', 'like', 'aro...</td>\n",
              "      <td>['here', 'look', 'like', 'around', 'world']</td>\n",
              "    </tr>\n",
              "    <tr>\n",
              "      <th>16</th>\n",
              "      <td>Bloomberg Crypto</td>\n",
              "      <td>.@novogratz is putting more of his money where...</td>\n",
              "      <td>['.', '@novogratz', 'putting', 'money', 'mouth...</td>\n",
              "      <td>['putting', 'money', 'mouth', 'come', 'cryptoc...</td>\n",
              "    </tr>\n",
              "    <tr>\n",
              "      <th>17</th>\n",
              "      <td>Business Insider</td>\n",
              "      <td>An exercise scientist explains why you shouldn...</td>\n",
              "      <td>['exercise', 'scientist', 'explains', 'shouldn...</td>\n",
              "      <td>['exercise', 'scientist', 'explains', 'shouldn...</td>\n",
              "    </tr>\n",
              "    <tr>\n",
              "      <th>18</th>\n",
              "      <td>Bloomberg Crypto</td>\n",
              "      <td>After a punishing year, crypto enthusiasts loo...</td>\n",
              "      <td>['punishing', 'year', ',', 'crypto', 'enthusia...</td>\n",
              "      <td>['punishing', 'year', 'crypto', 'enthusiast', ...</td>\n",
              "    </tr>\n",
              "    <tr>\n",
              "      <th>19</th>\n",
              "      <td>Business Insider</td>\n",
              "      <td>Honda's $4.9 million private jet is an absolut...</td>\n",
              "      <td>['hondas', '$', '4.9', 'million', 'private', '...</td>\n",
              "      <td>['hondas', 'million', 'private', 'jet', 'absol...</td>\n",
              "    </tr>\n",
              "  </tbody>\n",
              "</table>\n",
              "</div>\n",
              "      <button class=\"colab-df-convert\" onclick=\"convertToInteractive('df-7c52ace3-fbfa-48f2-85f0-127035cce713')\"\n",
              "              title=\"Convert this dataframe to an interactive table.\"\n",
              "              style=\"display:none;\">\n",
              "        \n",
              "  <svg xmlns=\"http://www.w3.org/2000/svg\" height=\"24px\"viewBox=\"0 0 24 24\"\n",
              "       width=\"24px\">\n",
              "    <path d=\"M0 0h24v24H0V0z\" fill=\"none\"/>\n",
              "    <path d=\"M18.56 5.44l.94 2.06.94-2.06 2.06-.94-2.06-.94-.94-2.06-.94 2.06-2.06.94zm-11 1L8.5 8.5l.94-2.06 2.06-.94-2.06-.94L8.5 2.5l-.94 2.06-2.06.94zm10 10l.94 2.06.94-2.06 2.06-.94-2.06-.94-.94-2.06-.94 2.06-2.06.94z\"/><path d=\"M17.41 7.96l-1.37-1.37c-.4-.4-.92-.59-1.43-.59-.52 0-1.04.2-1.43.59L10.3 9.45l-7.72 7.72c-.78.78-.78 2.05 0 2.83L4 21.41c.39.39.9.59 1.41.59.51 0 1.02-.2 1.41-.59l7.78-7.78 2.81-2.81c.8-.78.8-2.07 0-2.86zM5.41 20L4 18.59l7.72-7.72 1.47 1.35L5.41 20z\"/>\n",
              "  </svg>\n",
              "      </button>\n",
              "      \n",
              "  <style>\n",
              "    .colab-df-container {\n",
              "      display:flex;\n",
              "      flex-wrap:wrap;\n",
              "      gap: 12px;\n",
              "    }\n",
              "\n",
              "    .colab-df-convert {\n",
              "      background-color: #E8F0FE;\n",
              "      border: none;\n",
              "      border-radius: 50%;\n",
              "      cursor: pointer;\n",
              "      display: none;\n",
              "      fill: #1967D2;\n",
              "      height: 32px;\n",
              "      padding: 0 0 0 0;\n",
              "      width: 32px;\n",
              "    }\n",
              "\n",
              "    .colab-df-convert:hover {\n",
              "      background-color: #E2EBFA;\n",
              "      box-shadow: 0px 1px 2px rgba(60, 64, 67, 0.3), 0px 1px 3px 1px rgba(60, 64, 67, 0.15);\n",
              "      fill: #174EA6;\n",
              "    }\n",
              "\n",
              "    [theme=dark] .colab-df-convert {\n",
              "      background-color: #3B4455;\n",
              "      fill: #D2E3FC;\n",
              "    }\n",
              "\n",
              "    [theme=dark] .colab-df-convert:hover {\n",
              "      background-color: #434B5C;\n",
              "      box-shadow: 0px 1px 3px 1px rgba(0, 0, 0, 0.15);\n",
              "      filter: drop-shadow(0px 1px 2px rgba(0, 0, 0, 0.3));\n",
              "      fill: #FFFFFF;\n",
              "    }\n",
              "  </style>\n",
              "\n",
              "      <script>\n",
              "        const buttonEl =\n",
              "          document.querySelector('#df-7c52ace3-fbfa-48f2-85f0-127035cce713 button.colab-df-convert');\n",
              "        buttonEl.style.display =\n",
              "          google.colab.kernel.accessAllowed ? 'block' : 'none';\n",
              "\n",
              "        async function convertToInteractive(key) {\n",
              "          const element = document.querySelector('#df-7c52ace3-fbfa-48f2-85f0-127035cce713');\n",
              "          const dataTable =\n",
              "            await google.colab.kernel.invokeFunction('convertToInteractive',\n",
              "                                                     [key], {});\n",
              "          if (!dataTable) return;\n",
              "\n",
              "          const docLinkHtml = 'Like what you see? Visit the ' +\n",
              "            '<a target=\"_blank\" href=https://colab.research.google.com/notebooks/data_table.ipynb>data table notebook</a>'\n",
              "            + ' to learn more about interactive tables.';\n",
              "          element.innerHTML = '';\n",
              "          dataTable['output_type'] = 'display_data';\n",
              "          await google.colab.output.renderOutput(dataTable, element);\n",
              "          const docLink = document.createElement('div');\n",
              "          docLink.innerHTML = docLinkHtml;\n",
              "          element.appendChild(docLink);\n",
              "        }\n",
              "      </script>\n",
              "    </div>\n",
              "  </div>\n",
              "  "
            ]
          },
          "metadata": {},
          "execution_count": 258
        }
      ]
    },
    {
      "cell_type": "code",
      "source": [
        "X_train, X_test,y_train,y_test = train_test_split(X,y,test_size = 0.2,random_state =42,stratify =y) #TODO: with/without stratify we get the similar results"
      ],
      "metadata": {
        "id": "gHjvQ8zbQejo"
      },
      "id": "gHjvQ8zbQejo",
      "execution_count": 259,
      "outputs": []
    },
    {
      "cell_type": "code",
      "source": [
        "t0 = time.time()\n",
        "log_model_base = logreg_base.fit(X_train,y_train) #Train Model For Baseline\n",
        "print(\"Training time Baseline:\", time.time()-t0)\n",
        "\n",
        "t1 = time.time()\n",
        "log_model = logreg.fit(X_train,y_train) # Train Model After Clearing Text\n",
        "print(\"Training time Final:\", time.time()-t1)"
      ],
      "metadata": {
        "colab": {
          "base_uri": "https://localhost:8080/"
        },
        "id": "Q_EmiY8hR773",
        "outputId": "ddd3a268-2b23-4bcb-917d-1f651fa9caf6"
      },
      "id": "Q_EmiY8hR773",
      "execution_count": 260,
      "outputs": [
        {
          "output_type": "stream",
          "name": "stderr",
          "text": [
            "/usr/local/lib/python3.9/dist-packages/sklearn/linear_model/_logistic.py:458: ConvergenceWarning: lbfgs failed to converge (status=1):\n",
            "STOP: TOTAL NO. of ITERATIONS REACHED LIMIT.\n",
            "\n",
            "Increase the number of iterations (max_iter) or scale the data as shown in:\n",
            "    https://scikit-learn.org/stable/modules/preprocessing.html\n",
            "Please also refer to the documentation for alternative solver options:\n",
            "    https://scikit-learn.org/stable/modules/linear_model.html#logistic-regression\n",
            "  n_iter_i = _check_optimize_result(\n"
          ]
        },
        {
          "output_type": "stream",
          "name": "stdout",
          "text": [
            "Training time Baseline: 4.677935361862183\n",
            "Training time Final: 1.452660083770752\n"
          ]
        }
      ]
    },
    {
      "cell_type": "code",
      "source": [
        "y_pred_base = log_model_base.predict(X_test)\n",
        "y_pred = log_model.predict(X_test)"
      ],
      "metadata": {
        "id": "v1uaMhtxdoI6"
      },
      "id": "v1uaMhtxdoI6",
      "execution_count": 261,
      "outputs": []
    },
    {
      "cell_type": "code",
      "source": [
        "log_model.score(X_train, y_train)#Final score "
      ],
      "metadata": {
        "colab": {
          "base_uri": "https://localhost:8080/"
        },
        "id": "EeTAt9EXd1iQ",
        "outputId": "3f2264f0-f673-400d-ddc2-02d93977dd81"
      },
      "id": "EeTAt9EXd1iQ",
      "execution_count": 262,
      "outputs": [
        {
          "output_type": "execute_result",
          "data": {
            "text/plain": [
              "0.9307544970019986"
            ]
          },
          "metadata": {},
          "execution_count": 262
        }
      ]
    },
    {
      "cell_type": "code",
      "source": [
        "log_model.score(X_test, y_test)#Final score "
      ],
      "metadata": {
        "colab": {
          "base_uri": "https://localhost:8080/"
        },
        "id": "DFSqlXdPeyMb",
        "outputId": "8c875be6-3e92-45ee-ad64-f096a9ce5d42"
      },
      "id": "DFSqlXdPeyMb",
      "execution_count": 263,
      "outputs": [
        {
          "output_type": "execute_result",
          "data": {
            "text/plain": [
              "0.8199833472106578"
            ]
          },
          "metadata": {},
          "execution_count": 263
        }
      ]
    },
    {
      "cell_type": "code",
      "source": [
        "log_model_base.score(X_train, y_train) #Baseline score #overfitting diyebilir miyiz???"
      ],
      "metadata": {
        "colab": {
          "base_uri": "https://localhost:8080/"
        },
        "id": "ECWG3G9QgWuO",
        "outputId": "ea416e33-9558-46e6-d470-4d0defb9e205"
      },
      "id": "ECWG3G9QgWuO",
      "execution_count": 264,
      "outputs": [
        {
          "output_type": "execute_result",
          "data": {
            "text/plain": [
              "0.9676465689540307"
            ]
          },
          "metadata": {},
          "execution_count": 264
        }
      ]
    },
    {
      "cell_type": "code",
      "source": [
        "log_model_base.score(X_test, y_test)#Baseline score"
      ],
      "metadata": {
        "colab": {
          "base_uri": "https://localhost:8080/"
        },
        "id": "pGcha-P0gWMw",
        "outputId": "de4f7ec6-d3df-4ae0-be65-393c63af4ee5"
      },
      "id": "pGcha-P0gWMw",
      "execution_count": 265,
      "outputs": [
        {
          "output_type": "execute_result",
          "data": {
            "text/plain": [
              "0.8273105745212324"
            ]
          },
          "metadata": {},
          "execution_count": 265
        }
      ]
    },
    {
      "cell_type": "code",
      "source": [
        "confusion = confusion_matrix(y_test,y_pred)\n",
        "confusion\n",
        "#TP + TN  = 3075 + 1885 = 4960 (predicted right)\n",
        "#FP + FN = 526 + 519 = 1045 (predicted wrong)"
      ],
      "metadata": {
        "colab": {
          "base_uri": "https://localhost:8080/"
        },
        "id": "huetXfY-1HG1",
        "outputId": "3a3d70c9-9e82-451c-9b43-7dcedc940539"
      },
      "id": "huetXfY-1HG1",
      "execution_count": 267,
      "outputs": [
        {
          "output_type": "execute_result",
          "data": {
            "text/plain": [
              "array([[3053,  514],\n",
              "       [ 567, 1871]])"
            ]
          },
          "metadata": {},
          "execution_count": 267
        }
      ]
    },
    {
      "cell_type": "code",
      "source": [
        "print(classification_report(y_test,y_pred))\n",
        "#Precision:Accuracy of positive predictions. TP/(TP + FP)- not to label an instance positive that is actually negative\n",
        "#Recall: Fraction of positives that were correctly identified. TP/(TP+FN)\n",
        "#The F1 score is a weighted harmonic mean of precision and recall such that the best score is 1.0 and the worst is 0.0. (What percent of positive predictions were correct)\n",
        "#F1 Score = 2*(Recall * Precision) / (Recall + Precision)"
      ],
      "metadata": {
        "colab": {
          "base_uri": "https://localhost:8080/"
        },
        "id": "6n6EQsLpEAAs",
        "outputId": "206165c9-7202-47f7-f2f3-8184070be8fb"
      },
      "id": "6n6EQsLpEAAs",
      "execution_count": 268,
      "outputs": [
        {
          "output_type": "stream",
          "name": "stdout",
          "text": [
            "              precision    recall  f1-score   support\n",
            "\n",
            "           0       0.84      0.86      0.85      3567\n",
            "           1       0.78      0.77      0.78      2438\n",
            "\n",
            "    accuracy                           0.82      6005\n",
            "   macro avg       0.81      0.81      0.81      6005\n",
            "weighted avg       0.82      0.82      0.82      6005\n",
            "\n"
          ]
        }
      ]
    },
    {
      "cell_type": "code",
      "source": [
        "confusion = confusion_matrix(y_test,y_pred_base)\n",
        "confusion\n",
        "#TP + TN  = 3053 + 1895 = 4948 (predicted right)\n",
        "#FP + FN = 548 + 509 = 1057 (predicted wrong) "
      ],
      "metadata": {
        "colab": {
          "base_uri": "https://localhost:8080/"
        },
        "id": "ZEpy7lvrHxZ4",
        "outputId": "dd30e663-27c9-45d6-ce80-f2bd9f1ac91d"
      },
      "id": "ZEpy7lvrHxZ4",
      "execution_count": 269,
      "outputs": [
        {
          "output_type": "execute_result",
          "data": {
            "text/plain": [
              "array([[3071,  496],\n",
              "       [ 541, 1897]])"
            ]
          },
          "metadata": {},
          "execution_count": 269
        }
      ]
    },
    {
      "cell_type": "code",
      "source": [
        "print(classification_report(y_test,y_pred_base))"
      ],
      "metadata": {
        "colab": {
          "base_uri": "https://localhost:8080/"
        },
        "id": "G5D8rv_WH3Ig",
        "outputId": "a3bf4c98-3137-40b8-90b8-247b127f4a33"
      },
      "id": "G5D8rv_WH3Ig",
      "execution_count": 211,
      "outputs": [
        {
          "output_type": "stream",
          "name": "stdout",
          "text": [
            "              precision    recall  f1-score   support\n",
            "\n",
            "           0       0.85      0.86      0.86      3567\n",
            "           1       0.79      0.78      0.79      2438\n",
            "\n",
            "    accuracy                           0.83      6005\n",
            "   macro avg       0.82      0.82      0.82      6005\n",
            "weighted avg       0.83      0.83      0.83      6005\n",
            "\n"
          ]
        }
      ]
    },
    {
      "cell_type": "code",
      "source": [
        "#TODO: Optimize Threshold"
      ],
      "metadata": {
        "id": "h-4FMS1xc-S5"
      },
      "id": "h-4FMS1xc-S5",
      "execution_count": 212,
      "outputs": []
    },
    {
      "cell_type": "code",
      "source": [
        "y_pred_prob = log_model_base.predict_proba(X_test)"
      ],
      "metadata": {
        "id": "71oOLTnPcWKr"
      },
      "id": "71oOLTnPcWKr",
      "execution_count": 213,
      "outputs": []
    },
    {
      "cell_type": "code",
      "source": [
        "y_pred_prob.mean()"
      ],
      "metadata": {
        "colab": {
          "base_uri": "https://localhost:8080/"
        },
        "id": "cZ_oLqOOetIx",
        "outputId": "ca57f076-375d-4721-8a60-665cc470e43c"
      },
      "id": "cZ_oLqOOetIx",
      "execution_count": 214,
      "outputs": [
        {
          "output_type": "execute_result",
          "data": {
            "text/plain": [
              "0.5"
            ]
          },
          "metadata": {},
          "execution_count": 214
        }
      ]
    },
    {
      "cell_type": "code",
      "source": [
        "y_pred_prob_class_1 = y_pred_prob[:,1] #Get Business Classified Data"
      ],
      "metadata": {
        "id": "kjzV-zR0cv0y"
      },
      "id": "kjzV-zR0cv0y",
      "execution_count": 216,
      "outputs": []
    },
    {
      "cell_type": "code",
      "source": [
        "y_pred_class_1 = [1 if prob > 0.6 else 0 for prob in y_pred_prob_class_1] "
      ],
      "metadata": {
        "id": "YDqwsVbMc9zN"
      },
      "id": "YDqwsVbMc9zN",
      "execution_count": 245,
      "outputs": []
    },
    {
      "cell_type": "code",
      "source": [
        "print('Precision: '+ str(precision_score(y_test,y_pred_class_1, average='weighted'))) #micro,macro, weighted hangisi daha mantikli??"
      ],
      "metadata": {
        "colab": {
          "base_uri": "https://localhost:8080/"
        },
        "id": "_C6G8MM-dXaG",
        "outputId": "3707529a-af3e-4fc4-81e5-046180ba344c"
      },
      "id": "_C6G8MM-dXaG",
      "execution_count": 246,
      "outputs": [
        {
          "output_type": "stream",
          "name": "stdout",
          "text": [
            "Precision: 0.8178168789911816\n"
          ]
        }
      ]
    },
    {
      "cell_type": "code",
      "source": [
        "print(classification_report(y_test,y_pred_class_1))"
      ],
      "metadata": {
        "colab": {
          "base_uri": "https://localhost:8080/"
        },
        "id": "Ji5EFPjSEpvC",
        "outputId": "fbbc27dc-9e42-40cc-854f-6e51e52a8b23"
      },
      "id": "Ji5EFPjSEpvC",
      "execution_count": 247,
      "outputs": [
        {
          "output_type": "stream",
          "name": "stdout",
          "text": [
            "              precision    recall  f1-score   support\n",
            "\n",
            "           0       0.82      0.89      0.85      3567\n",
            "           1       0.82      0.71      0.76      2438\n",
            "\n",
            "    accuracy                           0.82      6005\n",
            "   macro avg       0.82      0.80      0.81      6005\n",
            "weighted avg       0.82      0.82      0.82      6005\n",
            "\n"
          ]
        }
      ]
    },
    {
      "cell_type": "code",
      "source": [
        "confusion = confusion_matrix(y_test,y_pred_class_1)\n",
        "confusion"
      ],
      "metadata": {
        "colab": {
          "base_uri": "https://localhost:8080/"
        },
        "id": "hdYCIXg5C1Am",
        "outputId": "e88426f3-e990-4208-cc38-266454b190ac"
      },
      "id": "hdYCIXg5C1Am",
      "execution_count": 297,
      "outputs": [
        {
          "output_type": "execute_result",
          "data": {
            "text/plain": [
              "array([[3175,  392],\n",
              "       [ 701, 1737]])"
            ]
          },
          "metadata": {},
          "execution_count": 297
        }
      ]
    },
    {
      "cell_type": "code",
      "source": [
        "#TODO: Optimize Threshold- precision recall curve"
      ],
      "metadata": {
        "id": "QQsFC-SIKZJV"
      },
      "id": "QQsFC-SIKZJV",
      "execution_count": null,
      "outputs": []
    },
    {
      "cell_type": "code",
      "source": [
        "from sklearn.metrics import precision_recall_curve\n",
        "from sklearn.metrics import PrecisionRecallDisplay\n",
        "from sklearn.metrics import average_precision_score"
      ],
      "metadata": {
        "id": "4eqF2NanKi8N"
      },
      "id": "4eqF2NanKi8N",
      "execution_count": 278,
      "outputs": []
    },
    {
      "cell_type": "code",
      "source": [
        "ap = average_precision_score(y_test, y_pred_prob_class_1)\n",
        "print(ap)"
      ],
      "metadata": {
        "colab": {
          "base_uri": "https://localhost:8080/"
        },
        "id": "cicZBuKzLwcv",
        "outputId": "4bd1fd90-24dd-4321-e6be-747993534c5b"
      },
      "id": "cicZBuKzLwcv",
      "execution_count": 285,
      "outputs": [
        {
          "output_type": "stream",
          "name": "stdout",
          "text": [
            "0.8451602829136833\n"
          ]
        }
      ]
    },
    {
      "cell_type": "code",
      "source": [
        "precision, recall, threshold = precision_recall_curve(y_test, y_pred_prob_class_1)\n",
        "prd = PrecisionRecallDisplay(precision, recall, average_precision=ap)\n",
        "prd.plot()"
      ],
      "metadata": {
        "colab": {
          "base_uri": "https://localhost:8080/",
          "height": 296
        },
        "id": "2nSE2l22KeOO",
        "outputId": "c0bae78c-5c99-4733-c2d3-93a16936a9a2"
      },
      "id": "2nSE2l22KeOO",
      "execution_count": 286,
      "outputs": [
        {
          "output_type": "execute_result",
          "data": {
            "text/plain": [
              "<sklearn.metrics._plot.precision_recall_curve.PrecisionRecallDisplay at 0x7f60eb6fbd60>"
            ]
          },
          "metadata": {},
          "execution_count": 286
        },
        {
          "output_type": "display_data",
          "data": {
            "text/plain": [
              "<Figure size 432x288 with 1 Axes>"
            ],
            "image/png": "[encoded data removed]"
          },
          "metadata": {
            "needs_background": "light"
          }
        }
      ]
    },
    {
      "cell_type": "code",
      "source": [
        "threshold.mean()"
      ],
      "metadata": {
        "colab": {
          "base_uri": "https://localhost:8080/"
        },
        "id": "JUgdiJkoNvhA",
        "outputId": "c1ca06ce-f527-4437-dfe6-09effc414286"
      },
      "id": "JUgdiJkoNvhA",
      "execution_count": 288,
      "outputs": [
        {
          "output_type": "execute_result",
          "data": {
            "text/plain": [
              "0.4005691020526133"
            ]
          },
          "metadata": {},
          "execution_count": 288
        }
      ]
    },
    {
      "cell_type": "code",
      "source": [
        "#Calculating the predicted probability value that maximizes the F1 score, which is the harmonic mean of precision and recall\n",
        "optimal_proba_cutoff = sorted(list(zip(np.abs(precision - recall), y_pred_prob_class_1)), key=lambda i: i[0], reverse=False)[0][1]\n",
        "roc_predictions = [1 if i >= optimal_proba_cutoff else 0 for i in y_pred_prob_class_1]"
      ],
      "metadata": {
        "id": "h74Pcv9UNkzS"
      },
      "id": "h74Pcv9UNkzS",
      "execution_count": 290,
      "outputs": []
    },
    {
      "cell_type": "code",
      "source": [
        "optimal_proba_cutoff"
      ],
      "metadata": {
        "colab": {
          "base_uri": "https://localhost:8080/"
        },
        "id": "PtpFOHf-BZwX",
        "outputId": "3007297d-1b41-4e25-cd7a-8f62f9990c54"
      },
      "id": "PtpFOHf-BZwX",
      "execution_count": 293,
      "outputs": [
        {
          "output_type": "execute_result",
          "data": {
            "text/plain": [
              "0.7879737213633002"
            ]
          },
          "metadata": {},
          "execution_count": 293
        }
      ]
    },
    {
      "cell_type": "code",
      "source": [
        "print(\"Precision Score Before and After Changing Thresholding: {}, {}\".format(precision_score(y_test, y_pred), precision_score(y_test, roc_predictions)))"
      ],
      "metadata": {
        "colab": {
          "base_uri": "https://localhost:8080/"
        },
        "id": "CGGd80UeOQTG",
        "outputId": "7db579ee-b2d2-4e45-c110-67a2d52413a7"
      },
      "id": "CGGd80UeOQTG",
      "execution_count": 295,
      "outputs": [
        {
          "output_type": "stream",
          "name": "stdout",
          "text": [
            "Precision Score Before and After Thresholding: 0.7844863731656184, 0.872651356993737\n"
          ]
        }
      ]
    },
    {
      "cell_type": "code",
      "source": [
        "print(classification_report(y_test,roc_predictions))"
      ],
      "metadata": {
        "colab": {
          "base_uri": "https://localhost:8080/"
        },
        "id": "Id5nnlORCqHH",
        "outputId": "93d6fea1-c785-4870-e2b0-54a7aceed374"
      },
      "id": "Id5nnlORCqHH",
      "execution_count": 296,
      "outputs": [
        {
          "output_type": "stream",
          "name": "stdout",
          "text": [
            "              precision    recall  f1-score   support\n",
            "\n",
            "           0       0.74      0.95      0.83      3567\n",
            "           1       0.87      0.51      0.65      2438\n",
            "\n",
            "    accuracy                           0.77      6005\n",
            "   macro avg       0.81      0.73      0.74      6005\n",
            "weighted avg       0.79      0.77      0.76      6005\n",
            "\n"
          ]
        }
      ]
    },
    {
      "cell_type": "code",
      "source": [
        "cv_results = cross_val_score(logreg,X_train,y_train, cv = 10)"
      ],
      "metadata": {
        "id": "QYqqpb8jJYX3"
      },
      "id": "QYqqpb8jJYX3",
      "execution_count": 248,
      "outputs": []
    },
    {
      "cell_type": "code",
      "source": [
        "print('Cross-Validation Accuracy Scores', cv_results) # Results are consistent - Average 0.82\n",
        "cv_results.mean()"
      ],
      "metadata": {
        "colab": {
          "base_uri": "https://localhost:8080/"
        },
        "id": "0VmiWhIjKXle",
        "outputId": "a69d769b-cd2b-4a39-ca47-88cf977c1bf2"
      },
      "id": "0VmiWhIjKXle",
      "execution_count": 249,
      "outputs": [
        {
          "output_type": "stream",
          "name": "stdout",
          "text": [
            "Cross-Validation Accuracy Scores [0.83388843 0.81973356 0.82764363 0.81890092 0.82348043 0.82306411\n",
            " 0.82632237 0.8300708  0.82757185 0.81091212]\n"
          ]
        },
        {
          "output_type": "execute_result",
          "data": {
            "text/plain": [
              "0.8241588208632195"
            ]
          },
          "metadata": {},
          "execution_count": 249
        }
      ]
    },
    {
      "cell_type": "code",
      "source": [
        "import numpy as np\n",
        "from sklearn.model_selection import GridSearchCV"
      ],
      "metadata": {
        "id": "lxb0H69fh-De"
      },
      "id": "lxb0H69fh-De",
      "execution_count": 250,
      "outputs": []
    },
    {
      "cell_type": "code",
      "source": [
        "#GridSearchCV\n",
        "logreg_param = {'regressor__max_iter':np.arange(100,400,50)} \n",
        "\n",
        "grid_search_base = GridSearchCV(logreg_base,logreg_param,scoring='precision', cv =5) ### TODO: Instead of scoring based on Accuracy, Precision is used. \n",
        "grid_search_base.fit(X_train,y_train)"
      ],
      "metadata": {
        "colab": {
          "base_uri": "https://localhost:8080/",
          "height": 1000
        },
        "id": "4UB2O3YTh-A8",
        "outputId": "d8ffce78-e73a-47b6-f19c-50743f42e87a"
      },
      "id": "4UB2O3YTh-A8",
      "execution_count": 251,
      "outputs": [
        {
          "output_type": "stream",
          "name": "stderr",
          "text": [
            "/usr/local/lib/python3.9/dist-packages/sklearn/linear_model/_logistic.py:458: ConvergenceWarning: lbfgs failed to converge (status=1):\n",
            "STOP: TOTAL NO. of ITERATIONS REACHED LIMIT.\n",
            "\n",
            "Increase the number of iterations (max_iter) or scale the data as shown in:\n",
            "    https://scikit-learn.org/stable/modules/preprocessing.html\n",
            "Please also refer to the documentation for alternative solver options:\n",
            "    https://scikit-learn.org/stable/modules/linear_model.html#logistic-regression\n",
            "  n_iter_i = _check_optimize_result(\n",
            "/usr/local/lib/python3.9/dist-packages/sklearn/linear_model/_logistic.py:458: ConvergenceWarning: lbfgs failed to converge (status=1):\n",
            "STOP: TOTAL NO. of ITERATIONS REACHED LIMIT.\n",
            "\n",
            "Increase the number of iterations (max_iter) or scale the data as shown in:\n",
            "    https://scikit-learn.org/stable/modules/preprocessing.html\n",
            "Please also refer to the documentation for alternative solver options:\n",
            "    https://scikit-learn.org/stable/modules/linear_model.html#logistic-regression\n",
            "  n_iter_i = _check_optimize_result(\n",
            "/usr/local/lib/python3.9/dist-packages/sklearn/linear_model/_logistic.py:458: ConvergenceWarning: lbfgs failed to converge (status=1):\n",
            "STOP: TOTAL NO. of ITERATIONS REACHED LIMIT.\n",
            "\n",
            "Increase the number of iterations (max_iter) or scale the data as shown in:\n",
            "    https://scikit-learn.org/stable/modules/preprocessing.html\n",
            "Please also refer to the documentation for alternative solver options:\n",
            "    https://scikit-learn.org/stable/modules/linear_model.html#logistic-regression\n",
            "  n_iter_i = _check_optimize_result(\n",
            "/usr/local/lib/python3.9/dist-packages/sklearn/linear_model/_logistic.py:458: ConvergenceWarning: lbfgs failed to converge (status=1):\n",
            "STOP: TOTAL NO. of ITERATIONS REACHED LIMIT.\n",
            "\n",
            "Increase the number of iterations (max_iter) or scale the data as shown in:\n",
            "    https://scikit-learn.org/stable/modules/preprocessing.html\n",
            "Please also refer to the documentation for alternative solver options:\n",
            "    https://scikit-learn.org/stable/modules/linear_model.html#logistic-regression\n",
            "  n_iter_i = _check_optimize_result(\n",
            "/usr/local/lib/python3.9/dist-packages/sklearn/linear_model/_logistic.py:458: ConvergenceWarning: lbfgs failed to converge (status=1):\n",
            "STOP: TOTAL NO. of ITERATIONS REACHED LIMIT.\n",
            "\n",
            "Increase the number of iterations (max_iter) or scale the data as shown in:\n",
            "    https://scikit-learn.org/stable/modules/preprocessing.html\n",
            "Please also refer to the documentation for alternative solver options:\n",
            "    https://scikit-learn.org/stable/modules/linear_model.html#logistic-regression\n",
            "  n_iter_i = _check_optimize_result(\n",
            "/usr/local/lib/python3.9/dist-packages/sklearn/linear_model/_logistic.py:458: ConvergenceWarning: lbfgs failed to converge (status=1):\n",
            "STOP: TOTAL NO. of ITERATIONS REACHED LIMIT.\n",
            "\n",
            "Increase the number of iterations (max_iter) or scale the data as shown in:\n",
            "    https://scikit-learn.org/stable/modules/preprocessing.html\n",
            "Please also refer to the documentation for alternative solver options:\n",
            "    https://scikit-learn.org/stable/modules/linear_model.html#logistic-regression\n",
            "  n_iter_i = _check_optimize_result(\n",
            "/usr/local/lib/python3.9/dist-packages/sklearn/linear_model/_logistic.py:458: ConvergenceWarning: lbfgs failed to converge (status=1):\n",
            "STOP: TOTAL NO. of ITERATIONS REACHED LIMIT.\n",
            "\n",
            "Increase the number of iterations (max_iter) or scale the data as shown in:\n",
            "    https://scikit-learn.org/stable/modules/preprocessing.html\n",
            "Please also refer to the documentation for alternative solver options:\n",
            "    https://scikit-learn.org/stable/modules/linear_model.html#logistic-regression\n",
            "  n_iter_i = _check_optimize_result(\n",
            "/usr/local/lib/python3.9/dist-packages/sklearn/linear_model/_logistic.py:458: ConvergenceWarning: lbfgs failed to converge (status=1):\n",
            "STOP: TOTAL NO. of ITERATIONS REACHED LIMIT.\n",
            "\n",
            "Increase the number of iterations (max_iter) or scale the data as shown in:\n",
            "    https://scikit-learn.org/stable/modules/preprocessing.html\n",
            "Please also refer to the documentation for alternative solver options:\n",
            "    https://scikit-learn.org/stable/modules/linear_model.html#logistic-regression\n",
            "  n_iter_i = _check_optimize_result(\n",
            "/usr/local/lib/python3.9/dist-packages/sklearn/linear_model/_logistic.py:458: ConvergenceWarning: lbfgs failed to converge (status=1):\n",
            "STOP: TOTAL NO. of ITERATIONS REACHED LIMIT.\n",
            "\n",
            "Increase the number of iterations (max_iter) or scale the data as shown in:\n",
            "    https://scikit-learn.org/stable/modules/preprocessing.html\n",
            "Please also refer to the documentation for alternative solver options:\n",
            "    https://scikit-learn.org/stable/modules/linear_model.html#logistic-regression\n",
            "  n_iter_i = _check_optimize_result(\n",
            "/usr/local/lib/python3.9/dist-packages/sklearn/linear_model/_logistic.py:458: ConvergenceWarning: lbfgs failed to converge (status=1):\n",
            "STOP: TOTAL NO. of ITERATIONS REACHED LIMIT.\n",
            "\n",
            "Increase the number of iterations (max_iter) or scale the data as shown in:\n",
            "    https://scikit-learn.org/stable/modules/preprocessing.html\n",
            "Please also refer to the documentation for alternative solver options:\n",
            "    https://scikit-learn.org/stable/modules/linear_model.html#logistic-regression\n",
            "  n_iter_i = _check_optimize_result(\n",
            "/usr/local/lib/python3.9/dist-packages/sklearn/linear_model/_logistic.py:458: ConvergenceWarning: lbfgs failed to converge (status=1):\n",
            "STOP: TOTAL NO. of ITERATIONS REACHED LIMIT.\n",
            "\n",
            "Increase the number of iterations (max_iter) or scale the data as shown in:\n",
            "    https://scikit-learn.org/stable/modules/preprocessing.html\n",
            "Please also refer to the documentation for alternative solver options:\n",
            "    https://scikit-learn.org/stable/modules/linear_model.html#logistic-regression\n",
            "  n_iter_i = _check_optimize_result(\n",
            "/usr/local/lib/python3.9/dist-packages/sklearn/linear_model/_logistic.py:458: ConvergenceWarning: lbfgs failed to converge (status=1):\n",
            "STOP: TOTAL NO. of ITERATIONS REACHED LIMIT.\n",
            "\n",
            "Increase the number of iterations (max_iter) or scale the data as shown in:\n",
            "    https://scikit-learn.org/stable/modules/preprocessing.html\n",
            "Please also refer to the documentation for alternative solver options:\n",
            "    https://scikit-learn.org/stable/modules/linear_model.html#logistic-regression\n",
            "  n_iter_i = _check_optimize_result(\n",
            "/usr/local/lib/python3.9/dist-packages/sklearn/linear_model/_logistic.py:458: ConvergenceWarning: lbfgs failed to converge (status=1):\n",
            "STOP: TOTAL NO. of ITERATIONS REACHED LIMIT.\n",
            "\n",
            "Increase the number of iterations (max_iter) or scale the data as shown in:\n",
            "    https://scikit-learn.org/stable/modules/preprocessing.html\n",
            "Please also refer to the documentation for alternative solver options:\n",
            "    https://scikit-learn.org/stable/modules/linear_model.html#logistic-regression\n",
            "  n_iter_i = _check_optimize_result(\n",
            "/usr/local/lib/python3.9/dist-packages/sklearn/linear_model/_logistic.py:458: ConvergenceWarning: lbfgs failed to converge (status=1):\n",
            "STOP: TOTAL NO. of ITERATIONS REACHED LIMIT.\n",
            "\n",
            "Increase the number of iterations (max_iter) or scale the data as shown in:\n",
            "    https://scikit-learn.org/stable/modules/preprocessing.html\n",
            "Please also refer to the documentation for alternative solver options:\n",
            "    https://scikit-learn.org/stable/modules/linear_model.html#logistic-regression\n",
            "  n_iter_i = _check_optimize_result(\n",
            "/usr/local/lib/python3.9/dist-packages/sklearn/linear_model/_logistic.py:458: ConvergenceWarning: lbfgs failed to converge (status=1):\n",
            "STOP: TOTAL NO. of ITERATIONS REACHED LIMIT.\n",
            "\n",
            "Increase the number of iterations (max_iter) or scale the data as shown in:\n",
            "    https://scikit-learn.org/stable/modules/preprocessing.html\n",
            "Please also refer to the documentation for alternative solver options:\n",
            "    https://scikit-learn.org/stable/modules/linear_model.html#logistic-regression\n",
            "  n_iter_i = _check_optimize_result(\n",
            "/usr/local/lib/python3.9/dist-packages/sklearn/linear_model/_logistic.py:458: ConvergenceWarning: lbfgs failed to converge (status=1):\n",
            "STOP: TOTAL NO. of ITERATIONS REACHED LIMIT.\n",
            "\n",
            "Increase the number of iterations (max_iter) or scale the data as shown in:\n",
            "    https://scikit-learn.org/stable/modules/preprocessing.html\n",
            "Please also refer to the documentation for alternative solver options:\n",
            "    https://scikit-learn.org/stable/modules/linear_model.html#logistic-regression\n",
            "  n_iter_i = _check_optimize_result(\n"
          ]
        },
        {
          "output_type": "execute_result",
          "data": {
            "text/plain": [
              "GridSearchCV(cv=5,\n",
              "             estimator=Pipeline(steps=[('preprocessor_logistic',\n",
              "                                        ColumnTransformer(transformers=[('cat',\n",
              "                                                                         Pipeline(steps=[('imputer',\n",
              "                                                                                          SimpleImputer(strategy='most_frequent')),\n",
              "                                                                                         ('onehot',\n",
              "                                                                                          OneHotEncoder(handle_unknown='ignore'))]),\n",
              "                                                                         ['usName']),\n",
              "                                                                        ('text',\n",
              "                                                                         Pipeline(steps=[('vectorizer',\n",
              "                                                                                          CountVectorizer())]),\n",
              "                                                                         'text')])),\n",
              "                                       ('regressor',\n",
              "                                        LogisticRegression(max_iter=200))]),\n",
              "             param_grid={'regressor__max_iter': array([100, 150, 200, 250, 300, 350])},\n",
              "             scoring='precision')"
            ],
            "text/html": [
              "<style>#sk-container-id-1 {color: black;background-color: white;}#sk-container-id-1 pre{padding: 0;}#sk-container-id-1 div.sk-toggleable {background-color: white;}#sk-container-id-1 label.sk-toggleable__label {cursor: pointer;display: block;width: 100%;margin-bottom: 0;padding: 0.3em;box-sizing: border-box;text-align: center;}#sk-container-id-1 label.sk-toggleable__label-arrow:before {content: \"▸\";float: left;margin-right: 0.25em;color: #696969;}#sk-container-id-1 label.sk-toggleable__label-arrow:hover:before {color: black;}#sk-container-id-1 div.sk-estimator:hover label.sk-toggleable__label-arrow:before {color: black;}#sk-container-id-1 div.sk-toggleable__content {max-height: 0;max-width: 0;overflow: hidden;text-align: left;background-color: #f0f8ff;}#sk-container-id-1 div.sk-toggleable__content pre {margin: 0.2em;color: black;border-radius: 0.25em;background-color: #f0f8ff;}#sk-container-id-1 input.sk-toggleable__control:checked~div.sk-toggleable__content {max-height: 200px;max-width: 100%;overflow: auto;}#sk-container-id-1 input.sk-toggleable__control:checked~label.sk-toggleable__label-arrow:before {content: \"▾\";}#sk-container-id-1 div.sk-estimator input.sk-toggleable__control:checked~label.sk-toggleable__label {background-color: #d4ebff;}#sk-container-id-1 div.sk-label input.sk-toggleable__control:checked~label.sk-toggleable__label {background-color: #d4ebff;}#sk-container-id-1 input.sk-hidden--visually {border: 0;clip: rect(1px 1px 1px 1px);clip: rect(1px, 1px, 1px, 1px);height: 1px;margin: -1px;overflow: hidden;padding: 0;position: absolute;width: 1px;}#sk-container-id-1 div.sk-estimator {font-family: monospace;background-color: #f0f8ff;border: 1px dotted black;border-radius: 0.25em;box-sizing: border-box;margin-bottom: 0.5em;}#sk-container-id-1 div.sk-estimator:hover {background-color: #d4ebff;}#sk-container-id-1 div.sk-parallel-item::after {content: \"\";width: 100%;border-bottom: 1px solid gray;flex-grow: 1;}#sk-container-id-1 div.sk-label:hover label.sk-toggleable__label {background-color: #d4ebff;}#sk-container-id-1 div.sk-serial::before {content: \"\";position: absolute;border-left: 1px solid gray;box-sizing: border-box;top: 0;bottom: 0;left: 50%;z-index: 0;}#sk-container-id-1 div.sk-serial {display: flex;flex-direction: column;align-items: center;background-color: white;padding-right: 0.2em;padding-left: 0.2em;position: relative;}#sk-container-id-1 div.sk-item {position: relative;z-index: 1;}#sk-container-id-1 div.sk-parallel {display: flex;align-items: stretch;justify-content: center;background-color: white;position: relative;}#sk-container-id-1 div.sk-item::before, #sk-container-id-1 div.sk-parallel-item::before {content: \"\";position: absolute;border-left: 1px solid gray;box-sizing: border-box;top: 0;bottom: 0;left: 50%;z-index: -1;}#sk-container-id-1 div.sk-parallel-item {display: flex;flex-direction: column;z-index: 1;position: relative;background-color: white;}#sk-container-id-1 div.sk-parallel-item:first-child::after {align-self: flex-end;width: 50%;}#sk-container-id-1 div.sk-parallel-item:last-child::after {align-self: flex-start;width: 50%;}#sk-container-id-1 div.sk-parallel-item:only-child::after {width: 0;}#sk-container-id-1 div.sk-dashed-wrapped {border: 1px dashed gray;margin: 0 0.4em 0.5em 0.4em;box-sizing: border-box;padding-bottom: 0.4em;background-color: white;}#sk-container-id-1 div.sk-label label {font-family: monospace;font-weight: bold;display: inline-block;line-height: 1.2em;}#sk-container-id-1 div.sk-label-container {text-align: center;}#sk-container-id-1 div.sk-container {/* jupyter's `normalize.less` sets `[hidden] { display: none; }` but bootstrap.min.css set `[hidden] { display: none !important; }` so we also need the `!important` here to be able to override the default hidden behavior on the sphinx rendered scikit-learn.org. See: https://github.com/scikit-learn/scikit-learn/issues/21755 */display: inline-block !important;position: relative;}#sk-container-id-1 div.sk-text-repr-fallback {display: none;}</style><div id=\"sk-container-id-1\" class=\"sk-top-container\"><div class=\"sk-text-repr-fallback\"><pre>GridSearchCV(cv=5,\n",
              "             estimator=Pipeline(steps=[(&#x27;preprocessor_logistic&#x27;,\n",
              "                                        ColumnTransformer(transformers=[(&#x27;cat&#x27;,\n",
              "                                                                         Pipeline(steps=[(&#x27;imputer&#x27;,\n",
              "                                                                                          SimpleImputer(strategy=&#x27;most_frequent&#x27;)),\n",
              "                                                                                         (&#x27;onehot&#x27;,\n",
              "                                                                                          OneHotEncoder(handle_unknown=&#x27;ignore&#x27;))]),\n",
              "                                                                         [&#x27;usName&#x27;]),\n",
              "                                                                        (&#x27;text&#x27;,\n",
              "                                                                         Pipeline(steps=[(&#x27;vectorizer&#x27;,\n",
              "                                                                                          CountVectorizer())]),\n",
              "                                                                         &#x27;text&#x27;)])),\n",
              "                                       (&#x27;regressor&#x27;,\n",
              "                                        LogisticRegression(max_iter=200))]),\n",
              "             param_grid={&#x27;regressor__max_iter&#x27;: array([100, 150, 200, 250, 300, 350])},\n",
              "             scoring=&#x27;precision&#x27;)</pre><b>In a Jupyter environment, please rerun this cell to show the HTML representation or trust the notebook. <br />On GitHub, the HTML representation is unable to render, please try loading this page with nbviewer.org.</b></div><div class=\"sk-container\" hidden><div class=\"sk-item sk-dashed-wrapped\"><div class=\"sk-label-container\"><div class=\"sk-label sk-toggleable\"><input class=\"sk-toggleable__control sk-hidden--visually\" id=\"sk-estimator-id-1\" type=\"checkbox\" ><label for=\"sk-estimator-id-1\" class=\"sk-toggleable__label sk-toggleable__label-arrow\">GridSearchCV</label><div class=\"sk-toggleable__content\"><pre>GridSearchCV(cv=5,\n",
              "             estimator=Pipeline(steps=[(&#x27;preprocessor_logistic&#x27;,\n",
              "                                        ColumnTransformer(transformers=[(&#x27;cat&#x27;,\n",
              "                                                                         Pipeline(steps=[(&#x27;imputer&#x27;,\n",
              "                                                                                          SimpleImputer(strategy=&#x27;most_frequent&#x27;)),\n",
              "                                                                                         (&#x27;onehot&#x27;,\n",
              "                                                                                          OneHotEncoder(handle_unknown=&#x27;ignore&#x27;))]),\n",
              "                                                                         [&#x27;usName&#x27;]),\n",
              "                                                                        (&#x27;text&#x27;,\n",
              "                                                                         Pipeline(steps=[(&#x27;vectorizer&#x27;,\n",
              "                                                                                          CountVectorizer())]),\n",
              "                                                                         &#x27;text&#x27;)])),\n",
              "                                       (&#x27;regressor&#x27;,\n",
              "                                        LogisticRegression(max_iter=200))]),\n",
              "             param_grid={&#x27;regressor__max_iter&#x27;: array([100, 150, 200, 250, 300, 350])},\n",
              "             scoring=&#x27;precision&#x27;)</pre></div></div></div><div class=\"sk-parallel\"><div class=\"sk-parallel-item\"><div class=\"sk-item\"><div class=\"sk-label-container\"><div class=\"sk-label sk-toggleable\"><input class=\"sk-toggleable__control sk-hidden--visually\" id=\"sk-estimator-id-2\" type=\"checkbox\" ><label for=\"sk-estimator-id-2\" class=\"sk-toggleable__label sk-toggleable__label-arrow\">estimator: Pipeline</label><div class=\"sk-toggleable__content\"><pre>Pipeline(steps=[(&#x27;preprocessor_logistic&#x27;,\n",
              "                 ColumnTransformer(transformers=[(&#x27;cat&#x27;,\n",
              "                                                  Pipeline(steps=[(&#x27;imputer&#x27;,\n",
              "                                                                   SimpleImputer(strategy=&#x27;most_frequent&#x27;)),\n",
              "                                                                  (&#x27;onehot&#x27;,\n",
              "                                                                   OneHotEncoder(handle_unknown=&#x27;ignore&#x27;))]),\n",
              "                                                  [&#x27;usName&#x27;]),\n",
              "                                                 (&#x27;text&#x27;,\n",
              "                                                  Pipeline(steps=[(&#x27;vectorizer&#x27;,\n",
              "                                                                   CountVectorizer())]),\n",
              "                                                  &#x27;text&#x27;)])),\n",
              "                (&#x27;regressor&#x27;, LogisticRegression(max_iter=200))])</pre></div></div></div><div class=\"sk-serial\"><div class=\"sk-item\"><div class=\"sk-serial\"><div class=\"sk-item sk-dashed-wrapped\"><div class=\"sk-label-container\"><div class=\"sk-label sk-toggleable\"><input class=\"sk-toggleable__control sk-hidden--visually\" id=\"sk-estimator-id-3\" type=\"checkbox\" ><label for=\"sk-estimator-id-3\" class=\"sk-toggleable__label sk-toggleable__label-arrow\">preprocessor_logistic: ColumnTransformer</label><div class=\"sk-toggleable__content\"><pre>ColumnTransformer(transformers=[(&#x27;cat&#x27;,\n",
              "                                 Pipeline(steps=[(&#x27;imputer&#x27;,\n",
              "                                                  SimpleImputer(strategy=&#x27;most_frequent&#x27;)),\n",
              "                                                 (&#x27;onehot&#x27;,\n",
              "                                                  OneHotEncoder(handle_unknown=&#x27;ignore&#x27;))]),\n",
              "                                 [&#x27;usName&#x27;]),\n",
              "                                (&#x27;text&#x27;,\n",
              "                                 Pipeline(steps=[(&#x27;vectorizer&#x27;,\n",
              "                                                  CountVectorizer())]),\n",
              "                                 &#x27;text&#x27;)])</pre></div></div></div><div class=\"sk-parallel\"><div class=\"sk-parallel-item\"><div class=\"sk-item\"><div class=\"sk-label-container\"><div class=\"sk-label sk-toggleable\"><input class=\"sk-toggleable__control sk-hidden--visually\" id=\"sk-estimator-id-4\" type=\"checkbox\" ><label for=\"sk-estimator-id-4\" class=\"sk-toggleable__label sk-toggleable__label-arrow\">cat</label><div class=\"sk-toggleable__content\"><pre>[&#x27;usName&#x27;]</pre></div></div></div><div class=\"sk-serial\"><div class=\"sk-item\"><div class=\"sk-serial\"><div class=\"sk-item\"><div class=\"sk-estimator sk-toggleable\"><input class=\"sk-toggleable__control sk-hidden--visually\" id=\"sk-estimator-id-5\" type=\"checkbox\" ><label for=\"sk-estimator-id-5\" class=\"sk-toggleable__label sk-toggleable__label-arrow\">SimpleImputer</label><div class=\"sk-toggleable__content\"><pre>SimpleImputer(strategy=&#x27;most_frequent&#x27;)</pre></div></div></div><div class=\"sk-item\"><div class=\"sk-estimator sk-toggleable\"><input class=\"sk-toggleable__control sk-hidden--visually\" id=\"sk-estimator-id-6\" type=\"checkbox\" ><label for=\"sk-estimator-id-6\" class=\"sk-toggleable__label sk-toggleable__label-arrow\">OneHotEncoder</label><div class=\"sk-toggleable__content\"><pre>OneHotEncoder(handle_unknown=&#x27;ignore&#x27;)</pre></div></div></div></div></div></div></div></div><div class=\"sk-parallel-item\"><div class=\"sk-item\"><div class=\"sk-label-container\"><div class=\"sk-label sk-toggleable\"><input class=\"sk-toggleable__control sk-hidden--visually\" id=\"sk-estimator-id-7\" type=\"checkbox\" ><label for=\"sk-estimator-id-7\" class=\"sk-toggleable__label sk-toggleable__label-arrow\">text</label><div class=\"sk-toggleable__content\"><pre>text</pre></div></div></div><div class=\"sk-serial\"><div class=\"sk-item\"><div class=\"sk-serial\"><div class=\"sk-item\"><div class=\"sk-estimator sk-toggleable\"><input class=\"sk-toggleable__control sk-hidden--visually\" id=\"sk-estimator-id-8\" type=\"checkbox\" ><label for=\"sk-estimator-id-8\" class=\"sk-toggleable__label sk-toggleable__label-arrow\">CountVectorizer</label><div class=\"sk-toggleable__content\"><pre>CountVectorizer()</pre></div></div></div></div></div></div></div></div></div></div><div class=\"sk-item\"><div class=\"sk-estimator sk-toggleable\"><input class=\"sk-toggleable__control sk-hidden--visually\" id=\"sk-estimator-id-9\" type=\"checkbox\" ><label for=\"sk-estimator-id-9\" class=\"sk-toggleable__label sk-toggleable__label-arrow\">LogisticRegression</label><div class=\"sk-toggleable__content\"><pre>LogisticRegression(max_iter=200)</pre></div></div></div></div></div></div></div></div></div></div></div></div>"
            ]
          },
          "metadata": {},
          "execution_count": 251
        }
      ]
    },
    {
      "cell_type": "code",
      "source": [
        "print(grid_search_base.best_estimator_)"
      ],
      "metadata": {
        "colab": {
          "base_uri": "https://localhost:8080/"
        },
        "id": "r1KxE28Eh93m",
        "outputId": "7a0320e6-1466-446f-877f-9b93dade658f"
      },
      "id": "r1KxE28Eh93m",
      "execution_count": 252,
      "outputs": [
        {
          "output_type": "stream",
          "name": "stdout",
          "text": [
            "Pipeline(steps=[('preprocessor_logistic',\n",
            "                 ColumnTransformer(transformers=[('cat',\n",
            "                                                  Pipeline(steps=[('imputer',\n",
            "                                                                   SimpleImputer(strategy='most_frequent')),\n",
            "                                                                  ('onehot',\n",
            "                                                                   OneHotEncoder(handle_unknown='ignore'))]),\n",
            "                                                  ['usName']),\n",
            "                                                 ('text',\n",
            "                                                  Pipeline(steps=[('vectorizer',\n",
            "                                                                   CountVectorizer())]),\n",
            "                                                  'text')])),\n",
            "                ('regressor', LogisticRegression(max_iter=250))])\n"
          ]
        }
      ]
    },
    {
      "cell_type": "code",
      "source": [
        "#>>>>Decision Tree Classifier<<<<<"
      ],
      "metadata": {
        "id": "obr8vk85LCYi"
      },
      "id": "obr8vk85LCYi",
      "execution_count": null,
      "outputs": []
    },
    {
      "cell_type": "code",
      "source": [
        "from sklearn.tree import DecisionTreeClassifier\n",
        "from sklearn.metrics import accuracy_score\n"
      ],
      "metadata": {
        "id": "XKQmTQw1LGqR"
      },
      "id": "XKQmTQw1LGqR",
      "execution_count": null,
      "outputs": []
    },
    {
      "cell_type": "code",
      "source": [
        "df_model.info()"
      ],
      "metadata": {
        "id": "1UBKiP8w_6gZ"
      },
      "id": "1UBKiP8w_6gZ",
      "execution_count": null,
      "outputs": []
    },
    {
      "cell_type": "code",
      "source": [
        "#Create Pipelines for Categorical and Text Features\n",
        "\n",
        "steps_cat_decision = [('imputer', SimpleImputer(strategy ='most_frequent')),\n",
        "                      ('onehot',OneHotEncoder(handle_unknown = 'ignore'))]\n",
        "\n",
        "steps_text_decision = [('vector', CountVectorizer())]\n",
        "\n",
        "\n",
        "categorical_transformer = Pipeline(steps = steps_cat_decision)\n",
        "text_transformer = Pipeline(steps = steps_text_decision)\n",
        "\n",
        "cat_features = ['usName']\n",
        "text_features_baseline = 'tokens'\n",
        "text_features_final = 'tokens_lemmatize'\n",
        "\n",
        "\n",
        "#ColumnTransformer\n",
        "preprocessor_decision_baseline = ColumnTransformer(transformers = [('cat',categorical_transformer,cat_features),\n",
        "                                                                   ('text', text_transformer,text_features_baseline)])\n",
        "\n",
        "preprocessor_decision_final = ColumnTransformer(transformers = [('cat',categorical_transformer,cat_features),\n",
        "                                                                ('text',text_transformer,text_features_final)])\n",
        "\n",
        "#Pipeline\n",
        "decision_tree_base = Pipeline(steps = [('preprocessor_decision_baseline', preprocessor_decision_baseline),\n",
        "                                       ('decision_tree', DecisionTreeClassifier(max_depth = 9, random_state =42))])\n",
        "\n",
        "decision_tree = Pipeline(steps = [('preprocessor_decision-final',preprocessor_decision_final),\n",
        "                                  ('decision_tree', DecisionTreeClassifier(max_depth = 9, random_state =42))])\n",
        "\n",
        "\n",
        "#Define X and y\n",
        "y = df_model.edInput \n",
        "X = df_model.drop('edInput',axis =1).astype(str)\n"
      ],
      "metadata": {
        "id": "ordl1gOo4k1V"
      },
      "id": "ordl1gOo4k1V",
      "execution_count": null,
      "outputs": []
    },
    {
      "cell_type": "code",
      "source": [
        "X_train, X_test,y_train,y_test = train_test_split(X,y,test_size = 0.2,random_state =42)\n",
        "\n",
        "#Fit\n",
        "decision_tree_model_base = decision_tree_base.fit(X_train,y_train)\n",
        "\n",
        "decision_tree_model = decision_tree.fit(X_train,y_train)\n",
        "\n",
        "#Predict\n",
        "t0 = time.time()\n",
        "y_pred_tree_baseline = decision_tree_model_base.predict(X_test)\n",
        "print(\"Training time Baseline:\", time.time()-t0)\n",
        "\n",
        "t1 = time.time()\n",
        "y_pred_tree_final = decision_tree_model.predict(X_test)\n",
        "print(\"Training time Final:\", time.time()-t1)\n",
        "\n",
        "#Accuracy\n",
        "acc_baseline = accuracy_score(y_test,y_pred_tree_baseline)\n",
        "print('Accuracy Score - Baseline: '+ str(acc_baseline))\n",
        "\n",
        "acc_final = accuracy_score(y_test,y_pred_tree_final)\n",
        "print('Accuracy Score - Final: '+ str(acc_final))\n",
        "\n",
        "#Cross Validation\n",
        "cv_results_base = cross_val_score(decision_tree_base,X_train,y_train, cv=10)\n",
        "print('CV Results - Baseline: ' + str(cv_results_base.mean()))\n",
        "\n",
        "cv_results_final = cross_val_score(decision_tree, X_train,y_train, cv=10)\n",
        "print('CV Results - Final: ' + str(cv_results_final.mean()))"
      ],
      "metadata": {
        "id": "N0mIfi1S4kyg"
      },
      "id": "N0mIfi1S4kyg",
      "execution_count": null,
      "outputs": []
    },
    {
      "cell_type": "code",
      "source": [
        "###TODO: RandomForest ile denilecek."
      ],
      "metadata": {
        "id": "yMy5R981Diur"
      },
      "id": "yMy5R981Diur",
      "execution_count": null,
      "outputs": []
    },
    {
      "cell_type": "code",
      "source": [
        "import numpy as np\n",
        "from sklearn.model_selection import GridSearchCV"
      ],
      "metadata": {
        "id": "-YmVGJTWN_jI"
      },
      "id": "-YmVGJTWN_jI",
      "execution_count": null,
      "outputs": []
    },
    {
      "cell_type": "code",
      "source": [
        "#GridSearchCV\n",
        "tree_param = {'decision_tree__max_depth':np.arange(1,10,2)}\n",
        "#'criterion':['gini','entropy'],'max_depth':[4,5,6,7,8,9,10,11,12,15,20,30,40,50,70,90,120,150]\n",
        "\n",
        "grid_search_base = GridSearchCV(decision_tree_base,tree_param,scoring='accuracy', cv =5)\n",
        "grid_search_base.fit(X_train,y_train)"
      ],
      "metadata": {
        "id": "3iwBd7Rl4kp7"
      },
      "id": "3iwBd7Rl4kp7",
      "execution_count": null,
      "outputs": []
    },
    {
      "cell_type": "code",
      "source": [
        "print(grid_search_base.best_estimator_)"
      ],
      "metadata": {
        "id": "C9vsCL-DPL_3"
      },
      "id": "C9vsCL-DPL_3",
      "execution_count": null,
      "outputs": []
    },
    {
      "cell_type": "code",
      "source": [
        "#GridSearchCV\n",
        "tree_param = {'decision_tree__max_depth':np.arange(1,10,2)}\n",
        "#'criterion':['gini','entropy'],'max_depth':[4,5,6,7,8,9,10,11,12,15,20,30,40,50,70,90,120,150]\n",
        "\n",
        "grid_search_final = GridSearchCV(decision_tree,tree_param,scoring='accuracy', cv =5)\n",
        "grid_search_final.fit(X_train,y_train)"
      ],
      "metadata": {
        "id": "mSCsduIiPpm9"
      },
      "id": "mSCsduIiPpm9",
      "execution_count": null,
      "outputs": []
    },
    {
      "cell_type": "code",
      "source": [
        "print(grid_search_final.best_estimator_)"
      ],
      "metadata": {
        "id": "883lPiK6PwtE"
      },
      "id": "883lPiK6PwtE",
      "execution_count": null,
      "outputs": []
    },
    {
      "cell_type": "code",
      "source": [
        "df_section.info()"
      ],
      "metadata": {
        "id": "kJvvTK6TjFC6"
      },
      "id": "kJvvTK6TjFC6",
      "execution_count": null,
      "outputs": []
    },
    {
      "cell_type": "code",
      "execution_count": null,
      "id": "57171e87",
      "metadata": {
        "id": "57171e87"
      },
      "outputs": [],
      "source": [
        "#use this part to split the text column\n",
        "#X = df_section.iloc[4:5,5].to_string().split(\",\")"
      ]
    },
    {
      "cell_type": "code",
      "execution_count": null,
      "id": "2f9d1b23",
      "metadata": {
        "id": "2f9d1b23"
      },
      "outputs": [],
      "source": [
        "#Notes:\n",
        "#    1. Check urllinks - related to business websites\n",
        "#    2. Agirlik ortalamasi belirlemek \n",
        "#    3. drop duplicates"
      ]
    },
    {
      "cell_type": "code",
      "execution_count": null,
      "id": "0fcd818b",
      "metadata": {
        "id": "0fcd818b"
      },
      "outputs": [],
      "source": []
    },
    {
      "cell_type": "code",
      "execution_count": null,
      "id": "9e007ec3",
      "metadata": {
        "id": "9e007ec3"
      },
      "outputs": [],
      "source": []
    }
  ],
  "metadata": {
    "kernelspec": {
      "display_name": "Python 3 (ipykernel)",
      "language": "python",
      "name": "python3"
    },
    "language_info": {
      "codemirror_mode": {
        "name": "ipython",
        "version": 3
      },
      "file_extension": ".py",
      "mimetype": "text/x-python",
      "name": "python",
      "nbconvert_exporter": "python",
      "pygments_lexer": "ipython3",
      "version": "3.9.13"
    },
    "colab": {
      "provenance": [],
      "include_colab_link": true
    }
  },
  "nbformat": 4,
  "nbformat_minor": 5
}